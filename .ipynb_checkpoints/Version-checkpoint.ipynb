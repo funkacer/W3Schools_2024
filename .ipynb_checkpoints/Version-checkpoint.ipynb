{
 "cells": [
  {
   "cell_type": "markdown",
   "id": "f547130f-95ae-4c39-a2e9-0dac65ab2b23",
   "metadata": {},
   "source": [
    "https://docs.python.org/3/library/importlib.metadata.html"
   ]
  },
  {
   "cell_type": "code",
   "execution_count": null,
   "id": "fc9fb843-7b15-4551-92f1-f0c4e044a2c6",
   "metadata": {},
   "outputs": [],
   "source": [
    "import pandas as pd\n",
    "import numpy as np"
   ]
  },
  {
   "cell_type": "code",
   "execution_count": 3,
   "id": "11d3f80e-6362-4ca2-b4ac-3f1ed592b004",
   "metadata": {},
   "outputs": [
    {
     "data": {
      "text/plain": [
       "'2.1.4'"
      ]
     },
     "execution_count": 3,
     "metadata": {},
     "output_type": "execute_result"
    }
   ],
   "source": [
    "pd.__version__"
   ]
  },
  {
   "cell_type": "code",
   "execution_count": 4,
   "id": "3c058317-1dd1-4818-9cca-c172484a62b4",
   "metadata": {},
   "outputs": [
    {
     "data": {
      "text/plain": [
       "'1.26.3'"
      ]
     },
     "execution_count": 4,
     "metadata": {},
     "output_type": "execute_result"
    }
   ],
   "source": [
    "np.__version__"
   ]
  },
  {
   "cell_type": "code",
   "execution_count": 5,
   "id": "56fa7526-c841-4070-b4bf-3f7c69dab971",
   "metadata": {},
   "outputs": [],
   "source": [
    "from importlib.metadata import version"
   ]
  },
  {
   "cell_type": "code",
   "execution_count": 11,
   "id": "0bf3103b-71f3-458e-8f78-87485a304ba9",
   "metadata": {},
   "outputs": [
    {
     "name": "stdout",
     "output_type": "stream",
     "text": [
      "2.1.4\n"
     ]
    }
   ],
   "source": [
    "#print(version('pd')) # nejde\n",
    "print(version('pandas'))"
   ]
  },
  {
   "cell_type": "code",
   "execution_count": 12,
   "id": "24b7875d-e15f-42dc-8209-fe25356346c0",
   "metadata": {},
   "outputs": [
    {
     "name": "stdout",
     "output_type": "stream",
     "text": [
      "1.26.3\n"
     ]
    }
   ],
   "source": [
    "print(version('numpy'))"
   ]
  },
  {
   "cell_type": "code",
   "execution_count": 18,
   "id": "13ece343-5670-4262-8fad-a0008ad8025f",
   "metadata": {},
   "outputs": [],
   "source": [
    "from importlib.metadata import metadata"
   ]
  },
  {
   "cell_type": "code",
   "execution_count": 19,
   "id": "37d6f8a6-99d0-42a8-9487-5bfe5039ff2f",
   "metadata": {},
   "outputs": [
    {
     "data": {
      "text/plain": [
       "['Metadata-Version',\n",
       " 'Name',\n",
       " 'Version',\n",
       " 'Summary',\n",
       " 'Home-page',\n",
       " 'Author-Email',\n",
       " 'License',\n",
       " 'Classifier',\n",
       " 'Classifier',\n",
       " 'Classifier',\n",
       " 'Classifier',\n",
       " 'Classifier',\n",
       " 'Classifier',\n",
       " 'Classifier',\n",
       " 'Classifier',\n",
       " 'Classifier',\n",
       " 'Classifier',\n",
       " 'Classifier',\n",
       " 'Classifier',\n",
       " 'Classifier',\n",
       " 'Project-URL',\n",
       " 'Project-URL',\n",
       " 'Project-URL',\n",
       " 'Requires-Python',\n",
       " 'Requires-Dist',\n",
       " 'Requires-Dist',\n",
       " 'Requires-Dist',\n",
       " 'Requires-Dist',\n",
       " 'Requires-Dist',\n",
       " 'Requires-Dist',\n",
       " 'Requires-Dist',\n",
       " 'Requires-Dist',\n",
       " 'Requires-Dist',\n",
       " 'Requires-Dist',\n",
       " 'Requires-Dist',\n",
       " 'Requires-Dist',\n",
       " 'Requires-Dist',\n",
       " 'Requires-Dist',\n",
       " 'Requires-Dist',\n",
       " 'Requires-Dist',\n",
       " 'Requires-Dist',\n",
       " 'Requires-Dist',\n",
       " 'Requires-Dist',\n",
       " 'Requires-Dist',\n",
       " 'Requires-Dist',\n",
       " 'Requires-Dist',\n",
       " 'Requires-Dist',\n",
       " 'Requires-Dist',\n",
       " 'Requires-Dist',\n",
       " 'Requires-Dist',\n",
       " 'Requires-Dist',\n",
       " 'Requires-Dist',\n",
       " 'Requires-Dist',\n",
       " 'Requires-Dist',\n",
       " 'Requires-Dist',\n",
       " 'Requires-Dist',\n",
       " 'Requires-Dist',\n",
       " 'Requires-Dist',\n",
       " 'Requires-Dist',\n",
       " 'Requires-Dist',\n",
       " 'Requires-Dist',\n",
       " 'Requires-Dist',\n",
       " 'Requires-Dist',\n",
       " 'Requires-Dist',\n",
       " 'Requires-Dist',\n",
       " 'Requires-Dist',\n",
       " 'Requires-Dist',\n",
       " 'Requires-Dist',\n",
       " 'Requires-Dist',\n",
       " 'Requires-Dist',\n",
       " 'Requires-Dist',\n",
       " 'Requires-Dist',\n",
       " 'Requires-Dist',\n",
       " 'Requires-Dist',\n",
       " 'Requires-Dist',\n",
       " 'Requires-Dist',\n",
       " 'Requires-Dist',\n",
       " 'Requires-Dist',\n",
       " 'Requires-Dist',\n",
       " 'Requires-Dist',\n",
       " 'Requires-Dist',\n",
       " 'Requires-Dist',\n",
       " 'Requires-Dist',\n",
       " 'Requires-Dist',\n",
       " 'Requires-Dist',\n",
       " 'Requires-Dist',\n",
       " 'Requires-Dist',\n",
       " 'Requires-Dist',\n",
       " 'Requires-Dist',\n",
       " 'Requires-Dist',\n",
       " 'Requires-Dist',\n",
       " 'Requires-Dist',\n",
       " 'Requires-Dist',\n",
       " 'Requires-Dist',\n",
       " 'Requires-Dist',\n",
       " 'Requires-Dist',\n",
       " 'Requires-Dist',\n",
       " 'Requires-Dist',\n",
       " 'Requires-Dist',\n",
       " 'Requires-Dist',\n",
       " 'Requires-Dist',\n",
       " 'Provides-Extra',\n",
       " 'Provides-Extra',\n",
       " 'Provides-Extra',\n",
       " 'Provides-Extra',\n",
       " 'Provides-Extra',\n",
       " 'Provides-Extra',\n",
       " 'Provides-Extra',\n",
       " 'Provides-Extra',\n",
       " 'Provides-Extra',\n",
       " 'Provides-Extra',\n",
       " 'Provides-Extra',\n",
       " 'Provides-Extra',\n",
       " 'Provides-Extra',\n",
       " 'Provides-Extra',\n",
       " 'Provides-Extra',\n",
       " 'Provides-Extra',\n",
       " 'Provides-Extra',\n",
       " 'Provides-Extra',\n",
       " 'Provides-Extra',\n",
       " 'Provides-Extra',\n",
       " 'Provides-Extra',\n",
       " 'Provides-Extra',\n",
       " 'Description-Content-Type',\n",
       " 'Description']"
      ]
     },
     "execution_count": 19,
     "metadata": {},
     "output_type": "execute_result"
    }
   ],
   "source": [
    "list(metadata('pandas'))"
   ]
  },
  {
   "cell_type": "code",
   "execution_count": 23,
   "id": "8e8386b5-050a-498e-835c-2ba1d5223a02",
   "metadata": {},
   "outputs": [
    {
     "data": {
      "text/plain": [
       "'>=3.9'"
      ]
     },
     "execution_count": 23,
     "metadata": {},
     "output_type": "execute_result"
    }
   ],
   "source": [
    "metadata('pandas')['Requires-Python']"
   ]
  },
  {
   "cell_type": "code",
   "execution_count": null,
   "id": "30adf609-8a79-4884-89ad-d419794c00f5",
   "metadata": {},
   "outputs": [],
   "source": [
    "list(metadata('numpy'))"
   ]
  },
  {
   "cell_type": "code",
   "execution_count": 21,
   "id": "9cfba316-e67b-49fb-82e4-886a8d5c1921",
   "metadata": {},
   "outputs": [
    {
     "data": {
      "text/plain": [
       "'>=3.9'"
      ]
     },
     "execution_count": 21,
     "metadata": {},
     "output_type": "execute_result"
    }
   ],
   "source": [
    "metadata('numpy')['Requires-Python']"
   ]
  },
  {
   "cell_type": "code",
   "execution_count": null,
   "id": "54e363aa-75ec-4b7b-bc1e-d87831a182ff",
   "metadata": {},
   "outputs": [],
   "source": []
  }
 ],
 "metadata": {
  "kernelspec": {
   "display_name": "Python 3 (ipykernel)",
   "language": "python",
   "name": "python3"
  },
  "language_info": {
   "codemirror_mode": {
    "name": "ipython",
    "version": 3
   },
   "file_extension": ".py",
   "mimetype": "text/x-python",
   "name": "python",
   "nbconvert_exporter": "python",
   "pygments_lexer": "ipython3",
   "version": "3.12.1"
  }
 },
 "nbformat": 4,
 "nbformat_minor": 5
}
