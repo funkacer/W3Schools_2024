{
 "cells": [
  {
   "cell_type": "code",
   "execution_count": 1,
   "id": "b95839f3-b030-421c-9a24-85f4d33d1e89",
   "metadata": {},
   "outputs": [],
   "source": [
    "import pandas as pd"
   ]
  },
  {
   "cell_type": "code",
   "execution_count": null,
   "id": "7d944d8b-155f-4c2b-b3be-2cc28068b2c1",
   "metadata": {},
   "outputs": [],
   "source": [
    "# Duplicate rows are rows that have been registered more than one time.\n",
    "\n",
    "df = pd.read_csv('data.csv')\n",
    "\n",
    "print(df.duplicated())\n",
    "\n",
    "#Notice in the result: duplicated values are True (in row 12)."
   ]
  },
  {
   "cell_type": "code",
   "execution_count": 3,
   "id": "4f0b3089-03f1-4c70-baef-25b01f573fce",
   "metadata": {},
   "outputs": [
    {
     "name": "stdout",
     "output_type": "stream",
     "text": [
      "    Duration          Date  Pulse  Maxpulse  Calories\n",
      "12        60  '2020/12/12'    100       120     250.7\n"
     ]
    }
   ],
   "source": [
    "#duplicated row only\n",
    "print(df[df.duplicated()])"
   ]
  },
  {
   "cell_type": "code",
   "execution_count": 4,
   "id": "9909125b-d2f5-4e1d-a71e-9a0738609498",
   "metadata": {},
   "outputs": [
    {
     "name": "stdout",
     "output_type": "stream",
     "text": [
      "Index([12], dtype='int64')\n"
     ]
    }
   ],
   "source": [
    "#index of duplicated row\n",
    "print(df[df.duplicated()].index)"
   ]
  },
  {
   "cell_type": "code",
   "execution_count": null,
   "id": "fcff69df-c892-4c94-9e57-310b6b61d1fd",
   "metadata": {},
   "outputs": [],
   "source": []
  }
 ],
 "metadata": {
  "kernelspec": {
   "display_name": "Python 3 (ipykernel)",
   "language": "python",
   "name": "python3"
  },
  "language_info": {
   "codemirror_mode": {
    "name": "ipython",
    "version": 3
   },
   "file_extension": ".py",
   "mimetype": "text/x-python",
   "name": "python",
   "nbconvert_exporter": "python",
   "pygments_lexer": "ipython3",
   "version": "3.12.1"
  }
 },
 "nbformat": 4,
 "nbformat_minor": 5
}
