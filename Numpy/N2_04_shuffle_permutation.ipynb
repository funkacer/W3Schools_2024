{
 "cells": [
  {
   "cell_type": "code",
   "execution_count": 1,
   "id": "5b20a368-9e17-4117-bc30-88b6ed0c9144",
   "metadata": {},
   "outputs": [],
   "source": [
    "import numpy as np\n",
    "import matplotlib.pyplot as plt\n",
    "import seaborn as sns"
   ]
  },
  {
   "cell_type": "code",
   "execution_count": 2,
   "id": "cf588f80-ae91-42ee-b5ba-ea1289f027ed",
   "metadata": {},
   "outputs": [],
   "source": [
    "# Mustry:\n",
    "# sns.histplot([0, 1, 2, 3, 4, 5], kde=True, stat=\"density\", kde_kws=dict(cut=3), alpha=.4, edgecolor=(1, 1, 1, .4), discrete=True, element=\"poly\")\n",
    "# sns.kdeplot([0, 1, 2, 3, 4, 5])"
   ]
  },
  {
   "cell_type": "markdown",
   "id": "b9c53cab-60bc-4fb6-a684-0be4bb39c4ec",
   "metadata": {},
   "source": [
    "Random Permutations of Elements\n",
    "- A permutation refers to an arrangement of elements. e.g. [3, 2, 1] is a permutation of [1, 2, 3] and vice-versa.\n",
    "- The NumPy Random module provides two methods for this: shuffle() and permutation()."
   ]
  },
  {
   "cell_type": "markdown",
   "id": "6e439c92-b4f7-4e4a-aa63-bcff5167d159",
   "metadata": {},
   "source": [
    "Shuffling Arrays\n",
    "- Shuffle means changing arrangement of elements in-place. i.e. in the array itself."
   ]
  },
  {
   "cell_type": "code",
   "execution_count": 3,
   "id": "66619fe8-3183-45ad-bd29-2f9f0e50343d",
   "metadata": {},
   "outputs": [
    {
     "name": "stdout",
     "output_type": "stream",
     "text": [
      "[2 4 5 1 3]\n"
     ]
    }
   ],
   "source": [
    "# Randomly shuffle elements of following array:\n",
    "arr = np.array([1, 2, 3, 4, 5])\n",
    "np.random.shuffle(arr)\n",
    "print(arr)"
   ]
  },
  {
   "cell_type": "markdown",
   "id": "53deeaac-cf74-4d67-b736-bc269e7e2a45",
   "metadata": {},
   "source": [
    "NOTE: The shuffle() method makes changes to the original array."
   ]
  },
  {
   "cell_type": "markdown",
   "id": "23839266-b93d-4e2a-804f-c5ddabdf8eeb",
   "metadata": {},
   "source": [
    "Generating Permutation of Arrays"
   ]
  },
  {
   "cell_type": "code",
   "execution_count": 4,
   "id": "b0c9acd7-4a0e-4232-afb5-f48a69a02cef",
   "metadata": {},
   "outputs": [
    {
     "name": "stdout",
     "output_type": "stream",
     "text": [
      "[4 5 2 3 1]\n"
     ]
    }
   ],
   "source": [
    "# Generate a random permutation of elements of following array:\n",
    "arr = np.array([1, 2, 3, 4, 5])\n",
    "print(np.random.permutation(arr))"
   ]
  },
  {
   "cell_type": "markdown",
   "id": "68b088bb-9cad-4cf3-97ac-06556fe75d42",
   "metadata": {},
   "source": [
    "NOTE: The permutation() method returns a re-arranged array (and leaves the original array un-changed)."
   ]
  },
  {
   "cell_type": "code",
   "execution_count": null,
   "id": "91fb8ae9-1671-4801-8d29-0e27dfe0ad8b",
   "metadata": {},
   "outputs": [],
   "source": []
  }
 ],
 "metadata": {
  "kernelspec": {
   "display_name": "Python 3 (ipykernel)",
   "language": "python",
   "name": "python3"
  },
  "language_info": {
   "codemirror_mode": {
    "name": "ipython",
    "version": 3
   },
   "file_extension": ".py",
   "mimetype": "text/x-python",
   "name": "python",
   "nbconvert_exporter": "python",
   "pygments_lexer": "ipython3",
   "version": "3.12.1"
  }
 },
 "nbformat": 4,
 "nbformat_minor": 5
}
