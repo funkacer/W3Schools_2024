{
 "cells": [
  {
   "cell_type": "code",
   "execution_count": 1,
   "id": "ee178e09-2be8-4fda-b87b-5ec639b37275",
   "metadata": {},
   "outputs": [],
   "source": [
    "from MySQLdb import connect\n",
    "import pandas as pd"
   ]
  },
  {
   "cell_type": "code",
   "execution_count": 2,
   "id": "0c12e6d7-6873-4e2d-b6ce-c6b3ba7fbe92",
   "metadata": {},
   "outputs": [],
   "source": [
    "# Connect to your MySQLdb\n",
    "conn = connect(host='localhost', user='root')\n",
    "#conn = connect(host='127.0.0.1', user='root', password = 'root', port=8890)"
   ]
  },
  {
   "cell_type": "code",
   "execution_count": 3,
   "id": "4d83dfb7-5b8e-4dc8-894b-3d78a50233bb",
   "metadata": {},
   "outputs": [],
   "source": [
    "# Open a cursor to perform database operations\n",
    "cur = conn.cursor()"
   ]
  },
  {
   "cell_type": "markdown",
   "id": "533b73c3-7dfa-4c9e-89f5-1b51555fbec6",
   "metadata": {},
   "source": [
    "The SQL COUNT() Function\n",
    "- The COUNT() function returns the number of rows that matches a specified criterion."
   ]
  },
  {
   "cell_type": "code",
   "execution_count": 7,
   "id": "6f36ce44-3888-4287-9d10-4b45c3b525e0",
   "metadata": {},
   "outputs": [
    {
     "data": {
      "text/html": [
       "<div>\n",
       "<style scoped>\n",
       "    .dataframe tbody tr th:only-of-type {\n",
       "        vertical-align: middle;\n",
       "    }\n",
       "\n",
       "    .dataframe tbody tr th {\n",
       "        vertical-align: top;\n",
       "    }\n",
       "\n",
       "    .dataframe thead th {\n",
       "        text-align: right;\n",
       "    }\n",
       "</style>\n",
       "<table border=\"1\" class=\"dataframe\">\n",
       "  <thead>\n",
       "    <tr style=\"text-align: right;\">\n",
       "      <th></th>\n",
       "      <th>COUNT(*)</th>\n",
       "    </tr>\n",
       "  </thead>\n",
       "  <tbody>\n",
       "    <tr>\n",
       "      <th>0</th>\n",
       "      <td>77</td>\n",
       "    </tr>\n",
       "  </tbody>\n",
       "</table>\n",
       "</div>"
      ],
      "text/plain": [
       "   COUNT(*)\n",
       "0        77"
      ]
     },
     "execution_count": 7,
     "metadata": {},
     "output_type": "execute_result"
    }
   ],
   "source": [
    "# Find the total number of products in the Products table:\n",
    "cur.execute('''SELECT COUNT(*) FROM sqlw3s.Products;''')\n",
    "df = pd.DataFrame(tuple(t) for t in cur.fetchall())\n",
    "df.columns = [i[0] for i in cur.description]\n",
    "df"
   ]
  },
  {
   "cell_type": "markdown",
   "id": "5e693b7b-0162-4659-9a18-29c1cc3df910",
   "metadata": {},
   "source": [
    ">Syntax:\n",
    "\n",
    ">SELECT COUNT(column_name)\n",
    ">\n",
    ">FROM table_name\n",
    ">\n",
    ">WHERE condition;\n",
    "\n",
    "Add a Where Clause\n",
    "- You can add a WHERE clause to specify conditions:"
   ]
  },
  {
   "cell_type": "code",
   "execution_count": 6,
   "id": "07308f20-6e8b-4096-a2a5-fe692705aff6",
   "metadata": {},
   "outputs": [
    {
     "data": {
      "text/html": [
       "<div>\n",
       "<style scoped>\n",
       "    .dataframe tbody tr th:only-of-type {\n",
       "        vertical-align: middle;\n",
       "    }\n",
       "\n",
       "    .dataframe tbody tr th {\n",
       "        vertical-align: top;\n",
       "    }\n",
       "\n",
       "    .dataframe thead th {\n",
       "        text-align: right;\n",
       "    }\n",
       "</style>\n",
       "<table border=\"1\" class=\"dataframe\">\n",
       "  <thead>\n",
       "    <tr style=\"text-align: right;\">\n",
       "      <th></th>\n",
       "      <th>COUNT(ProductID)</th>\n",
       "    </tr>\n",
       "  </thead>\n",
       "  <tbody>\n",
       "    <tr>\n",
       "      <th>0</th>\n",
       "      <td>37</td>\n",
       "    </tr>\n",
       "  </tbody>\n",
       "</table>\n",
       "</div>"
      ],
      "text/plain": [
       "   COUNT(ProductID)\n",
       "0                37"
      ]
     },
     "execution_count": 6,
     "metadata": {},
     "output_type": "execute_result"
    }
   ],
   "source": [
    "# Find the number of products where Price is higher than 20:\n",
    "cur.execute('''SELECT COUNT(ProductID) FROM sqlw3s.Products WHERE Price > 20;''')\n",
    "df = pd.DataFrame(tuple(t) for t in cur.fetchall())\n",
    "df.columns = [i[0] for i in cur.description]\n",
    "df"
   ]
  },
  {
   "cell_type": "markdown",
   "id": "7c87d306-198a-42b2-a308-1310a69c0f60",
   "metadata": {},
   "source": [
    "Specify Column:\n",
    "- You can specify a column name instead of the asterix symbol (*).\n",
    "- If you specify a column instead of (*), NULL values will not be counted."
   ]
  },
  {
   "cell_type": "code",
   "execution_count": 8,
   "id": "4ed4e5f2-c623-44a2-b5ce-a5a65fc744c4",
   "metadata": {},
   "outputs": [
    {
     "data": {
      "text/html": [
       "<div>\n",
       "<style scoped>\n",
       "    .dataframe tbody tr th:only-of-type {\n",
       "        vertical-align: middle;\n",
       "    }\n",
       "\n",
       "    .dataframe tbody tr th {\n",
       "        vertical-align: top;\n",
       "    }\n",
       "\n",
       "    .dataframe thead th {\n",
       "        text-align: right;\n",
       "    }\n",
       "</style>\n",
       "<table border=\"1\" class=\"dataframe\">\n",
       "  <thead>\n",
       "    <tr style=\"text-align: right;\">\n",
       "      <th></th>\n",
       "      <th>COUNT(ProductName)</th>\n",
       "    </tr>\n",
       "  </thead>\n",
       "  <tbody>\n",
       "    <tr>\n",
       "      <th>0</th>\n",
       "      <td>77</td>\n",
       "    </tr>\n",
       "  </tbody>\n",
       "</table>\n",
       "</div>"
      ],
      "text/plain": [
       "   COUNT(ProductName)\n",
       "0                  77"
      ]
     },
     "execution_count": 8,
     "metadata": {},
     "output_type": "execute_result"
    }
   ],
   "source": [
    "# Find the number of products where the ProductName is not null:\n",
    "cur.execute('''SELECT COUNT(ProductName) FROM sqlw3s.Products;''')\n",
    "df = pd.DataFrame(tuple(t) for t in cur.fetchall())\n",
    "df.columns = [i[0] for i in cur.description]\n",
    "df"
   ]
  },
  {
   "cell_type": "markdown",
   "id": "dcfdf7a2-1dcc-4b52-928d-714b3b26929c",
   "metadata": {},
   "source": [
    "Ignore Duplicates:\n",
    "- You can ignore duplicates by using the DISTINCT keyword in the COUNT function.\n",
    "- If DISTINCT is specified, rows with the same value for the specified column will be counted as one."
   ]
  },
  {
   "cell_type": "code",
   "execution_count": 9,
   "id": "5af32a59-8f59-4005-bafa-d774e1558204",
   "metadata": {},
   "outputs": [
    {
     "data": {
      "text/html": [
       "<div>\n",
       "<style scoped>\n",
       "    .dataframe tbody tr th:only-of-type {\n",
       "        vertical-align: middle;\n",
       "    }\n",
       "\n",
       "    .dataframe tbody tr th {\n",
       "        vertical-align: top;\n",
       "    }\n",
       "\n",
       "    .dataframe thead th {\n",
       "        text-align: right;\n",
       "    }\n",
       "</style>\n",
       "<table border=\"1\" class=\"dataframe\">\n",
       "  <thead>\n",
       "    <tr style=\"text-align: right;\">\n",
       "      <th></th>\n",
       "      <th>COUNT(DISTINCT Price)</th>\n",
       "    </tr>\n",
       "  </thead>\n",
       "  <tbody>\n",
       "    <tr>\n",
       "      <th>0</th>\n",
       "      <td>62</td>\n",
       "    </tr>\n",
       "  </tbody>\n",
       "</table>\n",
       "</div>"
      ],
      "text/plain": [
       "   COUNT(DISTINCT Price)\n",
       "0                     62"
      ]
     },
     "execution_count": 9,
     "metadata": {},
     "output_type": "execute_result"
    }
   ],
   "source": [
    "# How many different prices are there in the Products table:\n",
    "cur.execute('''SELECT COUNT(DISTINCT Price) FROM sqlw3s.Products;''')\n",
    "df = pd.DataFrame(tuple(t) for t in cur.fetchall())\n",
    "df.columns = [i[0] for i in cur.description]\n",
    "df"
   ]
  },
  {
   "cell_type": "markdown",
   "id": "bff64e2f-9d39-44c4-a68c-ca2b29bb83ff",
   "metadata": {},
   "source": [
    "Use an Alias:\n",
    "- Give the counted column a name by using the AS keyword."
   ]
  },
  {
   "cell_type": "code",
   "execution_count": 14,
   "id": "35e78720-7f8c-497b-8fca-bf8cf0e9e69b",
   "metadata": {},
   "outputs": [
    {
     "data": {
      "text/html": [
       "<div>\n",
       "<style scoped>\n",
       "    .dataframe tbody tr th:only-of-type {\n",
       "        vertical-align: middle;\n",
       "    }\n",
       "\n",
       "    .dataframe tbody tr th {\n",
       "        vertical-align: top;\n",
       "    }\n",
       "\n",
       "    .dataframe thead th {\n",
       "        text-align: right;\n",
       "    }\n",
       "</style>\n",
       "<table border=\"1\" class=\"dataframe\">\n",
       "  <thead>\n",
       "    <tr style=\"text-align: right;\">\n",
       "      <th></th>\n",
       "      <th>number of records</th>\n",
       "    </tr>\n",
       "  </thead>\n",
       "  <tbody>\n",
       "    <tr>\n",
       "      <th>0</th>\n",
       "      <td>77</td>\n",
       "    </tr>\n",
       "  </tbody>\n",
       "</table>\n",
       "</div>"
      ],
      "text/plain": [
       "   number of records\n",
       "0                 77"
      ]
     },
     "execution_count": 14,
     "metadata": {},
     "output_type": "execute_result"
    }
   ],
   "source": [
    "# Name the column \"number of records\":\n",
    "cur.execute('''SELECT COUNT(*) AS \"number of records\" FROM sqlw3s.Products;''')\n",
    "#cur.execute('''SELECT COUNT(*) AS 'number of records' FROM sqlw3s.Products;''') #to same\n",
    "df = pd.DataFrame(tuple(t) for t in cur.fetchall())\n",
    "df.columns = [i[0] for i in cur.description]\n",
    "df"
   ]
  },
  {
   "cell_type": "code",
   "execution_count": null,
   "id": "8e3d300d-f492-4d25-b75e-3af7bb6c0a4e",
   "metadata": {},
   "outputs": [],
   "source": []
  }
 ],
 "metadata": {
  "kernelspec": {
   "display_name": "Python 3 (ipykernel)",
   "language": "python",
   "name": "python3"
  },
  "language_info": {
   "codemirror_mode": {
    "name": "ipython",
    "version": 3
   },
   "file_extension": ".py",
   "mimetype": "text/x-python",
   "name": "python",
   "nbconvert_exporter": "python",
   "pygments_lexer": "ipython3",
   "version": "3.12.1"
  }
 },
 "nbformat": 4,
 "nbformat_minor": 5
}
