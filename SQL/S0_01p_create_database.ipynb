{
 "cells": [
  {
   "cell_type": "code",
   "execution_count": 5,
   "id": "ee178e09-2be8-4fda-b87b-5ec639b37275",
   "metadata": {},
   "outputs": [],
   "source": [
    "from MySQLdb import connect\n",
    "import pandas as pd"
   ]
  },
  {
   "cell_type": "code",
   "execution_count": 6,
   "id": "0c12e6d7-6873-4e2d-b6ce-c6b3ba7fbe92",
   "metadata": {},
   "outputs": [],
   "source": [
    "# Connect to your MySQLdb\n",
    "#conn = connect(host='localhost', user='root')\n",
    "conn = connect(host='127.0.0.1', user='root', password = 'root', port = 8890)"
   ]
  },
  {
   "cell_type": "code",
   "execution_count": 7,
   "id": "4d83dfb7-5b8e-4dc8-894b-3d78a50233bb",
   "metadata": {},
   "outputs": [],
   "source": [
    "# Open a cursor to perform database operations\n",
    "cur = conn.cursor()"
   ]
  },
  {
   "cell_type": "code",
   "execution_count": 9,
   "id": "0c955d83-f77d-4fd9-9d3c-02ddcc273e34",
   "metadata": {},
   "outputs": [
    {
     "data": {
      "text/html": [
       "<div>\n",
       "<style scoped>\n",
       "    .dataframe tbody tr th:only-of-type {\n",
       "        vertical-align: middle;\n",
       "    }\n",
       "\n",
       "    .dataframe tbody tr th {\n",
       "        vertical-align: top;\n",
       "    }\n",
       "\n",
       "    .dataframe thead th {\n",
       "        text-align: right;\n",
       "    }\n",
       "</style>\n",
       "<table border=\"1\" class=\"dataframe\">\n",
       "  <thead>\n",
       "    <tr style=\"text-align: right;\">\n",
       "      <th></th>\n",
       "      <th>Database</th>\n",
       "    </tr>\n",
       "  </thead>\n",
       "  <tbody>\n",
       "    <tr>\n",
       "      <th>0</th>\n",
       "      <td>information_schema</td>\n",
       "    </tr>\n",
       "    <tr>\n",
       "      <th>1</th>\n",
       "      <td>mysql</td>\n",
       "    </tr>\n",
       "    <tr>\n",
       "      <th>2</th>\n",
       "      <td>performance_schema</td>\n",
       "    </tr>\n",
       "    <tr>\n",
       "      <th>3</th>\n",
       "      <td>sqlw3s</td>\n",
       "    </tr>\n",
       "    <tr>\n",
       "      <th>4</th>\n",
       "      <td>sys</td>\n",
       "    </tr>\n",
       "  </tbody>\n",
       "</table>\n",
       "</div>"
      ],
      "text/plain": [
       "             Database\n",
       "0  information_schema\n",
       "1               mysql\n",
       "2  performance_schema\n",
       "3              sqlw3s\n",
       "4                 sys"
      ]
     },
     "execution_count": 9,
     "metadata": {},
     "output_type": "execute_result"
    }
   ],
   "source": [
    "# Return data from the Customers table:\n",
    "cur.execute('''SHOW DATABASES;''')\n",
    "df = pd.DataFrame(tuple(t) for t in cur.fetchall())\n",
    "df.columns = [i[0] for i in cur.description]\n",
    "df"
   ]
  },
  {
   "cell_type": "markdown",
   "id": "fb501bc3-5056-4ada-a080-6afd0426d958",
   "metadata": {},
   "source": [
    "The SQL CREATE DATABASE Statement\n",
    "- The CREATE DATABASE statement is used to create a new SQL database.\n",
    "\n",
    ">Syntax\n",
    ">\n",
    ">CREATE DATABASE databasename;\n",
    "\n",
    "CREATE DATABASE Example"
   ]
  },
  {
   "cell_type": "code",
   "execution_count": 13,
   "id": "918462be-d3dc-4074-8b4e-893de81bc325",
   "metadata": {},
   "outputs": [
    {
     "data": {
      "text/plain": [
       "1"
      ]
     },
     "execution_count": 13,
     "metadata": {},
     "output_type": "execute_result"
    }
   ],
   "source": [
    "# The following SQL statement creates a database called \"testDB\":\n",
    "cur.execute('''CREATE DATABASE testDB;''')"
   ]
  },
  {
   "cell_type": "markdown",
   "id": "00e66e01-9588-4151-a37b-e61167860e1a",
   "metadata": {},
   "source": [
    "Tip: Make sure you have admin privilege before creating any database. Once a database is created, you can check it in the list of databases with the following SQL command: SHOW DATABASES;"
   ]
  },
  {
   "cell_type": "code",
   "execution_count": 14,
   "id": "8fcfc4a9-051b-48f7-95f5-b7e1bf60803d",
   "metadata": {},
   "outputs": [
    {
     "data": {
      "text/html": [
       "<div>\n",
       "<style scoped>\n",
       "    .dataframe tbody tr th:only-of-type {\n",
       "        vertical-align: middle;\n",
       "    }\n",
       "\n",
       "    .dataframe tbody tr th {\n",
       "        vertical-align: top;\n",
       "    }\n",
       "\n",
       "    .dataframe thead th {\n",
       "        text-align: right;\n",
       "    }\n",
       "</style>\n",
       "<table border=\"1\" class=\"dataframe\">\n",
       "  <thead>\n",
       "    <tr style=\"text-align: right;\">\n",
       "      <th></th>\n",
       "      <th>Database</th>\n",
       "    </tr>\n",
       "  </thead>\n",
       "  <tbody>\n",
       "    <tr>\n",
       "      <th>0</th>\n",
       "      <td>information_schema</td>\n",
       "    </tr>\n",
       "    <tr>\n",
       "      <th>1</th>\n",
       "      <td>mysql</td>\n",
       "    </tr>\n",
       "    <tr>\n",
       "      <th>2</th>\n",
       "      <td>performance_schema</td>\n",
       "    </tr>\n",
       "    <tr>\n",
       "      <th>3</th>\n",
       "      <td>sqlw3s</td>\n",
       "    </tr>\n",
       "    <tr>\n",
       "      <th>4</th>\n",
       "      <td>sys</td>\n",
       "    </tr>\n",
       "    <tr>\n",
       "      <th>5</th>\n",
       "      <td>testDB</td>\n",
       "    </tr>\n",
       "  </tbody>\n",
       "</table>\n",
       "</div>"
      ],
      "text/plain": [
       "             Database\n",
       "0  information_schema\n",
       "1               mysql\n",
       "2  performance_schema\n",
       "3              sqlw3s\n",
       "4                 sys\n",
       "5              testDB"
      ]
     },
     "execution_count": 14,
     "metadata": {},
     "output_type": "execute_result"
    }
   ],
   "source": [
    "# Return data from the Customers table:\n",
    "cur.execute('''SHOW DATABASES;''')\n",
    "df = pd.DataFrame(tuple(t) for t in cur.fetchall())\n",
    "df.columns = [i[0] for i in cur.description]\n",
    "df"
   ]
  },
  {
   "cell_type": "code",
   "execution_count": null,
   "id": "bff2841b-9791-44bb-a3bf-5566c7f25ed6",
   "metadata": {},
   "outputs": [],
   "source": []
  }
 ],
 "metadata": {
  "kernelspec": {
   "display_name": "Python 3 (ipykernel)",
   "language": "python",
   "name": "python3"
  },
  "language_info": {
   "codemirror_mode": {
    "name": "ipython",
    "version": 3
   },
   "file_extension": ".py",
   "mimetype": "text/x-python",
   "name": "python",
   "nbconvert_exporter": "python",
   "pygments_lexer": "ipython3",
   "version": "3.11.8"
  }
 },
 "nbformat": 4,
 "nbformat_minor": 5
}
