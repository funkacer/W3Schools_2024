{
 "cells": [
  {
   "cell_type": "code",
   "execution_count": 1,
   "id": "ee178e09-2be8-4fda-b87b-5ec639b37275",
   "metadata": {},
   "outputs": [
    {
     "name": "stderr",
     "output_type": "stream",
     "text": [
      "/var/folders/fb/xl0hnskx527bfqkv38l3sn7h0000gn/T/ipykernel_32633/3687392072.py:2: DeprecationWarning: \n",
      "Pyarrow will become a required dependency of pandas in the next major release of pandas (pandas 3.0),\n",
      "(to allow more performant data types, such as the Arrow string type, and better interoperability with other libraries)\n",
      "but was not found to be installed on your system.\n",
      "If this would cause problems for you,\n",
      "please provide us feedback at https://github.com/pandas-dev/pandas/issues/54466\n",
      "        \n",
      "  import pandas as pd\n"
     ]
    }
   ],
   "source": [
    "from MySQLdb import connect\n",
    "import pandas as pd"
   ]
  },
  {
   "cell_type": "code",
   "execution_count": 2,
   "id": "0c12e6d7-6873-4e2d-b6ce-c6b3ba7fbe92",
   "metadata": {},
   "outputs": [],
   "source": [
    "# Connect to your MySQLdb\n",
    "#conn = connect(host='localhost', user='root')\n",
    "conn = connect(host='127.0.0.1', user='root', password = 'root', port = 8890)"
   ]
  },
  {
   "cell_type": "code",
   "execution_count": 3,
   "id": "4d83dfb7-5b8e-4dc8-894b-3d78a50233bb",
   "metadata": {},
   "outputs": [],
   "source": [
    "# Open a cursor to perform database operations\n",
    "cur = conn.cursor()"
   ]
  },
  {
   "cell_type": "code",
   "execution_count": 4,
   "id": "0c955d83-f77d-4fd9-9d3c-02ddcc273e34",
   "metadata": {},
   "outputs": [
    {
     "data": {
      "text/html": [
       "<div>\n",
       "<style scoped>\n",
       "    .dataframe tbody tr th:only-of-type {\n",
       "        vertical-align: middle;\n",
       "    }\n",
       "\n",
       "    .dataframe tbody tr th {\n",
       "        vertical-align: top;\n",
       "    }\n",
       "\n",
       "    .dataframe thead th {\n",
       "        text-align: right;\n",
       "    }\n",
       "</style>\n",
       "<table border=\"1\" class=\"dataframe\">\n",
       "  <thead>\n",
       "    <tr style=\"text-align: right;\">\n",
       "      <th></th>\n",
       "      <th>Database</th>\n",
       "    </tr>\n",
       "  </thead>\n",
       "  <tbody>\n",
       "    <tr>\n",
       "      <th>0</th>\n",
       "      <td>information_schema</td>\n",
       "    </tr>\n",
       "    <tr>\n",
       "      <th>1</th>\n",
       "      <td>funkacernette</td>\n",
       "    </tr>\n",
       "    <tr>\n",
       "      <th>2</th>\n",
       "      <td>mysql</td>\n",
       "    </tr>\n",
       "    <tr>\n",
       "      <th>3</th>\n",
       "      <td>performance_schema</td>\n",
       "    </tr>\n",
       "    <tr>\n",
       "      <th>4</th>\n",
       "      <td>sqlw3s</td>\n",
       "    </tr>\n",
       "    <tr>\n",
       "      <th>5</th>\n",
       "      <td>sys</td>\n",
       "    </tr>\n",
       "    <tr>\n",
       "      <th>6</th>\n",
       "      <td>testDB</td>\n",
       "    </tr>\n",
       "  </tbody>\n",
       "</table>\n",
       "</div>"
      ],
      "text/plain": [
       "             Database\n",
       "0  information_schema\n",
       "1       funkacernette\n",
       "2               mysql\n",
       "3  performance_schema\n",
       "4              sqlw3s\n",
       "5                 sys\n",
       "6              testDB"
      ]
     },
     "execution_count": 4,
     "metadata": {},
     "output_type": "execute_result"
    }
   ],
   "source": [
    "# Return data from the Customers table:\n",
    "cur.execute('''SHOW DATABASES;''')\n",
    "df = pd.DataFrame(tuple(t) for t in cur.fetchall())\n",
    "df.columns = [i[0] for i in cur.description]\n",
    "df"
   ]
  },
  {
   "cell_type": "markdown",
   "id": "eb43108c-f42d-4b13-bf6c-05f3417f006d",
   "metadata": {},
   "source": [
    "### SQL FOREIGN KEY Constraint\n",
    "The FOREIGN KEY constraint is used to prevent actions that would destroy links between tables.\n",
    "\n",
    "A FOREIGN KEY is a field (or collection of fields) in one table, that refers to the PRIMARY KEY in another table.\n",
    "\n",
    "The table with the foreign key is called the child table, and the table with the primary key is called the referenced or parent table.\n",
    "\n",
    "Look at the following two tables:\n",
    "\n",
    "Persons Table"
   ]
  },
  {
   "cell_type": "code",
   "execution_count": 5,
   "id": "5e30cda7-1e22-4a8e-a0ae-c4a25f099009",
   "metadata": {},
   "outputs": [
    {
     "name": "stderr",
     "output_type": "stream",
     "text": [
      "/var/folders/fb/xl0hnskx527bfqkv38l3sn7h0000gn/T/ipykernel_32633/1395910305.py:1: UserWarning: pandas only supports SQLAlchemy connectable (engine/connection) or database string URI or sqlite3 DBAPI2 connection. Other DBAPI2 objects are not tested. Please consider using SQLAlchemy.\n",
      "  pd.read_sql_query('''SELECT * FROM testDB.Persons;''', conn)\n"
     ]
    },
    {
     "data": {
      "text/html": [
       "<div>\n",
       "<style scoped>\n",
       "    .dataframe tbody tr th:only-of-type {\n",
       "        vertical-align: middle;\n",
       "    }\n",
       "\n",
       "    .dataframe tbody tr th {\n",
       "        vertical-align: top;\n",
       "    }\n",
       "\n",
       "    .dataframe thead th {\n",
       "        text-align: right;\n",
       "    }\n",
       "</style>\n",
       "<table border=\"1\" class=\"dataframe\">\n",
       "  <thead>\n",
       "    <tr style=\"text-align: right;\">\n",
       "      <th></th>\n",
       "      <th>ID</th>\n",
       "      <th>LastName</th>\n",
       "      <th>FirstName</th>\n",
       "      <th>Age</th>\n",
       "    </tr>\n",
       "  </thead>\n",
       "  <tbody>\n",
       "  </tbody>\n",
       "</table>\n",
       "</div>"
      ],
      "text/plain": [
       "Empty DataFrame\n",
       "Columns: [ID, LastName, FirstName, Age]\n",
       "Index: []"
      ]
     },
     "execution_count": 5,
     "metadata": {},
     "output_type": "execute_result"
    }
   ],
   "source": [
    "pd.read_sql_query('''SELECT * FROM testDB.Persons;''', conn)"
   ]
  },
  {
   "cell_type": "code",
   "execution_count": 9,
   "id": "78121354-4e5b-48e9-bb1b-778709c39997",
   "metadata": {},
   "outputs": [
    {
     "data": {
      "text/plain": [
       "1"
      ]
     },
     "execution_count": 9,
     "metadata": {},
     "output_type": "execute_result"
    }
   ],
   "source": [
    "cur.execute('''INSERT INTO testDB.Persons VALUES (1, 'Cooper', 'Álice', null); ''')\n",
    "cur.execute('''INSERT INTO testDB.Persons VALUES (2, 'Cooper', 'Álice', null); ''')\n",
    "cur.execute('''INSERT INTO testDB.Persons VALUES (90, 'Cooper', 'Álice', null); ''')"
   ]
  },
  {
   "cell_type": "code",
   "execution_count": 10,
   "id": "d0baab49-5438-4a64-89ec-7981eee85480",
   "metadata": {},
   "outputs": [
    {
     "name": "stderr",
     "output_type": "stream",
     "text": [
      "/var/folders/fb/xl0hnskx527bfqkv38l3sn7h0000gn/T/ipykernel_32633/1395910305.py:1: UserWarning: pandas only supports SQLAlchemy connectable (engine/connection) or database string URI or sqlite3 DBAPI2 connection. Other DBAPI2 objects are not tested. Please consider using SQLAlchemy.\n",
      "  pd.read_sql_query('''SELECT * FROM testDB.Persons;''', conn)\n"
     ]
    },
    {
     "data": {
      "text/html": [
       "<div>\n",
       "<style scoped>\n",
       "    .dataframe tbody tr th:only-of-type {\n",
       "        vertical-align: middle;\n",
       "    }\n",
       "\n",
       "    .dataframe tbody tr th {\n",
       "        vertical-align: top;\n",
       "    }\n",
       "\n",
       "    .dataframe thead th {\n",
       "        text-align: right;\n",
       "    }\n",
       "</style>\n",
       "<table border=\"1\" class=\"dataframe\">\n",
       "  <thead>\n",
       "    <tr style=\"text-align: right;\">\n",
       "      <th></th>\n",
       "      <th>ID</th>\n",
       "      <th>LastName</th>\n",
       "      <th>FirstName</th>\n",
       "      <th>Age</th>\n",
       "    </tr>\n",
       "  </thead>\n",
       "  <tbody>\n",
       "    <tr>\n",
       "      <th>0</th>\n",
       "      <td>1</td>\n",
       "      <td>Cooper</td>\n",
       "      <td>Álice</td>\n",
       "      <td>None</td>\n",
       "    </tr>\n",
       "    <tr>\n",
       "      <th>1</th>\n",
       "      <td>2</td>\n",
       "      <td>Cooper</td>\n",
       "      <td>Álice</td>\n",
       "      <td>None</td>\n",
       "    </tr>\n",
       "    <tr>\n",
       "      <th>2</th>\n",
       "      <td>90</td>\n",
       "      <td>Cooper</td>\n",
       "      <td>Álice</td>\n",
       "      <td>None</td>\n",
       "    </tr>\n",
       "  </tbody>\n",
       "</table>\n",
       "</div>"
      ],
      "text/plain": [
       "   ID LastName FirstName   Age\n",
       "0   1   Cooper     Álice  None\n",
       "1   2   Cooper     Álice  None\n",
       "2  90   Cooper     Álice  None"
      ]
     },
     "execution_count": 10,
     "metadata": {},
     "output_type": "execute_result"
    }
   ],
   "source": [
    "pd.read_sql_query('''SELECT * FROM testDB.Persons;''', conn)"
   ]
  },
  {
   "cell_type": "markdown",
   "id": "46dfa0c1-e44d-44c7-9702-8071de8890e2",
   "metadata": {},
   "source": [
    "Orders Table"
   ]
  },
  {
   "cell_type": "code",
   "execution_count": 6,
   "id": "bfd22371-1be9-4501-a3d6-16d4cf5cfccb",
   "metadata": {},
   "outputs": [
    {
     "name": "stderr",
     "output_type": "stream",
     "text": [
      "/var/folders/fb/xl0hnskx527bfqkv38l3sn7h0000gn/T/ipykernel_32633/1483630969.py:1: UserWarning: pandas only supports SQLAlchemy connectable (engine/connection) or database string URI or sqlite3 DBAPI2 connection. Other DBAPI2 objects are not tested. Please consider using SQLAlchemy.\n",
      "  pd.read_sql_query('''SELECT * FROM testDB.Orders;''', conn)\n"
     ]
    },
    {
     "data": {
      "text/html": [
       "<div>\n",
       "<style scoped>\n",
       "    .dataframe tbody tr th:only-of-type {\n",
       "        vertical-align: middle;\n",
       "    }\n",
       "\n",
       "    .dataframe tbody tr th {\n",
       "        vertical-align: top;\n",
       "    }\n",
       "\n",
       "    .dataframe thead th {\n",
       "        text-align: right;\n",
       "    }\n",
       "</style>\n",
       "<table border=\"1\" class=\"dataframe\">\n",
       "  <thead>\n",
       "    <tr style=\"text-align: right;\">\n",
       "      <th></th>\n",
       "      <th>OrderID</th>\n",
       "      <th>CustomerID</th>\n",
       "      <th>EmployeeID</th>\n",
       "      <th>OrderDate</th>\n",
       "      <th>ShipperID</th>\n",
       "    </tr>\n",
       "  </thead>\n",
       "  <tbody>\n",
       "    <tr>\n",
       "      <th>0</th>\n",
       "      <td>10248</td>\n",
       "      <td>90</td>\n",
       "      <td>5</td>\n",
       "      <td>1996-07-04</td>\n",
       "      <td>3</td>\n",
       "    </tr>\n",
       "    <tr>\n",
       "      <th>1</th>\n",
       "      <td>10249</td>\n",
       "      <td>81</td>\n",
       "      <td>6</td>\n",
       "      <td>1996-07-05</td>\n",
       "      <td>1</td>\n",
       "    </tr>\n",
       "    <tr>\n",
       "      <th>2</th>\n",
       "      <td>10250</td>\n",
       "      <td>34</td>\n",
       "      <td>4</td>\n",
       "      <td>1996-07-08</td>\n",
       "      <td>2</td>\n",
       "    </tr>\n",
       "    <tr>\n",
       "      <th>3</th>\n",
       "      <td>10251</td>\n",
       "      <td>84</td>\n",
       "      <td>3</td>\n",
       "      <td>1996-07-08</td>\n",
       "      <td>1</td>\n",
       "    </tr>\n",
       "    <tr>\n",
       "      <th>4</th>\n",
       "      <td>10252</td>\n",
       "      <td>76</td>\n",
       "      <td>4</td>\n",
       "      <td>1996-07-09</td>\n",
       "      <td>2</td>\n",
       "    </tr>\n",
       "    <tr>\n",
       "      <th>...</th>\n",
       "      <td>...</td>\n",
       "      <td>...</td>\n",
       "      <td>...</td>\n",
       "      <td>...</td>\n",
       "      <td>...</td>\n",
       "    </tr>\n",
       "    <tr>\n",
       "      <th>191</th>\n",
       "      <td>10439</td>\n",
       "      <td>51</td>\n",
       "      <td>6</td>\n",
       "      <td>1997-02-07</td>\n",
       "      <td>3</td>\n",
       "    </tr>\n",
       "    <tr>\n",
       "      <th>192</th>\n",
       "      <td>10440</td>\n",
       "      <td>71</td>\n",
       "      <td>4</td>\n",
       "      <td>1997-02-10</td>\n",
       "      <td>2</td>\n",
       "    </tr>\n",
       "    <tr>\n",
       "      <th>193</th>\n",
       "      <td>10441</td>\n",
       "      <td>55</td>\n",
       "      <td>3</td>\n",
       "      <td>1997-02-10</td>\n",
       "      <td>2</td>\n",
       "    </tr>\n",
       "    <tr>\n",
       "      <th>194</th>\n",
       "      <td>10442</td>\n",
       "      <td>20</td>\n",
       "      <td>3</td>\n",
       "      <td>1997-02-11</td>\n",
       "      <td>2</td>\n",
       "    </tr>\n",
       "    <tr>\n",
       "      <th>195</th>\n",
       "      <td>10443</td>\n",
       "      <td>66</td>\n",
       "      <td>8</td>\n",
       "      <td>1997-02-12</td>\n",
       "      <td>1</td>\n",
       "    </tr>\n",
       "  </tbody>\n",
       "</table>\n",
       "<p>196 rows × 5 columns</p>\n",
       "</div>"
      ],
      "text/plain": [
       "     OrderID  CustomerID  EmployeeID   OrderDate  ShipperID\n",
       "0      10248          90           5  1996-07-04          3\n",
       "1      10249          81           6  1996-07-05          1\n",
       "2      10250          34           4  1996-07-08          2\n",
       "3      10251          84           3  1996-07-08          1\n",
       "4      10252          76           4  1996-07-09          2\n",
       "..       ...         ...         ...         ...        ...\n",
       "191    10439          51           6  1997-02-07          3\n",
       "192    10440          71           4  1997-02-10          2\n",
       "193    10441          55           3  1997-02-10          2\n",
       "194    10442          20           3  1997-02-11          2\n",
       "195    10443          66           8  1997-02-12          1\n",
       "\n",
       "[196 rows x 5 columns]"
      ]
     },
     "execution_count": 6,
     "metadata": {},
     "output_type": "execute_result"
    }
   ],
   "source": [
    "pd.read_sql_query('''SELECT * FROM testDB.Orders;''', conn)"
   ]
  },
  {
   "cell_type": "markdown",
   "id": "19e981f8-d1a8-4b9f-8aef-4e5645b73b75",
   "metadata": {},
   "source": [
    "Notice that the \"PersonID\" column in the \"Orders\" table points to the \"PersonID\" column in the \"Persons\" table.\n",
    "\n",
    "The \"PersonID\" column in the \"Persons\" table is the PRIMARY KEY in the \"Persons\" table.\n",
    "\n",
    "The \"PersonID\" column in the \"Orders\" table is a FOREIGN KEY in the \"Orders\" table.\n",
    "\n",
    "The FOREIGN KEY constraint prevents invalid data from being inserted into the foreign key column, because it has to be one of the values contained in the parent table.E TABLE"
   ]
  },
  {
   "cell_type": "code",
   "execution_count": 21,
   "id": "12d7c603-0ad4-42a0-ac06-9a8c5146b57b",
   "metadata": {},
   "outputs": [
    {
     "data": {
      "text/plain": [
       "0"
      ]
     },
     "execution_count": 21,
     "metadata": {},
     "output_type": "execute_result"
    }
   ],
   "source": [
    "cur.execute('''DROP TABLE testDB.ORDERS;''')"
   ]
  },
  {
   "cell_type": "code",
   "execution_count": 22,
   "id": "6edc95c6-0ec5-48d9-ab1a-f95f980e86cc",
   "metadata": {},
   "outputs": [
    {
     "data": {
      "text/plain": [
       "0"
      ]
     },
     "execution_count": 22,
     "metadata": {},
     "output_type": "execute_result"
    }
   ],
   "source": [
    "# The following SQL creates a PRIMARY KEY on the \"ID\" column when the \"Persons\" table is created:\n",
    "cur.execute('''CREATE TABLE testDB.Orders (\n",
    "    OrderID int NOT NULL,\n",
    "    OrderNumber int NOT NULL,\n",
    "    PersonID int,\n",
    "    PRIMARY KEY (OrderID),\n",
    "    FOREIGN KEY (PersonID) REFERENCES Persons(ID)\n",
    ");''')"
   ]
  },
  {
   "cell_type": "markdown",
   "id": "d58ee07b-5e34-4a3e-9c98-cf82c30e0445",
   "metadata": {},
   "source": [
    "SQL Server / Oracle / MS Access:\n",
    "\n",
    "CREATE TABLE Orders (\n",
    "    OrderID int NOT NULL PRIMARY KEY,\n",
    "    OrderNumber int NOT NULL,\n",
    "    PersonID int FOREIGN KEY REFERENCES Persons(PersonID)\n",
    ");\n",
    "\n",
    "To allow naming of a FOREIGN KEY constraint, and for defining a FOREIGN KEY constraint on multiple columns, use the following SQL syntax:\n",
    "\n",
    "MySQL / SQL Server / Oracle / MS Access:\n",
    "\n",
    "CREATE TABLE Orders (\n",
    "    OrderID int NOT NULL,\n",
    "    OrderNumber int NOT NULL,\n",
    "    PersonID int,\n",
    "    PRIMARY KEY (OrderID),\n",
    "    CONSTRAINT FK_PersonOrder FOREIGN KEY (PersonID)\n",
    "    REFERENCES Persons(PersonID)\n",
    ");\n",
    "\n",
    "\n",
    "--postgre:\n",
    "\n",
    "create table public.bill8 (id int, moje VARCHAR(1), CONSTRAINT bill8_primary_key PRIMARY KEY (id), CONSTRAINT bill8_foreign_key FOREIGN KEY (moje) REFERENCES public.bill7(moje));\n",
    "--pozor constraint musí být unikátní napříč db, primary_key by tady nešlo protože už je v bill7 - ERROR:  relation \"primary_key\" already exists ;"
   ]
  },
  {
   "cell_type": "markdown",
   "id": "5ded59c6-7a7b-42de-88ca-5c74c1f11a62",
   "metadata": {},
   "source": [
    "SQL FOREIGN KEY on ALTER TABLE\n",
    "To create a FOREIGN KEY constraint on the \"PersonID\" column when the \"Orders\" table is already created, use the following SQL:\n",
    "\n",
    "MySQL / SQL Server / Oracle / MS Access:\n",
    "\n",
    "ALTER TABLE Orders\n",
    "ADD FOREIGN KEY (PersonID) REFERENCES Persons(PersonID);\n",
    "To allow naming of a FOREIGN KEY constraint, and for defining a FOREIGN KEY constraint on multiple columns, use the following SQL syntax:\n",
    "\n",
    "MySQL / SQL Server / Oracle / MS Access:\n",
    "\n",
    "ALTER TABLE Orders\n",
    "ADD CONSTRAINT FK_PersonOrder\n",
    "FOREIGN KEY (PersonID) REFERENCES Persons(PersonID);\n",
    "DROP a FOREIGN KEY Constraint\n",
    "To drop a FOREIGN KEY constraint, use the following SQL:\n",
    "\n",
    "MySQL:\n",
    "\n",
    "ALTER TABLE Orders\n",
    "DROP FOREIGN KEY FK_PersonOrder;\n",
    "SQL Server / Oracle / MS Access:\n",
    "\n",
    "ALTER TABLE Orders\n",
    "DROP CONSTRAINT FK_PersonOrder;\n",
    "\n",
    "\n",
    "--postgre:\n",
    "\n",
    "ALTER TABLE public.bill8 ADD CONSTRAINT bill8_foreign_key FOREIGN KEY (moje) REFERENCES public.bill7(moje);\n",
    "\n",
    "ALTER TABLE public.bill8 DROP CONSTRAINT bill8_foreign_key;"
   ]
  },
  {
   "cell_type": "code",
   "execution_count": 101,
   "id": "e43edd17-c906-432f-9ef6-6fe18a36e620",
   "metadata": {},
   "outputs": [
    {
     "data": {
      "text/plain": [
       "0"
      ]
     },
     "execution_count": 101,
     "metadata": {},
     "output_type": "execute_result"
    }
   ],
   "source": [
    "cur.execute('''DROP TABLE testDB.ORDERS;''')"
   ]
  },
  {
   "cell_type": "code",
   "execution_count": 102,
   "id": "4553acc4-8723-40de-93b5-c351291398f4",
   "metadata": {},
   "outputs": [
    {
     "data": {
      "text/plain": [
       "0"
      ]
     },
     "execution_count": 102,
     "metadata": {},
     "output_type": "execute_result"
    }
   ],
   "source": [
    "# The following SQL creates a PRIMARY KEY on the \"ID\" column when the \"Persons\" table is created:\n",
    "cur.execute('''CREATE TABLE testDB.Orders (\n",
    "    OrderID int NOT NULL,\n",
    "    OrderNumber int NOT NULL,\n",
    "    PersonID int,\n",
    "    PRIMARY KEY (OrderID)\n",
    ");''')"
   ]
  },
  {
   "cell_type": "code",
   "execution_count": 103,
   "id": "e1b93773-6b11-4dee-88d0-1152060ea126",
   "metadata": {},
   "outputs": [
    {
     "data": {
      "text/plain": [
       "0"
      ]
     },
     "execution_count": 103,
     "metadata": {},
     "output_type": "execute_result"
    }
   ],
   "source": [
    "# In MySQL, nullability is a part of the datatype, not a constraint. So:\n",
    "cur.execute('''ALTER TABLE testDB.Orders ADD FOREIGN KEY (PersonID) REFERENCES Persons(ID);''')"
   ]
  },
  {
   "cell_type": "code",
   "execution_count": 104,
   "id": "962472a5-0a7a-479d-9c0f-e504d732480e",
   "metadata": {},
   "outputs": [
    {
     "data": {
      "text/html": [
       "<div>\n",
       "<style scoped>\n",
       "    .dataframe tbody tr th:only-of-type {\n",
       "        vertical-align: middle;\n",
       "    }\n",
       "\n",
       "    .dataframe tbody tr th {\n",
       "        vertical-align: top;\n",
       "    }\n",
       "\n",
       "    .dataframe thead th {\n",
       "        text-align: right;\n",
       "    }\n",
       "</style>\n",
       "<table border=\"1\" class=\"dataframe\">\n",
       "  <thead>\n",
       "    <tr style=\"text-align: right;\">\n",
       "      <th></th>\n",
       "      <th>Field</th>\n",
       "      <th>Type</th>\n",
       "      <th>Null</th>\n",
       "      <th>Key</th>\n",
       "      <th>Default</th>\n",
       "      <th>Extra</th>\n",
       "    </tr>\n",
       "  </thead>\n",
       "  <tbody>\n",
       "    <tr>\n",
       "      <th>0</th>\n",
       "      <td>OrderID</td>\n",
       "      <td>int(11)</td>\n",
       "      <td>NO</td>\n",
       "      <td>PRI</td>\n",
       "      <td>None</td>\n",
       "      <td></td>\n",
       "    </tr>\n",
       "    <tr>\n",
       "      <th>1</th>\n",
       "      <td>OrderNumber</td>\n",
       "      <td>int(11)</td>\n",
       "      <td>NO</td>\n",
       "      <td></td>\n",
       "      <td>None</td>\n",
       "      <td></td>\n",
       "    </tr>\n",
       "    <tr>\n",
       "      <th>2</th>\n",
       "      <td>PersonID</td>\n",
       "      <td>int(11)</td>\n",
       "      <td>YES</td>\n",
       "      <td>MUL</td>\n",
       "      <td>None</td>\n",
       "      <td></td>\n",
       "    </tr>\n",
       "  </tbody>\n",
       "</table>\n",
       "</div>"
      ],
      "text/plain": [
       "         Field     Type Null  Key Default Extra\n",
       "0      OrderID  int(11)   NO  PRI    None      \n",
       "1  OrderNumber  int(11)   NO         None      \n",
       "2     PersonID  int(11)  YES  MUL    None      "
      ]
     },
     "execution_count": 104,
     "metadata": {},
     "output_type": "execute_result"
    }
   ],
   "source": [
    "# Return data from the Customers table:\n",
    "cur.execute('''DESCRIBE testDB.Orders;''')\n",
    "df = pd.DataFrame(tuple(t) for t in cur.fetchall())\n",
    "columns = [i[0] for i in cur.description]\n",
    "if len(df) == 0: df = pd.DataFrame([[\"\" for i in range(len(columns))]])\n",
    "df.columns = columns\n",
    "df"
   ]
  },
  {
   "cell_type": "code",
   "execution_count": 105,
   "id": "85496f27-0a61-4bd2-b29c-538c12a58dc6",
   "metadata": {},
   "outputs": [
    {
     "ename": "IntegrityError",
     "evalue": "(1452, 'Cannot add or update a child row: a foreign key constraint fails (`testdb`.`orders`, CONSTRAINT `orders_ibfk_1` FOREIGN KEY (`PersonID`) REFERENCES `Persons` (`ID`))')",
     "output_type": "error",
     "traceback": [
      "\u001b[0;31m---------------------------------------------------------------------------\u001b[0m",
      "\u001b[0;31mIntegrityError\u001b[0m                            Traceback (most recent call last)",
      "Cell \u001b[0;32mIn[105], line 1\u001b[0m\n\u001b[0;32m----> 1\u001b[0m \u001b[43mcur\u001b[49m\u001b[38;5;241;43m.\u001b[39;49m\u001b[43mexecute\u001b[49m\u001b[43m(\u001b[49m\u001b[38;5;124;43m'''\u001b[39;49m\u001b[38;5;124;43mINSERT INTO testDB.Orders VALUES (1, 1, 5);\u001b[39;49m\u001b[38;5;124;43m'''\u001b[39;49m\u001b[43m)\u001b[49m\n",
      "File \u001b[0;32m~/_Git/_venv/lib/python3.11/site-packages/MySQLdb/cursors.py:179\u001b[0m, in \u001b[0;36mBaseCursor.execute\u001b[0;34m(self, query, args)\u001b[0m\n\u001b[1;32m    176\u001b[0m mogrified_query \u001b[38;5;241m=\u001b[39m \u001b[38;5;28mself\u001b[39m\u001b[38;5;241m.\u001b[39m_mogrify(query, args)\n\u001b[1;32m    178\u001b[0m \u001b[38;5;28;01massert\u001b[39;00m \u001b[38;5;28misinstance\u001b[39m(mogrified_query, (\u001b[38;5;28mbytes\u001b[39m, \u001b[38;5;28mbytearray\u001b[39m))\n\u001b[0;32m--> 179\u001b[0m res \u001b[38;5;241m=\u001b[39m \u001b[38;5;28;43mself\u001b[39;49m\u001b[38;5;241;43m.\u001b[39;49m\u001b[43m_query\u001b[49m\u001b[43m(\u001b[49m\u001b[43mmogrified_query\u001b[49m\u001b[43m)\u001b[49m\n\u001b[1;32m    180\u001b[0m \u001b[38;5;28;01mreturn\u001b[39;00m res\n",
      "File \u001b[0;32m~/_Git/_venv/lib/python3.11/site-packages/MySQLdb/cursors.py:330\u001b[0m, in \u001b[0;36mBaseCursor._query\u001b[0;34m(self, q)\u001b[0m\n\u001b[1;32m    328\u001b[0m \u001b[38;5;28mself\u001b[39m\u001b[38;5;241m.\u001b[39mrowcount \u001b[38;5;241m=\u001b[39m \u001b[38;5;28;01mNone\u001b[39;00m\n\u001b[1;32m    329\u001b[0m \u001b[38;5;28mself\u001b[39m\u001b[38;5;241m.\u001b[39mlastrowid \u001b[38;5;241m=\u001b[39m \u001b[38;5;28;01mNone\u001b[39;00m\n\u001b[0;32m--> 330\u001b[0m \u001b[43mdb\u001b[49m\u001b[38;5;241;43m.\u001b[39;49m\u001b[43mquery\u001b[49m\u001b[43m(\u001b[49m\u001b[43mq\u001b[49m\u001b[43m)\u001b[49m\n\u001b[1;32m    331\u001b[0m \u001b[38;5;28mself\u001b[39m\u001b[38;5;241m.\u001b[39m_do_get_result(db)\n\u001b[1;32m    332\u001b[0m \u001b[38;5;28mself\u001b[39m\u001b[38;5;241m.\u001b[39m_post_get_result()\n",
      "File \u001b[0;32m~/_Git/_venv/lib/python3.11/site-packages/MySQLdb/connections.py:261\u001b[0m, in \u001b[0;36mConnection.query\u001b[0;34m(self, query)\u001b[0m\n\u001b[1;32m    259\u001b[0m \u001b[38;5;28;01mif\u001b[39;00m \u001b[38;5;28misinstance\u001b[39m(query, \u001b[38;5;28mbytearray\u001b[39m):\n\u001b[1;32m    260\u001b[0m     query \u001b[38;5;241m=\u001b[39m \u001b[38;5;28mbytes\u001b[39m(query)\n\u001b[0;32m--> 261\u001b[0m \u001b[43m_mysql\u001b[49m\u001b[38;5;241;43m.\u001b[39;49m\u001b[43mconnection\u001b[49m\u001b[38;5;241;43m.\u001b[39;49m\u001b[43mquery\u001b[49m\u001b[43m(\u001b[49m\u001b[38;5;28;43mself\u001b[39;49m\u001b[43m,\u001b[49m\u001b[43m \u001b[49m\u001b[43mquery\u001b[49m\u001b[43m)\u001b[49m\n",
      "\u001b[0;31mIntegrityError\u001b[0m: (1452, 'Cannot add or update a child row: a foreign key constraint fails (`testdb`.`orders`, CONSTRAINT `orders_ibfk_1` FOREIGN KEY (`PersonID`) REFERENCES `Persons` (`ID`))')"
     ]
    }
   ],
   "source": [
    "cur.execute('''INSERT INTO testDB.Orders VALUES (1, 1, 5);''')"
   ]
  },
  {
   "cell_type": "code",
   "execution_count": 106,
   "id": "0eb12b93-21ee-4a95-ae00-3362b90ebfa2",
   "metadata": {},
   "outputs": [
    {
     "data": {
      "text/plain": [
       "1"
      ]
     },
     "execution_count": 106,
     "metadata": {},
     "output_type": "execute_result"
    }
   ],
   "source": [
    "cur.execute('''INSERT INTO testDB.Orders VALUES (1, 1, 1);''')"
   ]
  },
  {
   "cell_type": "code",
   "execution_count": 107,
   "id": "0280f115-e98b-4061-b07f-b5674b4e8d8c",
   "metadata": {},
   "outputs": [
    {
     "data": {
      "text/html": [
       "<div>\n",
       "<style scoped>\n",
       "    .dataframe tbody tr th:only-of-type {\n",
       "        vertical-align: middle;\n",
       "    }\n",
       "\n",
       "    .dataframe tbody tr th {\n",
       "        vertical-align: top;\n",
       "    }\n",
       "\n",
       "    .dataframe thead th {\n",
       "        text-align: right;\n",
       "    }\n",
       "</style>\n",
       "<table border=\"1\" class=\"dataframe\">\n",
       "  <thead>\n",
       "    <tr style=\"text-align: right;\">\n",
       "      <th></th>\n",
       "      <th>OrderID</th>\n",
       "      <th>OrderNumber</th>\n",
       "      <th>PersonID</th>\n",
       "    </tr>\n",
       "  </thead>\n",
       "  <tbody>\n",
       "    <tr>\n",
       "      <th>0</th>\n",
       "      <td>1</td>\n",
       "      <td>1</td>\n",
       "      <td>1</td>\n",
       "    </tr>\n",
       "  </tbody>\n",
       "</table>\n",
       "</div>"
      ],
      "text/plain": [
       "   OrderID  OrderNumber  PersonID\n",
       "0        1            1         1"
      ]
     },
     "execution_count": 107,
     "metadata": {},
     "output_type": "execute_result"
    }
   ],
   "source": [
    "# Return data from the Customers table:\n",
    "cur.execute('''SELECT * FROM testDB.Orders;''')\n",
    "df = pd.DataFrame(tuple(t) for t in cur.fetchall())\n",
    "columns = [i[0] for i in cur.description]\n",
    "if len(df) == 0: df = pd.DataFrame([[\"\" for i in range(len(columns))]])\n",
    "df.columns = columns\n",
    "df"
   ]
  },
  {
   "cell_type": "code",
   "execution_count": 108,
   "id": "327af0c8-3433-4de7-ad12-c3805603ad7f",
   "metadata": {},
   "outputs": [
    {
     "ename": "ProgrammingError",
     "evalue": "(1064, \"You have an error in your SQL syntax; check the manual that corresponds to your MySQL server version for the right syntax to use near '(PersonID)' at line 1\")",
     "output_type": "error",
     "traceback": [
      "\u001b[0;31m---------------------------------------------------------------------------\u001b[0m",
      "\u001b[0;31mProgrammingError\u001b[0m                          Traceback (most recent call last)",
      "Cell \u001b[0;32mIn[108], line 1\u001b[0m\n\u001b[0;32m----> 1\u001b[0m \u001b[43mcur\u001b[49m\u001b[38;5;241;43m.\u001b[39;49m\u001b[43mexecute\u001b[49m\u001b[43m(\u001b[49m\u001b[38;5;124;43m'''\u001b[39;49m\u001b[38;5;124;43mALTER TABLE testDB.Orders DROP FOREIGN KEY(PersonID);\u001b[39;49m\u001b[38;5;124;43m'''\u001b[39;49m\u001b[43m)\u001b[49m\n",
      "File \u001b[0;32m~/_Git/_venv/lib/python3.11/site-packages/MySQLdb/cursors.py:179\u001b[0m, in \u001b[0;36mBaseCursor.execute\u001b[0;34m(self, query, args)\u001b[0m\n\u001b[1;32m    176\u001b[0m mogrified_query \u001b[38;5;241m=\u001b[39m \u001b[38;5;28mself\u001b[39m\u001b[38;5;241m.\u001b[39m_mogrify(query, args)\n\u001b[1;32m    178\u001b[0m \u001b[38;5;28;01massert\u001b[39;00m \u001b[38;5;28misinstance\u001b[39m(mogrified_query, (\u001b[38;5;28mbytes\u001b[39m, \u001b[38;5;28mbytearray\u001b[39m))\n\u001b[0;32m--> 179\u001b[0m res \u001b[38;5;241m=\u001b[39m \u001b[38;5;28;43mself\u001b[39;49m\u001b[38;5;241;43m.\u001b[39;49m\u001b[43m_query\u001b[49m\u001b[43m(\u001b[49m\u001b[43mmogrified_query\u001b[49m\u001b[43m)\u001b[49m\n\u001b[1;32m    180\u001b[0m \u001b[38;5;28;01mreturn\u001b[39;00m res\n",
      "File \u001b[0;32m~/_Git/_venv/lib/python3.11/site-packages/MySQLdb/cursors.py:330\u001b[0m, in \u001b[0;36mBaseCursor._query\u001b[0;34m(self, q)\u001b[0m\n\u001b[1;32m    328\u001b[0m \u001b[38;5;28mself\u001b[39m\u001b[38;5;241m.\u001b[39mrowcount \u001b[38;5;241m=\u001b[39m \u001b[38;5;28;01mNone\u001b[39;00m\n\u001b[1;32m    329\u001b[0m \u001b[38;5;28mself\u001b[39m\u001b[38;5;241m.\u001b[39mlastrowid \u001b[38;5;241m=\u001b[39m \u001b[38;5;28;01mNone\u001b[39;00m\n\u001b[0;32m--> 330\u001b[0m \u001b[43mdb\u001b[49m\u001b[38;5;241;43m.\u001b[39;49m\u001b[43mquery\u001b[49m\u001b[43m(\u001b[49m\u001b[43mq\u001b[49m\u001b[43m)\u001b[49m\n\u001b[1;32m    331\u001b[0m \u001b[38;5;28mself\u001b[39m\u001b[38;5;241m.\u001b[39m_do_get_result(db)\n\u001b[1;32m    332\u001b[0m \u001b[38;5;28mself\u001b[39m\u001b[38;5;241m.\u001b[39m_post_get_result()\n",
      "File \u001b[0;32m~/_Git/_venv/lib/python3.11/site-packages/MySQLdb/connections.py:261\u001b[0m, in \u001b[0;36mConnection.query\u001b[0;34m(self, query)\u001b[0m\n\u001b[1;32m    259\u001b[0m \u001b[38;5;28;01mif\u001b[39;00m \u001b[38;5;28misinstance\u001b[39m(query, \u001b[38;5;28mbytearray\u001b[39m):\n\u001b[1;32m    260\u001b[0m     query \u001b[38;5;241m=\u001b[39m \u001b[38;5;28mbytes\u001b[39m(query)\n\u001b[0;32m--> 261\u001b[0m \u001b[43m_mysql\u001b[49m\u001b[38;5;241;43m.\u001b[39;49m\u001b[43mconnection\u001b[49m\u001b[38;5;241;43m.\u001b[39;49m\u001b[43mquery\u001b[49m\u001b[43m(\u001b[49m\u001b[38;5;28;43mself\u001b[39;49m\u001b[43m,\u001b[49m\u001b[43m \u001b[49m\u001b[43mquery\u001b[49m\u001b[43m)\u001b[49m\n",
      "\u001b[0;31mProgrammingError\u001b[0m: (1064, \"You have an error in your SQL syntax; check the manual that corresponds to your MySQL server version for the right syntax to use near '(PersonID)' at line 1\")"
     ]
    }
   ],
   "source": [
    "cur.execute('''ALTER TABLE testDB.Orders DROP FOREIGN KEY(PersonID);''')"
   ]
  },
  {
   "cell_type": "code",
   "execution_count": 109,
   "id": "edfb7b65-5eff-4004-bc2b-74552436e32b",
   "metadata": {},
   "outputs": [
    {
     "data": {
      "text/plain": [
       "1"
      ]
     },
     "execution_count": 109,
     "metadata": {},
     "output_type": "execute_result"
    }
   ],
   "source": [
    "cur.execute('''ALTER TABLE testDB.Orders ADD CONSTRAINT FK_PersonOrder FOREIGN KEY (PersonID) REFERENCES Persons(ID);''')"
   ]
  },
  {
   "cell_type": "code",
   "execution_count": 110,
   "id": "a0137ff8-1a07-4295-ad0c-3eb55ec37a0c",
   "metadata": {},
   "outputs": [
    {
     "data": {
      "text/html": [
       "<div>\n",
       "<style scoped>\n",
       "    .dataframe tbody tr th:only-of-type {\n",
       "        vertical-align: middle;\n",
       "    }\n",
       "\n",
       "    .dataframe tbody tr th {\n",
       "        vertical-align: top;\n",
       "    }\n",
       "\n",
       "    .dataframe thead th {\n",
       "        text-align: right;\n",
       "    }\n",
       "</style>\n",
       "<table border=\"1\" class=\"dataframe\">\n",
       "  <thead>\n",
       "    <tr style=\"text-align: right;\">\n",
       "      <th></th>\n",
       "      <th>Field</th>\n",
       "      <th>Type</th>\n",
       "      <th>Null</th>\n",
       "      <th>Key</th>\n",
       "      <th>Default</th>\n",
       "      <th>Extra</th>\n",
       "    </tr>\n",
       "  </thead>\n",
       "  <tbody>\n",
       "    <tr>\n",
       "      <th>0</th>\n",
       "      <td>OrderID</td>\n",
       "      <td>int(11)</td>\n",
       "      <td>NO</td>\n",
       "      <td>PRI</td>\n",
       "      <td>None</td>\n",
       "      <td></td>\n",
       "    </tr>\n",
       "    <tr>\n",
       "      <th>1</th>\n",
       "      <td>OrderNumber</td>\n",
       "      <td>int(11)</td>\n",
       "      <td>NO</td>\n",
       "      <td></td>\n",
       "      <td>None</td>\n",
       "      <td></td>\n",
       "    </tr>\n",
       "    <tr>\n",
       "      <th>2</th>\n",
       "      <td>PersonID</td>\n",
       "      <td>int(11)</td>\n",
       "      <td>YES</td>\n",
       "      <td>MUL</td>\n",
       "      <td>None</td>\n",
       "      <td></td>\n",
       "    </tr>\n",
       "  </tbody>\n",
       "</table>\n",
       "</div>"
      ],
      "text/plain": [
       "         Field     Type Null  Key Default Extra\n",
       "0      OrderID  int(11)   NO  PRI    None      \n",
       "1  OrderNumber  int(11)   NO         None      \n",
       "2     PersonID  int(11)  YES  MUL    None      "
      ]
     },
     "execution_count": 110,
     "metadata": {},
     "output_type": "execute_result"
    }
   ],
   "source": [
    "# Return data from the Customers table:\n",
    "cur.execute('''DESCRIBE testDB.ORDERS;''')\n",
    "df = pd.DataFrame(tuple(t) for t in cur.fetchall())\n",
    "columns = [i[0] for i in cur.description]\n",
    "if len(df) == 0: df = pd.DataFrame([[\"\" for i in range(len(columns))]])\n",
    "df.columns = columns\n",
    "df"
   ]
  },
  {
   "cell_type": "code",
   "execution_count": 111,
   "id": "527c7d23-91cb-405a-ac68-ba53e18fc418",
   "metadata": {},
   "outputs": [
    {
     "data": {
      "text/plain": [
       "0"
      ]
     },
     "execution_count": 111,
     "metadata": {},
     "output_type": "execute_result"
    }
   ],
   "source": [
    "cur.execute('''ALTER TABLE testDB.Orders DROP FOREIGN KEY FK_PersonOrder;''')"
   ]
  },
  {
   "cell_type": "code",
   "execution_count": 112,
   "id": "7678bca9-2475-4329-98f2-fd91416ba3a6",
   "metadata": {},
   "outputs": [
    {
     "data": {
      "text/html": [
       "<div>\n",
       "<style scoped>\n",
       "    .dataframe tbody tr th:only-of-type {\n",
       "        vertical-align: middle;\n",
       "    }\n",
       "\n",
       "    .dataframe tbody tr th {\n",
       "        vertical-align: top;\n",
       "    }\n",
       "\n",
       "    .dataframe thead th {\n",
       "        text-align: right;\n",
       "    }\n",
       "</style>\n",
       "<table border=\"1\" class=\"dataframe\">\n",
       "  <thead>\n",
       "    <tr style=\"text-align: right;\">\n",
       "      <th></th>\n",
       "      <th>Field</th>\n",
       "      <th>Type</th>\n",
       "      <th>Null</th>\n",
       "      <th>Key</th>\n",
       "      <th>Default</th>\n",
       "      <th>Extra</th>\n",
       "    </tr>\n",
       "  </thead>\n",
       "  <tbody>\n",
       "    <tr>\n",
       "      <th>0</th>\n",
       "      <td>OrderID</td>\n",
       "      <td>int(11)</td>\n",
       "      <td>NO</td>\n",
       "      <td>PRI</td>\n",
       "      <td>None</td>\n",
       "      <td></td>\n",
       "    </tr>\n",
       "    <tr>\n",
       "      <th>1</th>\n",
       "      <td>OrderNumber</td>\n",
       "      <td>int(11)</td>\n",
       "      <td>NO</td>\n",
       "      <td></td>\n",
       "      <td>None</td>\n",
       "      <td></td>\n",
       "    </tr>\n",
       "    <tr>\n",
       "      <th>2</th>\n",
       "      <td>PersonID</td>\n",
       "      <td>int(11)</td>\n",
       "      <td>YES</td>\n",
       "      <td>MUL</td>\n",
       "      <td>None</td>\n",
       "      <td></td>\n",
       "    </tr>\n",
       "  </tbody>\n",
       "</table>\n",
       "</div>"
      ],
      "text/plain": [
       "         Field     Type Null  Key Default Extra\n",
       "0      OrderID  int(11)   NO  PRI    None      \n",
       "1  OrderNumber  int(11)   NO         None      \n",
       "2     PersonID  int(11)  YES  MUL    None      "
      ]
     },
     "execution_count": 112,
     "metadata": {},
     "output_type": "execute_result"
    }
   ],
   "source": [
    "# Return data from the Customers table:\n",
    "cur.execute('''DESCRIBE testDB.Orders;''')\n",
    "df = pd.DataFrame(tuple(t) for t in cur.fetchall())\n",
    "columns = [i[0] for i in cur.description]\n",
    "if len(df) == 0: df = pd.DataFrame([[\"\" for i in range(len(columns))]])\n",
    "df.columns = columns\n",
    "df"
   ]
  },
  {
   "cell_type": "code",
   "execution_count": 113,
   "id": "81d7ea97-1d02-420d-acd8-5926f255b3c8",
   "metadata": {},
   "outputs": [
    {
     "data": {
      "text/html": [
       "<div>\n",
       "<style scoped>\n",
       "    .dataframe tbody tr th:only-of-type {\n",
       "        vertical-align: middle;\n",
       "    }\n",
       "\n",
       "    .dataframe tbody tr th {\n",
       "        vertical-align: top;\n",
       "    }\n",
       "\n",
       "    .dataframe thead th {\n",
       "        text-align: right;\n",
       "    }\n",
       "</style>\n",
       "<table border=\"1\" class=\"dataframe\">\n",
       "  <thead>\n",
       "    <tr style=\"text-align: right;\">\n",
       "      <th></th>\n",
       "      <th>Table</th>\n",
       "      <th>Create Table</th>\n",
       "    </tr>\n",
       "  </thead>\n",
       "  <tbody>\n",
       "    <tr>\n",
       "      <th>0</th>\n",
       "      <td>Orders</td>\n",
       "      <td>CREATE TABLE `Orders` (\\n  `OrderID` int(11) NOT NULL,\\n  `OrderNumber` int(11) NOT NULL,\\n  `PersonID` int(11) DEFAULT NULL,\\n  PRIMARY KEY (`OrderID`),\\n  KEY `FK_PersonOrder` (`PersonID`),\\n  CONSTRAINT `orders_ibfk_1` FOREIGN KEY (`PersonID`) REFERENCES `Persons` (`ID`)\\n) ENGINE=InnoDB DEFAULT CHARSET=utf8</td>\n",
       "    </tr>\n",
       "  </tbody>\n",
       "</table>\n",
       "</div>"
      ],
      "text/plain": [
       "    Table  \\\n",
       "0  Orders   \n",
       "\n",
       "                                                                                                                                                                                                                                                                                                               Create Table  \n",
       "0  CREATE TABLE `Orders` (\\n  `OrderID` int(11) NOT NULL,\\n  `OrderNumber` int(11) NOT NULL,\\n  `PersonID` int(11) DEFAULT NULL,\\n  PRIMARY KEY (`OrderID`),\\n  KEY `FK_PersonOrder` (`PersonID`),\\n  CONSTRAINT `orders_ibfk_1` FOREIGN KEY (`PersonID`) REFERENCES `Persons` (`ID`)\\n) ENGINE=InnoDB DEFAULT CHARSET=utf8  "
      ]
     },
     "execution_count": 113,
     "metadata": {},
     "output_type": "execute_result"
    }
   ],
   "source": [
    "pd.options.display.max_colwidth = 999\n",
    "# Return data from the Customers table:\n",
    "cur.execute('''SHOW CREATE TABLE testDB.Orders;''')\n",
    "df = pd.DataFrame(tuple(t) for t in cur.fetchall())\n",
    "columns = [i[0] for i in cur.description]\n",
    "if len(df) == 0: df = pd.DataFrame([[\"\" for i in range(len(columns))]])\n",
    "df.columns = columns\n",
    "df"
   ]
  },
  {
   "cell_type": "code",
   "execution_count": 114,
   "id": "d61ccd35-17c3-4df6-94cb-3187a1b3ed6f",
   "metadata": {},
   "outputs": [
    {
     "data": {
      "text/plain": [
       "0"
      ]
     },
     "execution_count": 114,
     "metadata": {},
     "output_type": "execute_result"
    }
   ],
   "source": [
    "cur.execute('''ALTER TABLE testDB.Orders DROP FOREIGN KEY orders_ibfk_1 ;''')"
   ]
  },
  {
   "cell_type": "code",
   "execution_count": 115,
   "id": "ff76d67e-3ce6-4cec-9b8e-8764b5009f7e",
   "metadata": {},
   "outputs": [
    {
     "data": {
      "text/plain": [
       "1"
      ]
     },
     "execution_count": 115,
     "metadata": {},
     "output_type": "execute_result"
    }
   ],
   "source": [
    "#Už to jde!!!\n",
    "cur.execute('''INSERT INTO testDB.Orders VALUES (2, 2, 5); ''')"
   ]
  },
  {
   "cell_type": "code",
   "execution_count": 116,
   "id": "1ba55afa-36cc-4f04-ad9f-8711b93fc646",
   "metadata": {},
   "outputs": [
    {
     "data": {
      "text/html": [
       "<div>\n",
       "<style scoped>\n",
       "    .dataframe tbody tr th:only-of-type {\n",
       "        vertical-align: middle;\n",
       "    }\n",
       "\n",
       "    .dataframe tbody tr th {\n",
       "        vertical-align: top;\n",
       "    }\n",
       "\n",
       "    .dataframe thead th {\n",
       "        text-align: right;\n",
       "    }\n",
       "</style>\n",
       "<table border=\"1\" class=\"dataframe\">\n",
       "  <thead>\n",
       "    <tr style=\"text-align: right;\">\n",
       "      <th></th>\n",
       "      <th>OrderID</th>\n",
       "      <th>OrderNumber</th>\n",
       "      <th>PersonID</th>\n",
       "    </tr>\n",
       "  </thead>\n",
       "  <tbody>\n",
       "    <tr>\n",
       "      <th>0</th>\n",
       "      <td>1</td>\n",
       "      <td>1</td>\n",
       "      <td>1</td>\n",
       "    </tr>\n",
       "    <tr>\n",
       "      <th>1</th>\n",
       "      <td>2</td>\n",
       "      <td>2</td>\n",
       "      <td>5</td>\n",
       "    </tr>\n",
       "  </tbody>\n",
       "</table>\n",
       "</div>"
      ],
      "text/plain": [
       "   OrderID  OrderNumber  PersonID\n",
       "0        1            1         1\n",
       "1        2            2         5"
      ]
     },
     "execution_count": 116,
     "metadata": {},
     "output_type": "execute_result"
    }
   ],
   "source": [
    "# Return data from the CustomersNew table:\n",
    "cur.execute('''SELECT * FROM testDB.Orders;''')\n",
    "df = pd.DataFrame(tuple(t) for t in cur.fetchall())\n",
    "columns = [i[0] for i in cur.description]\n",
    "if len(df) == 0: df = pd.DataFrame([[\"\" for i in range(len(columns))]])\n",
    "df.columns = columns\n",
    "df"
   ]
  },
  {
   "cell_type": "code",
   "execution_count": 117,
   "id": "5ff52a18-a719-4a2d-9b80-832525ec63b9",
   "metadata": {},
   "outputs": [
    {
     "data": {
      "text/html": [
       "<div>\n",
       "<style scoped>\n",
       "    .dataframe tbody tr th:only-of-type {\n",
       "        vertical-align: middle;\n",
       "    }\n",
       "\n",
       "    .dataframe tbody tr th {\n",
       "        vertical-align: top;\n",
       "    }\n",
       "\n",
       "    .dataframe thead th {\n",
       "        text-align: right;\n",
       "    }\n",
       "</style>\n",
       "<table border=\"1\" class=\"dataframe\">\n",
       "  <thead>\n",
       "    <tr style=\"text-align: right;\">\n",
       "      <th></th>\n",
       "      <th>Field</th>\n",
       "      <th>Type</th>\n",
       "      <th>Null</th>\n",
       "      <th>Key</th>\n",
       "      <th>Default</th>\n",
       "      <th>Extra</th>\n",
       "    </tr>\n",
       "  </thead>\n",
       "  <tbody>\n",
       "    <tr>\n",
       "      <th>0</th>\n",
       "      <td>OrderID</td>\n",
       "      <td>int(11)</td>\n",
       "      <td>NO</td>\n",
       "      <td>PRI</td>\n",
       "      <td>None</td>\n",
       "      <td></td>\n",
       "    </tr>\n",
       "    <tr>\n",
       "      <th>1</th>\n",
       "      <td>OrderNumber</td>\n",
       "      <td>int(11)</td>\n",
       "      <td>NO</td>\n",
       "      <td></td>\n",
       "      <td>None</td>\n",
       "      <td></td>\n",
       "    </tr>\n",
       "    <tr>\n",
       "      <th>2</th>\n",
       "      <td>PersonID</td>\n",
       "      <td>int(11)</td>\n",
       "      <td>YES</td>\n",
       "      <td>MUL</td>\n",
       "      <td>None</td>\n",
       "      <td></td>\n",
       "    </tr>\n",
       "  </tbody>\n",
       "</table>\n",
       "</div>"
      ],
      "text/plain": [
       "         Field     Type Null  Key Default Extra\n",
       "0      OrderID  int(11)   NO  PRI    None      \n",
       "1  OrderNumber  int(11)   NO         None      \n",
       "2     PersonID  int(11)  YES  MUL    None      "
      ]
     },
     "execution_count": 117,
     "metadata": {},
     "output_type": "execute_result"
    }
   ],
   "source": [
    "# Return data from the Customers table:\n",
    "cur.execute('''DESCRIBE testDB.Orders;''')\n",
    "df = pd.DataFrame(tuple(t) for t in cur.fetchall())\n",
    "columns = [i[0] for i in cur.description]\n",
    "if len(df) == 0: df = pd.DataFrame([[\"\" for i in range(len(columns))]])\n",
    "df.columns = columns\n",
    "df"
   ]
  },
  {
   "cell_type": "code",
   "execution_count": 118,
   "id": "9d9e5dba-373c-4658-834e-52380e29aaef",
   "metadata": {},
   "outputs": [
    {
     "data": {
      "text/html": [
       "<div>\n",
       "<style scoped>\n",
       "    .dataframe tbody tr th:only-of-type {\n",
       "        vertical-align: middle;\n",
       "    }\n",
       "\n",
       "    .dataframe tbody tr th {\n",
       "        vertical-align: top;\n",
       "    }\n",
       "\n",
       "    .dataframe thead th {\n",
       "        text-align: right;\n",
       "    }\n",
       "</style>\n",
       "<table border=\"1\" class=\"dataframe\">\n",
       "  <thead>\n",
       "    <tr style=\"text-align: right;\">\n",
       "      <th></th>\n",
       "      <th>Table</th>\n",
       "      <th>Create Table</th>\n",
       "    </tr>\n",
       "  </thead>\n",
       "  <tbody>\n",
       "    <tr>\n",
       "      <th>0</th>\n",
       "      <td>Orders</td>\n",
       "      <td>CREATE TABLE `Orders` (\\n  `OrderID` int(11) NOT NULL,\\n  `OrderNumber` int(11) NOT NULL,\\n  `PersonID` int(11) DEFAULT NULL,\\n  PRIMARY KEY (`OrderID`),\\n  KEY `FK_PersonOrder` (`PersonID`)\\n) ENGINE=InnoDB DEFAULT CHARSET=utf8</td>\n",
       "    </tr>\n",
       "  </tbody>\n",
       "</table>\n",
       "</div>"
      ],
      "text/plain": [
       "    Table  \\\n",
       "0  Orders   \n",
       "\n",
       "                                                                                                                                                                                                                           Create Table  \n",
       "0  CREATE TABLE `Orders` (\\n  `OrderID` int(11) NOT NULL,\\n  `OrderNumber` int(11) NOT NULL,\\n  `PersonID` int(11) DEFAULT NULL,\\n  PRIMARY KEY (`OrderID`),\\n  KEY `FK_PersonOrder` (`PersonID`)\\n) ENGINE=InnoDB DEFAULT CHARSET=utf8  "
      ]
     },
     "execution_count": 118,
     "metadata": {},
     "output_type": "execute_result"
    }
   ],
   "source": [
    "pd.options.display.max_colwidth = 999\n",
    "# Return data from the Customers table:\n",
    "cur.execute('''SHOW CREATE TABLE testDB.Orders;''')\n",
    "df = pd.DataFrame(tuple(t) for t in cur.fetchall())\n",
    "columns = [i[0] for i in cur.description]\n",
    "if len(df) == 0: df = pd.DataFrame([[\"\" for i in range(len(columns))]])\n",
    "df.columns = columns\n",
    "df"
   ]
  },
  {
   "cell_type": "code",
   "execution_count": 119,
   "id": "30e8b02e-45fe-476f-96bb-860a631af85a",
   "metadata": {},
   "outputs": [
    {
     "data": {
      "text/plain": [
       "0"
      ]
     },
     "execution_count": 119,
     "metadata": {},
     "output_type": "execute_result"
    }
   ],
   "source": [
    "#zbyl tam nějaký index???\n",
    "cur.execute('''ALTER TABLE testdb.`Orders` DROP INDEX `FK_PersonOrder`;''')"
   ]
  },
  {
   "cell_type": "code",
   "execution_count": 120,
   "id": "c66ea7a1-bf3e-41bd-8e98-d0b30215ddb1",
   "metadata": {},
   "outputs": [
    {
     "data": {
      "text/html": [
       "<div>\n",
       "<style scoped>\n",
       "    .dataframe tbody tr th:only-of-type {\n",
       "        vertical-align: middle;\n",
       "    }\n",
       "\n",
       "    .dataframe tbody tr th {\n",
       "        vertical-align: top;\n",
       "    }\n",
       "\n",
       "    .dataframe thead th {\n",
       "        text-align: right;\n",
       "    }\n",
       "</style>\n",
       "<table border=\"1\" class=\"dataframe\">\n",
       "  <thead>\n",
       "    <tr style=\"text-align: right;\">\n",
       "      <th></th>\n",
       "      <th>Table</th>\n",
       "      <th>Create Table</th>\n",
       "    </tr>\n",
       "  </thead>\n",
       "  <tbody>\n",
       "    <tr>\n",
       "      <th>0</th>\n",
       "      <td>Orders</td>\n",
       "      <td>CREATE TABLE `Orders` (\\n  `OrderID` int(11) NOT NULL,\\n  `OrderNumber` int(11) NOT NULL,\\n  `PersonID` int(11) DEFAULT NULL,\\n  PRIMARY KEY (`OrderID`)\\n) ENGINE=InnoDB DEFAULT CHARSET=utf8</td>\n",
       "    </tr>\n",
       "  </tbody>\n",
       "</table>\n",
       "</div>"
      ],
      "text/plain": [
       "    Table  \\\n",
       "0  Orders   \n",
       "\n",
       "                                                                                                                                                                                     Create Table  \n",
       "0  CREATE TABLE `Orders` (\\n  `OrderID` int(11) NOT NULL,\\n  `OrderNumber` int(11) NOT NULL,\\n  `PersonID` int(11) DEFAULT NULL,\\n  PRIMARY KEY (`OrderID`)\\n) ENGINE=InnoDB DEFAULT CHARSET=utf8  "
      ]
     },
     "execution_count": 120,
     "metadata": {},
     "output_type": "execute_result"
    }
   ],
   "source": [
    "pd.options.display.max_colwidth = 999\n",
    "# Return data from the Customers table:\n",
    "cur.execute('''SHOW CREATE TABLE testDB.Orders;''')\n",
    "df = pd.DataFrame(tuple(t) for t in cur.fetchall())\n",
    "columns = [i[0] for i in cur.description]\n",
    "if len(df) == 0: df = pd.DataFrame([[\"\" for i in range(len(columns))]])\n",
    "df.columns = columns\n",
    "df"
   ]
  },
  {
   "cell_type": "code",
   "execution_count": null,
   "id": "6d7fdb51-45d3-406b-88d2-971dab794fda",
   "metadata": {},
   "outputs": [],
   "source": []
  }
 ],
 "metadata": {
  "kernelspec": {
   "display_name": "Python 3 (ipykernel)",
   "language": "python",
   "name": "python3"
  },
  "language_info": {
   "codemirror_mode": {
    "name": "ipython",
    "version": 3
   },
   "file_extension": ".py",
   "mimetype": "text/x-python",
   "name": "python",
   "nbconvert_exporter": "python",
   "pygments_lexer": "ipython3",
   "version": "3.11.8"
  }
 },
 "nbformat": 4,
 "nbformat_minor": 5
}
