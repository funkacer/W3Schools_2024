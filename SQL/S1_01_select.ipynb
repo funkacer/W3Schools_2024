{
 "cells": [
  {
   "cell_type": "code",
   "execution_count": 1,
   "id": "ee178e09-2be8-4fda-b87b-5ec639b37275",
   "metadata": {},
   "outputs": [],
   "source": [
    "from MySQLdb import connect"
   ]
  },
  {
   "cell_type": "code",
   "execution_count": 2,
   "id": "0c12e6d7-6873-4e2d-b6ce-c6b3ba7fbe92",
   "metadata": {},
   "outputs": [],
   "source": [
    "# Connect to your MySQLdb\n",
    "conn = connect(host='localhost', user='root')"
   ]
  },
  {
   "cell_type": "code",
   "execution_count": 3,
   "id": "4d83dfb7-5b8e-4dc8-894b-3d78a50233bb",
   "metadata": {},
   "outputs": [],
   "source": [
    "# Open a cursor to perform database operations\n",
    "cur = conn.cursor()"
   ]
  },
  {
   "cell_type": "code",
   "execution_count": 4,
   "id": "83c30f04-2b39-4cfb-9e7a-3904c3bc2c52",
   "metadata": {},
   "outputs": [
    {
     "data": {
      "text/plain": [
       "1"
      ]
     },
     "execution_count": 4,
     "metadata": {},
     "output_type": "execute_result"
    }
   ],
   "source": [
    "# Execute a query\n",
    "cur.execute(\"SELECT version();\")"
   ]
  },
  {
   "cell_type": "code",
   "execution_count": 5,
   "id": "46e919b8-2547-4b4e-a9db-9dd7c5e3d12b",
   "metadata": {},
   "outputs": [],
   "source": [
    "# Retrieve query results\n",
    "records = cur.fetchall()"
   ]
  },
  {
   "cell_type": "code",
   "execution_count": 6,
   "id": "9e81d785-6f91-4936-aa3a-626b6df7b589",
   "metadata": {},
   "outputs": [
    {
     "data": {
      "text/plain": [
       "(('8.2.0',),)"
      ]
     },
     "execution_count": 6,
     "metadata": {},
     "output_type": "execute_result"
    }
   ],
   "source": [
    "records"
   ]
  },
  {
   "cell_type": "code",
   "execution_count": 7,
   "id": "0c955d83-f77d-4fd9-9d3c-02ddcc273e34",
   "metadata": {},
   "outputs": [
    {
     "data": {
      "text/plain": [
       "91"
      ]
     },
     "execution_count": 7,
     "metadata": {},
     "output_type": "execute_result"
    }
   ],
   "source": [
    "# Execute a query\n",
    "cur.execute('''SELECT * FROM sqlw3s.Customers;''')"
   ]
  },
  {
   "cell_type": "code",
   "execution_count": 8,
   "id": "0c7d8861-600a-4b80-8f08-e799d0becd0c",
   "metadata": {},
   "outputs": [],
   "source": [
    "# Retrieve query results\n",
    "records = cur.fetchall()"
   ]
  },
  {
   "cell_type": "code",
   "execution_count": 9,
   "id": "fa4e9611-7ffa-43b3-af42-0acf347274a4",
   "metadata": {},
   "outputs": [
    {
     "data": {
      "text/plain": [
       "((1,\n",
       "  'Alfreds Futterkiste',\n",
       "  'Maria Anders',\n",
       "  'Obere Str. 57',\n",
       "  'Berlin',\n",
       "  '12209',\n",
       "  'Germany'),\n",
       " (2,\n",
       "  'Ana Trujillo Emparedados y helados',\n",
       "  'Ana Trujillo',\n",
       "  'Avda. de la Constitución 2222',\n",
       "  'México D.F.',\n",
       "  '05021',\n",
       "  'Mexico'),\n",
       " (3,\n",
       "  'Antonio Moreno Taquería',\n",
       "  'Antonio Moreno',\n",
       "  'Mataderos 2312',\n",
       "  'México D.F.',\n",
       "  '05023',\n",
       "  'Mexico'),\n",
       " (4,\n",
       "  'Around the Horn',\n",
       "  'Thomas Hardy',\n",
       "  '120 Hanover Sq.',\n",
       "  'London',\n",
       "  'WA1 1DP',\n",
       "  'UK'),\n",
       " (5,\n",
       "  'Berglunds snabbköp',\n",
       "  'Christina Berglund',\n",
       "  'Berguvsvägen 8',\n",
       "  'Luleå',\n",
       "  'S-958 22',\n",
       "  'Sweden'))"
      ]
     },
     "execution_count": 9,
     "metadata": {},
     "output_type": "execute_result"
    }
   ],
   "source": [
    "records[:5]"
   ]
  },
  {
   "cell_type": "code",
   "execution_count": 10,
   "id": "c06c2a6b-0a14-4898-93b4-6a53743f2cfe",
   "metadata": {},
   "outputs": [
    {
     "data": {
      "text/plain": [
       "91"
      ]
     },
     "execution_count": 10,
     "metadata": {},
     "output_type": "execute_result"
    }
   ],
   "source": [
    "# Execute a query\n",
    "cur.execute('''SELECT CustomerName, City FROM sqlw3s.Customers;''')"
   ]
  },
  {
   "cell_type": "code",
   "execution_count": 11,
   "id": "ade1fe42-becf-4273-9194-24004a8ef108",
   "metadata": {},
   "outputs": [],
   "source": [
    "# Retrieve query results\n",
    "records = cur.fetchall()"
   ]
  },
  {
   "cell_type": "code",
   "execution_count": 12,
   "id": "2e7543e6-4d82-46e9-b854-7e94b9451c84",
   "metadata": {},
   "outputs": [
    {
     "data": {
      "text/plain": [
       "(('Alfreds Futterkiste', 'Berlin'),\n",
       " ('Ana Trujillo Emparedados y helados', 'México D.F.'),\n",
       " ('Antonio Moreno Taquería', 'México D.F.'),\n",
       " ('Around the Horn', 'London'),\n",
       " ('Berglunds snabbköp', 'Luleå'),\n",
       " ('Blauer See Delikatessen', 'Mannheim'),\n",
       " ('Blondel père et fils', 'Strasbourg'),\n",
       " ('Bólido Comidas preparadas', 'Madrid'),\n",
       " (\"Bon app'\", 'Marseille'),\n",
       " ('Bottom-Dollar Marketse', 'Tsawassen'),\n",
       " (\"B's Beverages\", 'London'),\n",
       " ('Cactus Comidas para llevar', 'Buenos Aires'),\n",
       " ('Centro comercial Moctezuma', 'México D.F.'),\n",
       " ('Chop-suey Chinese', 'Bern'),\n",
       " ('Comércio Mineiro', 'São Paulo'),\n",
       " ('Consolidated Holdings', 'London'),\n",
       " ('Drachenblut Delikatessend', 'Aachen'),\n",
       " ('Du monde entier', 'Nantes'),\n",
       " ('Eastern Connection', 'London'),\n",
       " ('Ernst Handel', 'Graz'),\n",
       " ('Familia Arquibaldo', 'São Paulo'),\n",
       " ('FISSA Fabrica Inter. Salchichas S.A.', 'Madrid'),\n",
       " ('Folies gourmandes', 'Lille'),\n",
       " ('Folk och fä HB', 'Bräcke'),\n",
       " ('Frankenversand', 'München'),\n",
       " ('France restauration', 'Nantes'),\n",
       " ('Franchi S.p.A.', 'Torino'),\n",
       " ('Furia Bacalhau e Frutos do Mar', 'Lisboa'),\n",
       " ('Galería del gastrónomo', 'Barcelona'),\n",
       " ('Godos Cocina Típica', 'Sevilla'),\n",
       " ('Gourmet Lanchonetes', 'Campinas'),\n",
       " ('Great Lakes Food Market', 'Eugene'),\n",
       " ('GROSELLA-Restaurante', 'Caracas'),\n",
       " ('Hanari Carnes', 'Rio de Janeiro'),\n",
       " ('HILARIÓN-Abastos', 'San Cristóbal'),\n",
       " ('Hungry Coyote Import Store', 'Elgin'),\n",
       " ('Hungry Owl All-Night Grocers', 'Cork'),\n",
       " ('Island Trading', 'Cowes'),\n",
       " ('Königlich Essen', 'Brandenburg'),\n",
       " (\"La corne d'abondance\", 'Versailles'),\n",
       " (\"La maison d'Asie\", 'Toulouse'),\n",
       " ('Laughing Bacchus Wine Cellars', 'Vancouver'),\n",
       " ('Lazy K Kountry Store', 'Walla Walla'),\n",
       " ('Lehmanns Marktstand', 'Frankfurt a.M.'),\n",
       " (\"Let's Stop N Shop\", 'San Francisco'),\n",
       " ('LILA-Supermercado', 'Barquisimeto'),\n",
       " ('LINO-Delicateses', 'I. de Margarita'),\n",
       " ('Lonesome Pine Restaurant', 'Portland'),\n",
       " ('Magazzini Alimentari Riuniti', 'Bergamo'),\n",
       " ('Maison Dewey', 'Bruxelles'),\n",
       " ('Mère Paillarde', 'Montréal'),\n",
       " ('Morgenstern Gesundkost', 'Leipzig'),\n",
       " ('North/South', 'London'),\n",
       " ('Océano Atlántico Ltda.', 'Buenos Aires'),\n",
       " ('Old World Delicatessen', 'Anchorage'),\n",
       " ('Ottilies Käseladen', 'Köln'),\n",
       " ('Paris spécialités', 'Paris'),\n",
       " ('Pericles Comidas clásicas', 'México D.F.'),\n",
       " ('Piccolo und mehr', 'Salzburg'),\n",
       " ('Princesa Isabel Vinhoss', 'Lisboa'),\n",
       " ('Que Delícia', 'Rio de Janeiro'),\n",
       " ('Queen Cozinha', 'São Paulo'),\n",
       " ('QUICK-Stop', 'Cunewalde'),\n",
       " ('Rancho grande', 'Buenos Aires'),\n",
       " ('Rattlesnake Canyon Grocery', 'Albuquerque'),\n",
       " ('Reggiani Caseifici', 'Reggio Emilia'),\n",
       " ('Ricardo Adocicados', 'Rio de Janeiro'),\n",
       " ('Richter Supermarkt', 'Genève'),\n",
       " ('Romero y tomillo', 'Madrid'),\n",
       " ('Santé Gourmet', 'Stavern'),\n",
       " ('Save-a-lot Markets', 'Boise'),\n",
       " ('Seven Seas Imports', 'London'),\n",
       " ('Simons bistro', 'København'),\n",
       " ('Spécialités du monde', 'Paris'),\n",
       " ('Split Rail Beer & Ale', 'Lander'),\n",
       " ('Suprêmes délices', 'Charleroi'),\n",
       " ('The Big Cheese', 'Portland'),\n",
       " ('The Cracker Box', 'Butte'),\n",
       " ('Toms Spezialitäten', 'Münster'),\n",
       " ('Tortuga Restaurante', 'México D.F.'),\n",
       " ('Tradição Hipermercados', 'São Paulo'),\n",
       " (\"Trail's Head Gourmet Provisioners\", 'Kirkland'),\n",
       " ('Vaffeljernet', 'Århus'),\n",
       " ('Victuailles en stock', 'Lyon'),\n",
       " ('Vins et alcools Chevalier', 'Reims'),\n",
       " ('Die Wandernde Kuh', 'Stuttgart'),\n",
       " ('Wartian Herkku', 'Oulu'),\n",
       " ('Wellington Importadora', 'Resende'),\n",
       " ('White Clover Markets', 'Seattle'),\n",
       " ('Wilman Kala', 'Helsinki'),\n",
       " ('Wolski', 'Walla'))"
      ]
     },
     "execution_count": 12,
     "metadata": {},
     "output_type": "execute_result"
    }
   ],
   "source": [
    "records"
   ]
  },
  {
   "cell_type": "code",
   "execution_count": 13,
   "id": "146218ad-867f-42bd-906e-4b3b9eec5d04",
   "metadata": {},
   "outputs": [
    {
     "data": {
      "text/plain": [
       "21"
      ]
     },
     "execution_count": 13,
     "metadata": {},
     "output_type": "execute_result"
    }
   ],
   "source": [
    "# Execute a query\n",
    "cur.execute('''SELECT DISTINCT Country FROM sqlw3s.Customers;''')"
   ]
  },
  {
   "cell_type": "code",
   "execution_count": 14,
   "id": "6f36ce44-3888-4287-9d10-4b45c3b525e0",
   "metadata": {},
   "outputs": [],
   "source": [
    "# Retrieve query results\n",
    "records = cur.fetchall()"
   ]
  },
  {
   "cell_type": "code",
   "execution_count": 15,
   "id": "832155f2-be09-4ffe-a026-317e0508384f",
   "metadata": {},
   "outputs": [
    {
     "data": {
      "text/plain": [
       "(('Germany',),\n",
       " ('Mexico',),\n",
       " ('UK',),\n",
       " ('Sweden',),\n",
       " ('France',),\n",
       " ('Spain',),\n",
       " ('Canada',),\n",
       " ('Argentina',),\n",
       " ('Switzerland',),\n",
       " ('Brazil',),\n",
       " ('Austria',),\n",
       " ('Italy',),\n",
       " ('Portugal',),\n",
       " ('USA',),\n",
       " ('Venezuela',),\n",
       " ('Ireland',),\n",
       " ('Belgium',),\n",
       " ('Norway',),\n",
       " ('Denmark',),\n",
       " ('Finland',),\n",
       " ('Poland',))"
      ]
     },
     "execution_count": 15,
     "metadata": {},
     "output_type": "execute_result"
    }
   ],
   "source": [
    "records"
   ]
  },
  {
   "cell_type": "code",
   "execution_count": null,
   "id": "8fcfc4a9-051b-48f7-95f5-b7e1bf60803d",
   "metadata": {},
   "outputs": [],
   "source": []
  },
  {
   "cell_type": "code",
   "execution_count": null,
   "id": "770a0fb6-b288-4b7c-acb4-0d5a6bebba0f",
   "metadata": {},
   "outputs": [],
   "source": []
  }
 ],
 "metadata": {
  "kernelspec": {
   "display_name": "Python 3 (ipykernel)",
   "language": "python",
   "name": "python3"
  },
  "language_info": {
   "codemirror_mode": {
    "name": "ipython",
    "version": 3
   },
   "file_extension": ".py",
   "mimetype": "text/x-python",
   "name": "python",
   "nbconvert_exporter": "python",
   "pygments_lexer": "ipython3",
   "version": "3.12.1"
  }
 },
 "nbformat": 4,
 "nbformat_minor": 5
}
