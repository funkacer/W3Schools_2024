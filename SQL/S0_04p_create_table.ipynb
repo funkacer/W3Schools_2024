{
 "cells": [
  {
   "cell_type": "code",
   "execution_count": 1,
   "id": "ee178e09-2be8-4fda-b87b-5ec639b37275",
   "metadata": {},
   "outputs": [
    {
     "name": "stderr",
     "output_type": "stream",
     "text": [
      "/var/folders/fb/xl0hnskx527bfqkv38l3sn7h0000gn/T/ipykernel_19421/3687392072.py:2: DeprecationWarning: \n",
      "Pyarrow will become a required dependency of pandas in the next major release of pandas (pandas 3.0),\n",
      "(to allow more performant data types, such as the Arrow string type, and better interoperability with other libraries)\n",
      "but was not found to be installed on your system.\n",
      "If this would cause problems for you,\n",
      "please provide us feedback at https://github.com/pandas-dev/pandas/issues/54466\n",
      "        \n",
      "  import pandas as pd\n"
     ]
    }
   ],
   "source": [
    "from MySQLdb import connect\n",
    "import pandas as pd"
   ]
  },
  {
   "cell_type": "code",
   "execution_count": 2,
   "id": "0c12e6d7-6873-4e2d-b6ce-c6b3ba7fbe92",
   "metadata": {},
   "outputs": [],
   "source": [
    "# Connect to your MySQLdb\n",
    "#conn = connect(host='localhost', user='root')\n",
    "conn = connect(host='127.0.0.1', user='root', password = 'root', port = 8890)"
   ]
  },
  {
   "cell_type": "code",
   "execution_count": 3,
   "id": "4d83dfb7-5b8e-4dc8-894b-3d78a50233bb",
   "metadata": {},
   "outputs": [],
   "source": [
    "# Open a cursor to perform database operations\n",
    "cur = conn.cursor()"
   ]
  },
  {
   "cell_type": "code",
   "execution_count": 4,
   "id": "0c955d83-f77d-4fd9-9d3c-02ddcc273e34",
   "metadata": {},
   "outputs": [
    {
     "data": {
      "text/html": [
       "<div>\n",
       "<style scoped>\n",
       "    .dataframe tbody tr th:only-of-type {\n",
       "        vertical-align: middle;\n",
       "    }\n",
       "\n",
       "    .dataframe tbody tr th {\n",
       "        vertical-align: top;\n",
       "    }\n",
       "\n",
       "    .dataframe thead th {\n",
       "        text-align: right;\n",
       "    }\n",
       "</style>\n",
       "<table border=\"1\" class=\"dataframe\">\n",
       "  <thead>\n",
       "    <tr style=\"text-align: right;\">\n",
       "      <th></th>\n",
       "      <th>Database</th>\n",
       "    </tr>\n",
       "  </thead>\n",
       "  <tbody>\n",
       "    <tr>\n",
       "      <th>0</th>\n",
       "      <td>information_schema</td>\n",
       "    </tr>\n",
       "    <tr>\n",
       "      <th>1</th>\n",
       "      <td>mysql</td>\n",
       "    </tr>\n",
       "    <tr>\n",
       "      <th>2</th>\n",
       "      <td>performance_schema</td>\n",
       "    </tr>\n",
       "    <tr>\n",
       "      <th>3</th>\n",
       "      <td>sqlw3s</td>\n",
       "    </tr>\n",
       "    <tr>\n",
       "      <th>4</th>\n",
       "      <td>sys</td>\n",
       "    </tr>\n",
       "    <tr>\n",
       "      <th>5</th>\n",
       "      <td>testDB</td>\n",
       "    </tr>\n",
       "  </tbody>\n",
       "</table>\n",
       "</div>"
      ],
      "text/plain": [
       "             Database\n",
       "0  information_schema\n",
       "1               mysql\n",
       "2  performance_schema\n",
       "3              sqlw3s\n",
       "4                 sys\n",
       "5              testDB"
      ]
     },
     "execution_count": 4,
     "metadata": {},
     "output_type": "execute_result"
    }
   ],
   "source": [
    "# Return data from the Customers table:\n",
    "cur.execute('''SHOW DATABASES;''')\n",
    "df = pd.DataFrame(tuple(t) for t in cur.fetchall())\n",
    "df.columns = [i[0] for i in cur.description]\n",
    "df"
   ]
  },
  {
   "cell_type": "markdown",
   "id": "fb501bc3-5056-4ada-a080-6afd0426d958",
   "metadata": {},
   "source": [
    "The SQL CREATE TABLE Statement\n",
    "- The CREATE TABLE statement is used to create a new table in a database.\n",
    "- The column parameters specify the names of the columns of the table.\n",
    "- The datatype parameter specifies the type of data the column can hold (e.g. varchar, integer, date, etc.).\n",
    "- Tip: For an overview of the available data types, go to our complete Data Types Reference.\n",
    "\n",
    ">Syntax\n",
    ">\n",
    ">CREATE TABLE table_name (\n",
    ">\n",
    ">    column1 datatype,\n",
    ">\n",
    ">    column2 datatype,\n",
    ">\n",
    ">    column3 datatype,\n",
    ">\n",
    ">   ....\n",
    ">\n",
    ">);\n",
    "\n",
    "\n",
    "SQL CREATE TABLE Example"
   ]
  },
  {
   "cell_type": "code",
   "execution_count": 55,
   "id": "d971f452-59fa-4e37-a750-d76565ec0174",
   "metadata": {},
   "outputs": [],
   "source": [
    "#cur.execute('''DROP TABLE testDB.Persons;''')"
   ]
  },
  {
   "cell_type": "code",
   "execution_count": 56,
   "id": "bff197f4-6374-4830-b7cc-d2fcaad76647",
   "metadata": {},
   "outputs": [
    {
     "data": {
      "text/plain": [
       "0"
      ]
     },
     "execution_count": 56,
     "metadata": {},
     "output_type": "execute_result"
    }
   ],
   "source": [
    "#The following example creates a table called \"Persons\" that contains five columns: PersonID, LastName, FirstName, Address, and City:\n",
    "cur.execute('''CREATE TABLE testDB.Persons (\n",
    "    PersonID int,\n",
    "    LastName varchar(255),\n",
    "    FirstName varchar(255),\n",
    "    Address varchar(255),\n",
    "    City varchar(255)\n",
    ");''')"
   ]
  },
  {
   "cell_type": "markdown",
   "id": "1b5ac189-bddb-48b6-8542-ca5cf56c3290",
   "metadata": {},
   "source": [
    "- The PersonID column is of type int and will hold an integer.\n",
    "- The LastName, FirstName, Address, and City columns are of type varchar and will hold characters, and the maximum length for these fields is 255 characters.\n",
    "\n",
    "The empty \"Persons\" table will now look like this:"
   ]
  },
  {
   "cell_type": "code",
   "execution_count": 57,
   "id": "918462be-d3dc-4074-8b4e-893de81bc325",
   "metadata": {},
   "outputs": [
    {
     "data": {
      "text/html": [
       "<div>\n",
       "<style scoped>\n",
       "    .dataframe tbody tr th:only-of-type {\n",
       "        vertical-align: middle;\n",
       "    }\n",
       "\n",
       "    .dataframe tbody tr th {\n",
       "        vertical-align: top;\n",
       "    }\n",
       "\n",
       "    .dataframe thead th {\n",
       "        text-align: right;\n",
       "    }\n",
       "</style>\n",
       "<table border=\"1\" class=\"dataframe\">\n",
       "  <thead>\n",
       "    <tr style=\"text-align: right;\">\n",
       "      <th></th>\n",
       "      <th>PersonID</th>\n",
       "      <th>LastName</th>\n",
       "      <th>FirstName</th>\n",
       "      <th>Address</th>\n",
       "      <th>City</th>\n",
       "    </tr>\n",
       "  </thead>\n",
       "  <tbody>\n",
       "    <tr>\n",
       "      <th>0</th>\n",
       "      <td></td>\n",
       "      <td></td>\n",
       "      <td></td>\n",
       "      <td></td>\n",
       "      <td></td>\n",
       "    </tr>\n",
       "  </tbody>\n",
       "</table>\n",
       "</div>"
      ],
      "text/plain": [
       "  PersonID LastName FirstName Address City\n",
       "0                                         "
      ]
     },
     "execution_count": 57,
     "metadata": {},
     "output_type": "execute_result"
    }
   ],
   "source": [
    "# Return data from the Customers table:\n",
    "cur.execute('''SELECT * FROM testDB.Persons;''')\n",
    "df = pd.DataFrame(tuple(t) for t in cur.fetchall())\n",
    "columns = [i[0] for i in cur.description]\n",
    "if len(df) == 0: df = pd.DataFrame([[\"\" for i in range(len(columns))]])\n",
    "df.columns = columns\n",
    "df"
   ]
  },
  {
   "cell_type": "markdown",
   "id": "00e66e01-9588-4151-a37b-e61167860e1a",
   "metadata": {},
   "source": [
    "Tip: The empty \"Persons\" table can now be filled with data with the SQL INSERT INTO statement."
   ]
  },
  {
   "cell_type": "code",
   "execution_count": 5,
   "id": "e2c25bbb-9a6c-4dc5-82d1-6cbbe677696d",
   "metadata": {},
   "outputs": [],
   "source": [
    "cur.execute('''INSERT INTO testDB.Persons VALUES\n",
    "(1, 'Hansen', 'Ola', 'Timoteivn 10', 'Sandnes'),\n",
    "(2, 'Svendson', 'Tove', 'Borgvn 23', 'Sandnes'),\n",
    "(3, 'Pettersen', 'Kari', 'Storgt 20', 'Stavanger');''')\n",
    "conn.commit()"
   ]
  },
  {
   "cell_type": "markdown",
   "id": "54306a54-c3c2-4baf-a30b-d835734bcceb",
   "metadata": {},
   "source": [
    "Create Table Using Another Table\n",
    "- A copy of an existing table can also be created using CREATE TABLE.\n",
    "- The new table gets the same column definitions. All columns or specific columns can be selected.\n",
    "- If you create a new table using an existing table, the new table will be filled with the existing values from the old table.\n",
    "\n",
    ">Syntax\n",
    ">\n",
    ">CREATE TABLE new_table_name AS\n",
    ">\n",
    ">    SELECT column1, column2,...\n",
    ">\n",
    ">    FROM existing_table_name\n",
    ">\n",
    ">    WHERE ....;"
   ]
  },
  {
   "cell_type": "code",
   "execution_count": 73,
   "id": "62e9e52c-7df6-4171-a0b3-58adf005e1ec",
   "metadata": {},
   "outputs": [],
   "source": [
    "#cur.execute('''DROP TABLE testDB.TestTable;''')"
   ]
  },
  {
   "cell_type": "code",
   "execution_count": 71,
   "id": "090c2bee-94f0-499f-83f0-09f28867b2f7",
   "metadata": {},
   "outputs": [
    {
     "data": {
      "text/plain": [
       "91"
      ]
     },
     "execution_count": 71,
     "metadata": {},
     "output_type": "execute_result"
    }
   ],
   "source": [
    "# The following SQL creates a new table called \"TestTables\" (which is a copy of the \"Customers\" table): \n",
    "cur.execute('''CREATE TABLE testDB.TestTable AS\n",
    "SELECT CustomerName, ContactName\n",
    "FROM testDB.Customers;''')"
   ]
  },
  {
   "cell_type": "code",
   "execution_count": 72,
   "id": "eb4b8103-dd6d-41f4-aa0f-a4bd53de01bc",
   "metadata": {},
   "outputs": [
    {
     "data": {
      "text/html": [
       "<div>\n",
       "<style scoped>\n",
       "    .dataframe tbody tr th:only-of-type {\n",
       "        vertical-align: middle;\n",
       "    }\n",
       "\n",
       "    .dataframe tbody tr th {\n",
       "        vertical-align: top;\n",
       "    }\n",
       "\n",
       "    .dataframe thead th {\n",
       "        text-align: right;\n",
       "    }\n",
       "</style>\n",
       "<table border=\"1\" class=\"dataframe\">\n",
       "  <thead>\n",
       "    <tr style=\"text-align: right;\">\n",
       "      <th></th>\n",
       "      <th>CustomerName</th>\n",
       "      <th>ContactName</th>\n",
       "    </tr>\n",
       "  </thead>\n",
       "  <tbody>\n",
       "    <tr>\n",
       "      <th>0</th>\n",
       "      <td>Alfreds Futterkiste</td>\n",
       "      <td>Maria Anders</td>\n",
       "    </tr>\n",
       "    <tr>\n",
       "      <th>1</th>\n",
       "      <td>Ana Trujillo Emparedados y helados</td>\n",
       "      <td>Ana Trujillo</td>\n",
       "    </tr>\n",
       "    <tr>\n",
       "      <th>2</th>\n",
       "      <td>Antonio Moreno Taquería</td>\n",
       "      <td>Antonio Moreno</td>\n",
       "    </tr>\n",
       "    <tr>\n",
       "      <th>3</th>\n",
       "      <td>Around the Horn</td>\n",
       "      <td>Thomas Hardy</td>\n",
       "    </tr>\n",
       "    <tr>\n",
       "      <th>4</th>\n",
       "      <td>Berglunds snabbköp</td>\n",
       "      <td>Christina Berglund</td>\n",
       "    </tr>\n",
       "    <tr>\n",
       "      <th>...</th>\n",
       "      <td>...</td>\n",
       "      <td>...</td>\n",
       "    </tr>\n",
       "    <tr>\n",
       "      <th>86</th>\n",
       "      <td>Wartian Herkku</td>\n",
       "      <td>Pirkko Koskitalo</td>\n",
       "    </tr>\n",
       "    <tr>\n",
       "      <th>87</th>\n",
       "      <td>Wellington Importadora</td>\n",
       "      <td>Paula Parente</td>\n",
       "    </tr>\n",
       "    <tr>\n",
       "      <th>88</th>\n",
       "      <td>White Clover Markets</td>\n",
       "      <td>Karl Jablonski</td>\n",
       "    </tr>\n",
       "    <tr>\n",
       "      <th>89</th>\n",
       "      <td>Wilman Kala</td>\n",
       "      <td>Matti Karttunen</td>\n",
       "    </tr>\n",
       "    <tr>\n",
       "      <th>90</th>\n",
       "      <td>Wolski</td>\n",
       "      <td>Zbyszek</td>\n",
       "    </tr>\n",
       "  </tbody>\n",
       "</table>\n",
       "<p>91 rows × 2 columns</p>\n",
       "</div>"
      ],
      "text/plain": [
       "                          CustomerName         ContactName\n",
       "0                  Alfreds Futterkiste        Maria Anders\n",
       "1   Ana Trujillo Emparedados y helados        Ana Trujillo\n",
       "2              Antonio Moreno Taquería      Antonio Moreno\n",
       "3                      Around the Horn        Thomas Hardy\n",
       "4                   Berglunds snabbköp  Christina Berglund\n",
       "..                                 ...                 ...\n",
       "86                      Wartian Herkku    Pirkko Koskitalo\n",
       "87              Wellington Importadora       Paula Parente\n",
       "88                White Clover Markets      Karl Jablonski\n",
       "89                         Wilman Kala     Matti Karttunen\n",
       "90                              Wolski             Zbyszek\n",
       "\n",
       "[91 rows x 2 columns]"
      ]
     },
     "execution_count": 72,
     "metadata": {},
     "output_type": "execute_result"
    }
   ],
   "source": [
    "# Return data from the TestTable table:\n",
    "cur.execute('''SELECT * FROM testDB.TestTable;''')\n",
    "df = pd.DataFrame(tuple(t) for t in cur.fetchall())\n",
    "columns = [i[0] for i in cur.description]\n",
    "if len(df) == 0: df = pd.DataFrame([[\"\" for i in range(len(columns))]])\n",
    "df.columns = columns\n",
    "df"
   ]
  },
  {
   "cell_type": "code",
   "execution_count": null,
   "id": "2711f579-8738-48fe-8bbd-8fbaf7ca9d7a",
   "metadata": {},
   "outputs": [],
   "source": []
  }
 ],
 "metadata": {
  "kernelspec": {
   "display_name": "Python 3 (ipykernel)",
   "language": "python",
   "name": "python3"
  },
  "language_info": {
   "codemirror_mode": {
    "name": "ipython",
    "version": 3
   },
   "file_extension": ".py",
   "mimetype": "text/x-python",
   "name": "python",
   "nbconvert_exporter": "python",
   "pygments_lexer": "ipython3",
   "version": "3.11.8"
  }
 },
 "nbformat": 4,
 "nbformat_minor": 5
}
