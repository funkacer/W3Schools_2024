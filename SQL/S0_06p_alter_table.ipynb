{
 "cells": [
  {
   "cell_type": "code",
   "execution_count": 1,
   "id": "ee178e09-2be8-4fda-b87b-5ec639b37275",
   "metadata": {},
   "outputs": [
    {
     "name": "stderr",
     "output_type": "stream",
     "text": [
      "/var/folders/fb/xl0hnskx527bfqkv38l3sn7h0000gn/T/ipykernel_30824/3687392072.py:2: DeprecationWarning: \n",
      "Pyarrow will become a required dependency of pandas in the next major release of pandas (pandas 3.0),\n",
      "(to allow more performant data types, such as the Arrow string type, and better interoperability with other libraries)\n",
      "but was not found to be installed on your system.\n",
      "If this would cause problems for you,\n",
      "please provide us feedback at https://github.com/pandas-dev/pandas/issues/54466\n",
      "        \n",
      "  import pandas as pd\n"
     ]
    }
   ],
   "source": [
    "from MySQLdb import connect\n",
    "import pandas as pd"
   ]
  },
  {
   "cell_type": "code",
   "execution_count": 2,
   "id": "0c12e6d7-6873-4e2d-b6ce-c6b3ba7fbe92",
   "metadata": {},
   "outputs": [],
   "source": [
    "# Connect to your MySQLdb\n",
    "#conn = connect(host='localhost', user='root')\n",
    "conn = connect(host='127.0.0.1', user='root', password = 'root', port = 8890)"
   ]
  },
  {
   "cell_type": "code",
   "execution_count": 3,
   "id": "4d83dfb7-5b8e-4dc8-894b-3d78a50233bb",
   "metadata": {},
   "outputs": [],
   "source": [
    "# Open a cursor to perform database operations\n",
    "cur = conn.cursor()"
   ]
  },
  {
   "cell_type": "code",
   "execution_count": 4,
   "id": "0c955d83-f77d-4fd9-9d3c-02ddcc273e34",
   "metadata": {},
   "outputs": [
    {
     "data": {
      "text/html": [
       "<div>\n",
       "<style scoped>\n",
       "    .dataframe tbody tr th:only-of-type {\n",
       "        vertical-align: middle;\n",
       "    }\n",
       "\n",
       "    .dataframe tbody tr th {\n",
       "        vertical-align: top;\n",
       "    }\n",
       "\n",
       "    .dataframe thead th {\n",
       "        text-align: right;\n",
       "    }\n",
       "</style>\n",
       "<table border=\"1\" class=\"dataframe\">\n",
       "  <thead>\n",
       "    <tr style=\"text-align: right;\">\n",
       "      <th></th>\n",
       "      <th>Database</th>\n",
       "    </tr>\n",
       "  </thead>\n",
       "  <tbody>\n",
       "    <tr>\n",
       "      <th>0</th>\n",
       "      <td>information_schema</td>\n",
       "    </tr>\n",
       "    <tr>\n",
       "      <th>1</th>\n",
       "      <td>mysql</td>\n",
       "    </tr>\n",
       "    <tr>\n",
       "      <th>2</th>\n",
       "      <td>performance_schema</td>\n",
       "    </tr>\n",
       "    <tr>\n",
       "      <th>3</th>\n",
       "      <td>sqlw3s</td>\n",
       "    </tr>\n",
       "    <tr>\n",
       "      <th>4</th>\n",
       "      <td>sys</td>\n",
       "    </tr>\n",
       "    <tr>\n",
       "      <th>5</th>\n",
       "      <td>testDB</td>\n",
       "    </tr>\n",
       "  </tbody>\n",
       "</table>\n",
       "</div>"
      ],
      "text/plain": [
       "             Database\n",
       "0  information_schema\n",
       "1               mysql\n",
       "2  performance_schema\n",
       "3              sqlw3s\n",
       "4                 sys\n",
       "5              testDB"
      ]
     },
     "execution_count": 4,
     "metadata": {},
     "output_type": "execute_result"
    }
   ],
   "source": [
    "# Return data from the Customers table:\n",
    "cur.execute('''SHOW DATABASES;''')\n",
    "df = pd.DataFrame(tuple(t) for t in cur.fetchall())\n",
    "df.columns = [i[0] for i in cur.description]\n",
    "df"
   ]
  },
  {
   "cell_type": "markdown",
   "id": "fb501bc3-5056-4ada-a080-6afd0426d958",
   "metadata": {},
   "source": [
    "SQL ALTER TABLE Statement\n",
    "- The ALTER TABLE statement is used to add, delete, or modify columns in an existing table.\n",
    "- The ALTER TABLE statement is also used to add and drop various constraints on an existing table."
   ]
  },
  {
   "cell_type": "markdown",
   "id": "689d4664-bea2-45f7-bd67-67ac862312c5",
   "metadata": {},
   "source": [
    "ALTER TABLE - ADD Column\n",
    "- To add a column in a table, use the following syntax:\n",
    "\n",
    ">ALTER TABLE table_name\n",
    ">\n",
    ">ADD column_name datatype;\n"
   ]
  },
  {
   "cell_type": "code",
   "execution_count": 7,
   "id": "1ea8038c-3642-4220-b155-0922501db85b",
   "metadata": {},
   "outputs": [],
   "source": [
    "#cur.execute('''DROP TABLE testDB.CustomersNew;''')"
   ]
  },
  {
   "cell_type": "code",
   "execution_count": 6,
   "id": "724c1ad4-f18d-4463-85dc-910185c3949e",
   "metadata": {},
   "outputs": [
    {
     "data": {
      "text/plain": [
       "91"
      ]
     },
     "execution_count": 6,
     "metadata": {},
     "output_type": "execute_result"
    }
   ],
   "source": [
    "cur.execute('''CREATE TABLE testDB.CustomersNew AS SELECT * FROM testDB.Customers;''')"
   ]
  },
  {
   "cell_type": "code",
   "execution_count": 6,
   "id": "e1b93773-6b11-4dee-88d0-1152060ea126",
   "metadata": {},
   "outputs": [
    {
     "data": {
      "text/plain": [
       "0"
      ]
     },
     "execution_count": 6,
     "metadata": {},
     "output_type": "execute_result"
    }
   ],
   "source": [
    "# The following SQL adds an \"Email\" column to the \"Customers\" table:\n",
    "cur.execute('''ALTER TABLE testDB.CustomersNew\n",
    "ADD Email varchar(255);''')"
   ]
  },
  {
   "cell_type": "code",
   "execution_count": 7,
   "id": "962472a5-0a7a-479d-9c0f-e504d732480e",
   "metadata": {},
   "outputs": [
    {
     "data": {
      "text/html": [
       "<div>\n",
       "<style scoped>\n",
       "    .dataframe tbody tr th:only-of-type {\n",
       "        vertical-align: middle;\n",
       "    }\n",
       "\n",
       "    .dataframe tbody tr th {\n",
       "        vertical-align: top;\n",
       "    }\n",
       "\n",
       "    .dataframe thead th {\n",
       "        text-align: right;\n",
       "    }\n",
       "</style>\n",
       "<table border=\"1\" class=\"dataframe\">\n",
       "  <thead>\n",
       "    <tr style=\"text-align: right;\">\n",
       "      <th></th>\n",
       "      <th>CustomerID</th>\n",
       "      <th>CustomerName</th>\n",
       "      <th>ContactName</th>\n",
       "      <th>Address</th>\n",
       "      <th>City</th>\n",
       "      <th>PostalCode</th>\n",
       "      <th>Country</th>\n",
       "      <th>Email</th>\n",
       "    </tr>\n",
       "  </thead>\n",
       "  <tbody>\n",
       "    <tr>\n",
       "      <th>0</th>\n",
       "      <td>1</td>\n",
       "      <td>Alfreds Futterkiste</td>\n",
       "      <td>Maria Anders</td>\n",
       "      <td>Obere Str. 57</td>\n",
       "      <td>Berlin</td>\n",
       "      <td>12209</td>\n",
       "      <td>Germany</td>\n",
       "      <td>None</td>\n",
       "    </tr>\n",
       "    <tr>\n",
       "      <th>1</th>\n",
       "      <td>2</td>\n",
       "      <td>Ana Trujillo Emparedados y helados</td>\n",
       "      <td>Ana Trujillo</td>\n",
       "      <td>Avda. de la Constitución 2222</td>\n",
       "      <td>México D.F.</td>\n",
       "      <td>05021</td>\n",
       "      <td>Mexico</td>\n",
       "      <td>None</td>\n",
       "    </tr>\n",
       "    <tr>\n",
       "      <th>2</th>\n",
       "      <td>3</td>\n",
       "      <td>Antonio Moreno Taquería</td>\n",
       "      <td>Antonio Moreno</td>\n",
       "      <td>Mataderos 2312</td>\n",
       "      <td>México D.F.</td>\n",
       "      <td>05023</td>\n",
       "      <td>Mexico</td>\n",
       "      <td>None</td>\n",
       "    </tr>\n",
       "    <tr>\n",
       "      <th>3</th>\n",
       "      <td>4</td>\n",
       "      <td>Around the Horn</td>\n",
       "      <td>Thomas Hardy</td>\n",
       "      <td>120 Hanover Sq.</td>\n",
       "      <td>London</td>\n",
       "      <td>WA1 1DP</td>\n",
       "      <td>UK</td>\n",
       "      <td>None</td>\n",
       "    </tr>\n",
       "    <tr>\n",
       "      <th>4</th>\n",
       "      <td>5</td>\n",
       "      <td>Berglunds snabbköp</td>\n",
       "      <td>Christina Berglund</td>\n",
       "      <td>Berguvsvägen 8</td>\n",
       "      <td>Luleå</td>\n",
       "      <td>S-958 22</td>\n",
       "      <td>Sweden</td>\n",
       "      <td>None</td>\n",
       "    </tr>\n",
       "    <tr>\n",
       "      <th>...</th>\n",
       "      <td>...</td>\n",
       "      <td>...</td>\n",
       "      <td>...</td>\n",
       "      <td>...</td>\n",
       "      <td>...</td>\n",
       "      <td>...</td>\n",
       "      <td>...</td>\n",
       "      <td>...</td>\n",
       "    </tr>\n",
       "    <tr>\n",
       "      <th>86</th>\n",
       "      <td>87</td>\n",
       "      <td>Wartian Herkku</td>\n",
       "      <td>Pirkko Koskitalo</td>\n",
       "      <td>Torikatu 38</td>\n",
       "      <td>Oulu</td>\n",
       "      <td>90110</td>\n",
       "      <td>Finland</td>\n",
       "      <td>None</td>\n",
       "    </tr>\n",
       "    <tr>\n",
       "      <th>87</th>\n",
       "      <td>88</td>\n",
       "      <td>Wellington Importadora</td>\n",
       "      <td>Paula Parente</td>\n",
       "      <td>Rua do Mercado, 12</td>\n",
       "      <td>Resende</td>\n",
       "      <td>08737-363</td>\n",
       "      <td>Brazil</td>\n",
       "      <td>None</td>\n",
       "    </tr>\n",
       "    <tr>\n",
       "      <th>88</th>\n",
       "      <td>89</td>\n",
       "      <td>White Clover Markets</td>\n",
       "      <td>Karl Jablonski</td>\n",
       "      <td>305 - 14th Ave. S. Suite 3B</td>\n",
       "      <td>Seattle</td>\n",
       "      <td>98128</td>\n",
       "      <td>USA</td>\n",
       "      <td>None</td>\n",
       "    </tr>\n",
       "    <tr>\n",
       "      <th>89</th>\n",
       "      <td>90</td>\n",
       "      <td>Wilman Kala</td>\n",
       "      <td>Matti Karttunen</td>\n",
       "      <td>Keskuskatu 45</td>\n",
       "      <td>Helsinki</td>\n",
       "      <td>21240</td>\n",
       "      <td>Finland</td>\n",
       "      <td>None</td>\n",
       "    </tr>\n",
       "    <tr>\n",
       "      <th>90</th>\n",
       "      <td>91</td>\n",
       "      <td>Wolski</td>\n",
       "      <td>Zbyszek</td>\n",
       "      <td>ul. Filtrowa 68</td>\n",
       "      <td>Walla</td>\n",
       "      <td>01-012</td>\n",
       "      <td>Poland</td>\n",
       "      <td>None</td>\n",
       "    </tr>\n",
       "  </tbody>\n",
       "</table>\n",
       "<p>91 rows × 8 columns</p>\n",
       "</div>"
      ],
      "text/plain": [
       "    CustomerID                        CustomerName         ContactName  \\\n",
       "0            1                 Alfreds Futterkiste        Maria Anders   \n",
       "1            2  Ana Trujillo Emparedados y helados        Ana Trujillo   \n",
       "2            3             Antonio Moreno Taquería      Antonio Moreno   \n",
       "3            4                     Around the Horn        Thomas Hardy   \n",
       "4            5                  Berglunds snabbköp  Christina Berglund   \n",
       "..         ...                                 ...                 ...   \n",
       "86          87                      Wartian Herkku    Pirkko Koskitalo   \n",
       "87          88              Wellington Importadora       Paula Parente   \n",
       "88          89                White Clover Markets      Karl Jablonski   \n",
       "89          90                         Wilman Kala     Matti Karttunen   \n",
       "90          91                              Wolski             Zbyszek   \n",
       "\n",
       "                          Address         City PostalCode  Country Email  \n",
       "0                   Obere Str. 57       Berlin      12209  Germany  None  \n",
       "1   Avda. de la Constitución 2222  México D.F.      05021   Mexico  None  \n",
       "2                  Mataderos 2312  México D.F.      05023   Mexico  None  \n",
       "3                 120 Hanover Sq.       London    WA1 1DP       UK  None  \n",
       "4                  Berguvsvägen 8        Luleå   S-958 22   Sweden  None  \n",
       "..                            ...          ...        ...      ...   ...  \n",
       "86                    Torikatu 38         Oulu      90110  Finland  None  \n",
       "87             Rua do Mercado, 12      Resende  08737-363   Brazil  None  \n",
       "88    305 - 14th Ave. S. Suite 3B      Seattle      98128      USA  None  \n",
       "89                  Keskuskatu 45     Helsinki      21240  Finland  None  \n",
       "90                ul. Filtrowa 68        Walla     01-012   Poland  None  \n",
       "\n",
       "[91 rows x 8 columns]"
      ]
     },
     "execution_count": 7,
     "metadata": {},
     "output_type": "execute_result"
    }
   ],
   "source": [
    "# Return data from the ShippersOld table:\n",
    "cur.execute('''SELECT * FROM testDB.CustomersNew;''')\n",
    "df = pd.DataFrame(tuple(t) for t in cur.fetchall())\n",
    "columns = [i[0] for i in cur.description]\n",
    "if len(df) == 0: df = pd.DataFrame([[\"\" for i in range(len(columns))]])\n",
    "df.columns = columns\n",
    "df"
   ]
  },
  {
   "cell_type": "markdown",
   "id": "16021990-ada1-485c-be32-6c8abec21731",
   "metadata": {},
   "source": [
    "ALTER TABLE - DROP COLUMN\n",
    "- To delete a column in a table, use the following syntax (notice that some database systems don't allow deleting a column):\n",
    "\n",
    ">ALTER TABLE table_name\n",
    ">\n",
    ">DROP COLUMN column_name;"
   ]
  },
  {
   "cell_type": "code",
   "execution_count": 8,
   "id": "13a20c50-a311-483b-a329-d27d6e42260e",
   "metadata": {},
   "outputs": [
    {
     "data": {
      "text/plain": [
       "0"
      ]
     },
     "execution_count": 8,
     "metadata": {},
     "output_type": "execute_result"
    }
   ],
   "source": [
    "# The following SQL deletes the \"Email\" column from the \"Customers\" table:\n",
    "cur.execute('''ALTER TABLE testDB.CustomersNew\n",
    "DROP COLUMN Email;''')"
   ]
  },
  {
   "cell_type": "code",
   "execution_count": 15,
   "id": "daf4debf-27d4-49d8-8f0d-562569eae3b5",
   "metadata": {},
   "outputs": [
    {
     "data": {
      "text/html": [
       "<div>\n",
       "<style scoped>\n",
       "    .dataframe tbody tr th:only-of-type {\n",
       "        vertical-align: middle;\n",
       "    }\n",
       "\n",
       "    .dataframe tbody tr th {\n",
       "        vertical-align: top;\n",
       "    }\n",
       "\n",
       "    .dataframe thead th {\n",
       "        text-align: right;\n",
       "    }\n",
       "</style>\n",
       "<table border=\"1\" class=\"dataframe\">\n",
       "  <thead>\n",
       "    <tr style=\"text-align: right;\">\n",
       "      <th></th>\n",
       "      <th>CustomerID</th>\n",
       "      <th>CustomerName</th>\n",
       "      <th>ContactName</th>\n",
       "      <th>Address</th>\n",
       "      <th>City</th>\n",
       "      <th>PostalCode</th>\n",
       "      <th>Country</th>\n",
       "    </tr>\n",
       "  </thead>\n",
       "  <tbody>\n",
       "    <tr>\n",
       "      <th>0</th>\n",
       "      <td>1</td>\n",
       "      <td>Alfreds Futterkiste</td>\n",
       "      <td>Maria Anders</td>\n",
       "      <td>Obere Str. 57</td>\n",
       "      <td>Berlin</td>\n",
       "      <td>12209</td>\n",
       "      <td>Germany</td>\n",
       "    </tr>\n",
       "    <tr>\n",
       "      <th>1</th>\n",
       "      <td>2</td>\n",
       "      <td>Ana Trujillo Emparedados y helados</td>\n",
       "      <td>Ana Trujillo</td>\n",
       "      <td>Avda. de la Constitución 2222</td>\n",
       "      <td>México D.F.</td>\n",
       "      <td>05021</td>\n",
       "      <td>Mexico</td>\n",
       "    </tr>\n",
       "    <tr>\n",
       "      <th>2</th>\n",
       "      <td>3</td>\n",
       "      <td>Antonio Moreno Taquería</td>\n",
       "      <td>Antonio Moreno</td>\n",
       "      <td>Mataderos 2312</td>\n",
       "      <td>México D.F.</td>\n",
       "      <td>05023</td>\n",
       "      <td>Mexico</td>\n",
       "    </tr>\n",
       "    <tr>\n",
       "      <th>3</th>\n",
       "      <td>4</td>\n",
       "      <td>Around the Horn</td>\n",
       "      <td>Thomas Hardy</td>\n",
       "      <td>120 Hanover Sq.</td>\n",
       "      <td>London</td>\n",
       "      <td>WA1 1DP</td>\n",
       "      <td>UK</td>\n",
       "    </tr>\n",
       "    <tr>\n",
       "      <th>4</th>\n",
       "      <td>5</td>\n",
       "      <td>Berglunds snabbköp</td>\n",
       "      <td>Christina Berglund</td>\n",
       "      <td>Berguvsvägen 8</td>\n",
       "      <td>Luleå</td>\n",
       "      <td>S-958 22</td>\n",
       "      <td>Sweden</td>\n",
       "    </tr>\n",
       "    <tr>\n",
       "      <th>...</th>\n",
       "      <td>...</td>\n",
       "      <td>...</td>\n",
       "      <td>...</td>\n",
       "      <td>...</td>\n",
       "      <td>...</td>\n",
       "      <td>...</td>\n",
       "      <td>...</td>\n",
       "    </tr>\n",
       "    <tr>\n",
       "      <th>86</th>\n",
       "      <td>87</td>\n",
       "      <td>Wartian Herkku</td>\n",
       "      <td>Pirkko Koskitalo</td>\n",
       "      <td>Torikatu 38</td>\n",
       "      <td>Oulu</td>\n",
       "      <td>90110</td>\n",
       "      <td>Finland</td>\n",
       "    </tr>\n",
       "    <tr>\n",
       "      <th>87</th>\n",
       "      <td>88</td>\n",
       "      <td>Wellington Importadora</td>\n",
       "      <td>Paula Parente</td>\n",
       "      <td>Rua do Mercado, 12</td>\n",
       "      <td>Resende</td>\n",
       "      <td>08737-363</td>\n",
       "      <td>Brazil</td>\n",
       "    </tr>\n",
       "    <tr>\n",
       "      <th>88</th>\n",
       "      <td>89</td>\n",
       "      <td>White Clover Markets</td>\n",
       "      <td>Karl Jablonski</td>\n",
       "      <td>305 - 14th Ave. S. Suite 3B</td>\n",
       "      <td>Seattle</td>\n",
       "      <td>98128</td>\n",
       "      <td>USA</td>\n",
       "    </tr>\n",
       "    <tr>\n",
       "      <th>89</th>\n",
       "      <td>90</td>\n",
       "      <td>Wilman Kala</td>\n",
       "      <td>Matti Karttunen</td>\n",
       "      <td>Keskuskatu 45</td>\n",
       "      <td>Helsinki</td>\n",
       "      <td>21240</td>\n",
       "      <td>Finland</td>\n",
       "    </tr>\n",
       "    <tr>\n",
       "      <th>90</th>\n",
       "      <td>91</td>\n",
       "      <td>Wolski</td>\n",
       "      <td>Zbyszek</td>\n",
       "      <td>ul. Filtrowa 68</td>\n",
       "      <td>Walla</td>\n",
       "      <td>01-012</td>\n",
       "      <td>Poland</td>\n",
       "    </tr>\n",
       "  </tbody>\n",
       "</table>\n",
       "<p>91 rows × 7 columns</p>\n",
       "</div>"
      ],
      "text/plain": [
       "    CustomerID                        CustomerName         ContactName  \\\n",
       "0            1                 Alfreds Futterkiste        Maria Anders   \n",
       "1            2  Ana Trujillo Emparedados y helados        Ana Trujillo   \n",
       "2            3             Antonio Moreno Taquería      Antonio Moreno   \n",
       "3            4                     Around the Horn        Thomas Hardy   \n",
       "4            5                  Berglunds snabbköp  Christina Berglund   \n",
       "..         ...                                 ...                 ...   \n",
       "86          87                      Wartian Herkku    Pirkko Koskitalo   \n",
       "87          88              Wellington Importadora       Paula Parente   \n",
       "88          89                White Clover Markets      Karl Jablonski   \n",
       "89          90                         Wilman Kala     Matti Karttunen   \n",
       "90          91                              Wolski             Zbyszek   \n",
       "\n",
       "                          Address         City PostalCode  Country  \n",
       "0                   Obere Str. 57       Berlin      12209  Germany  \n",
       "1   Avda. de la Constitución 2222  México D.F.      05021   Mexico  \n",
       "2                  Mataderos 2312  México D.F.      05023   Mexico  \n",
       "3                 120 Hanover Sq.       London    WA1 1DP       UK  \n",
       "4                  Berguvsvägen 8        Luleå   S-958 22   Sweden  \n",
       "..                            ...          ...        ...      ...  \n",
       "86                    Torikatu 38         Oulu      90110  Finland  \n",
       "87             Rua do Mercado, 12      Resende  08737-363   Brazil  \n",
       "88    305 - 14th Ave. S. Suite 3B      Seattle      98128      USA  \n",
       "89                  Keskuskatu 45     Helsinki      21240  Finland  \n",
       "90                ul. Filtrowa 68        Walla     01-012   Poland  \n",
       "\n",
       "[91 rows x 7 columns]"
      ]
     },
     "execution_count": 15,
     "metadata": {},
     "output_type": "execute_result"
    }
   ],
   "source": [
    "# Return data from the ShippersOld table:\n",
    "cur.execute('''SELECT * FROM testDB.CustomersNew;''')\n",
    "df = pd.DataFrame(tuple(t) for t in cur.fetchall())\n",
    "columns = [i[0] for i in cur.description]\n",
    "if len(df) == 0: df = pd.DataFrame([[\"\" for i in range(len(columns))]])\n",
    "df.columns = columns\n",
    "df"
   ]
  },
  {
   "cell_type": "markdown",
   "id": "1b5ac189-bddb-48b6-8542-ca5cf56c3290",
   "metadata": {},
   "source": [
    "ALTER TABLE - RENAME COLUMN\n",
    "- To rename a column in a table, use the following syntax:\n",
    "\n",
    ">ALTER TABLE table_name\n",
    ">\n",
    ">RENAME COLUMN old_name to new_name;\n",
    "\n",
    "- To rename a column in a table in SQL Server, use the following syntax:\n",
    "\n",
    ">SQL Server:\n",
    ">\n",
    ">EXEC sp_rename 'table_name.old_name',  'new_name', 'COLUMN';"
   ]
  },
  {
   "cell_type": "code",
   "execution_count": 27,
   "id": "baaaa6a0-7bc1-4f3e-9eba-34665f5f491d",
   "metadata": {},
   "outputs": [
    {
     "data": {
      "text/plain": [
       "0"
      ]
     },
     "execution_count": 27,
     "metadata": {},
     "output_type": "execute_result"
    }
   ],
   "source": [
    "# Example MySQL:\n",
    "cur.execute('''ALTER TABLE testDB.CustomersNew\n",
    "CHANGE COLUMN Country Country2 varchar(255);''')"
   ]
  },
  {
   "cell_type": "code",
   "execution_count": 28,
   "id": "918462be-d3dc-4074-8b4e-893de81bc325",
   "metadata": {},
   "outputs": [
    {
     "data": {
      "text/html": [
       "<div>\n",
       "<style scoped>\n",
       "    .dataframe tbody tr th:only-of-type {\n",
       "        vertical-align: middle;\n",
       "    }\n",
       "\n",
       "    .dataframe tbody tr th {\n",
       "        vertical-align: top;\n",
       "    }\n",
       "\n",
       "    .dataframe thead th {\n",
       "        text-align: right;\n",
       "    }\n",
       "</style>\n",
       "<table border=\"1\" class=\"dataframe\">\n",
       "  <thead>\n",
       "    <tr style=\"text-align: right;\">\n",
       "      <th></th>\n",
       "      <th>CustomerID</th>\n",
       "      <th>CustomerName</th>\n",
       "      <th>ContactName</th>\n",
       "      <th>Address</th>\n",
       "      <th>City</th>\n",
       "      <th>PostalCode</th>\n",
       "      <th>Country2</th>\n",
       "    </tr>\n",
       "  </thead>\n",
       "  <tbody>\n",
       "    <tr>\n",
       "      <th>0</th>\n",
       "      <td>1</td>\n",
       "      <td>Alfreds Futterkiste</td>\n",
       "      <td>Maria Anders</td>\n",
       "      <td>Obere Str. 57</td>\n",
       "      <td>Berlin</td>\n",
       "      <td>12209</td>\n",
       "      <td>Germany</td>\n",
       "    </tr>\n",
       "    <tr>\n",
       "      <th>1</th>\n",
       "      <td>2</td>\n",
       "      <td>Ana Trujillo Emparedados y helados</td>\n",
       "      <td>Ana Trujillo</td>\n",
       "      <td>Avda. de la Constitución 2222</td>\n",
       "      <td>México D.F.</td>\n",
       "      <td>05021</td>\n",
       "      <td>Mexico</td>\n",
       "    </tr>\n",
       "    <tr>\n",
       "      <th>2</th>\n",
       "      <td>3</td>\n",
       "      <td>Antonio Moreno Taquería</td>\n",
       "      <td>Antonio Moreno</td>\n",
       "      <td>Mataderos 2312</td>\n",
       "      <td>México D.F.</td>\n",
       "      <td>05023</td>\n",
       "      <td>Mexico</td>\n",
       "    </tr>\n",
       "    <tr>\n",
       "      <th>3</th>\n",
       "      <td>4</td>\n",
       "      <td>Around the Horn</td>\n",
       "      <td>Thomas Hardy</td>\n",
       "      <td>120 Hanover Sq.</td>\n",
       "      <td>London</td>\n",
       "      <td>WA1 1DP</td>\n",
       "      <td>UK</td>\n",
       "    </tr>\n",
       "    <tr>\n",
       "      <th>4</th>\n",
       "      <td>5</td>\n",
       "      <td>Berglunds snabbköp</td>\n",
       "      <td>Christina Berglund</td>\n",
       "      <td>Berguvsvägen 8</td>\n",
       "      <td>Luleå</td>\n",
       "      <td>S-958 22</td>\n",
       "      <td>Sweden</td>\n",
       "    </tr>\n",
       "    <tr>\n",
       "      <th>...</th>\n",
       "      <td>...</td>\n",
       "      <td>...</td>\n",
       "      <td>...</td>\n",
       "      <td>...</td>\n",
       "      <td>...</td>\n",
       "      <td>...</td>\n",
       "      <td>...</td>\n",
       "    </tr>\n",
       "    <tr>\n",
       "      <th>86</th>\n",
       "      <td>87</td>\n",
       "      <td>Wartian Herkku</td>\n",
       "      <td>Pirkko Koskitalo</td>\n",
       "      <td>Torikatu 38</td>\n",
       "      <td>Oulu</td>\n",
       "      <td>90110</td>\n",
       "      <td>Finland</td>\n",
       "    </tr>\n",
       "    <tr>\n",
       "      <th>87</th>\n",
       "      <td>88</td>\n",
       "      <td>Wellington Importadora</td>\n",
       "      <td>Paula Parente</td>\n",
       "      <td>Rua do Mercado, 12</td>\n",
       "      <td>Resende</td>\n",
       "      <td>08737-363</td>\n",
       "      <td>Brazil</td>\n",
       "    </tr>\n",
       "    <tr>\n",
       "      <th>88</th>\n",
       "      <td>89</td>\n",
       "      <td>White Clover Markets</td>\n",
       "      <td>Karl Jablonski</td>\n",
       "      <td>305 - 14th Ave. S. Suite 3B</td>\n",
       "      <td>Seattle</td>\n",
       "      <td>98128</td>\n",
       "      <td>USA</td>\n",
       "    </tr>\n",
       "    <tr>\n",
       "      <th>89</th>\n",
       "      <td>90</td>\n",
       "      <td>Wilman Kala</td>\n",
       "      <td>Matti Karttunen</td>\n",
       "      <td>Keskuskatu 45</td>\n",
       "      <td>Helsinki</td>\n",
       "      <td>21240</td>\n",
       "      <td>Finland</td>\n",
       "    </tr>\n",
       "    <tr>\n",
       "      <th>90</th>\n",
       "      <td>91</td>\n",
       "      <td>Wolski</td>\n",
       "      <td>Zbyszek</td>\n",
       "      <td>ul. Filtrowa 68</td>\n",
       "      <td>Walla</td>\n",
       "      <td>01-012</td>\n",
       "      <td>Poland</td>\n",
       "    </tr>\n",
       "  </tbody>\n",
       "</table>\n",
       "<p>91 rows × 7 columns</p>\n",
       "</div>"
      ],
      "text/plain": [
       "    CustomerID                        CustomerName         ContactName  \\\n",
       "0            1                 Alfreds Futterkiste        Maria Anders   \n",
       "1            2  Ana Trujillo Emparedados y helados        Ana Trujillo   \n",
       "2            3             Antonio Moreno Taquería      Antonio Moreno   \n",
       "3            4                     Around the Horn        Thomas Hardy   \n",
       "4            5                  Berglunds snabbköp  Christina Berglund   \n",
       "..         ...                                 ...                 ...   \n",
       "86          87                      Wartian Herkku    Pirkko Koskitalo   \n",
       "87          88              Wellington Importadora       Paula Parente   \n",
       "88          89                White Clover Markets      Karl Jablonski   \n",
       "89          90                         Wilman Kala     Matti Karttunen   \n",
       "90          91                              Wolski             Zbyszek   \n",
       "\n",
       "                          Address         City PostalCode Country2  \n",
       "0                   Obere Str. 57       Berlin      12209  Germany  \n",
       "1   Avda. de la Constitución 2222  México D.F.      05021   Mexico  \n",
       "2                  Mataderos 2312  México D.F.      05023   Mexico  \n",
       "3                 120 Hanover Sq.       London    WA1 1DP       UK  \n",
       "4                  Berguvsvägen 8        Luleå   S-958 22   Sweden  \n",
       "..                            ...          ...        ...      ...  \n",
       "86                    Torikatu 38         Oulu      90110  Finland  \n",
       "87             Rua do Mercado, 12      Resende  08737-363   Brazil  \n",
       "88    305 - 14th Ave. S. Suite 3B      Seattle      98128      USA  \n",
       "89                  Keskuskatu 45     Helsinki      21240  Finland  \n",
       "90                ul. Filtrowa 68        Walla     01-012   Poland  \n",
       "\n",
       "[91 rows x 7 columns]"
      ]
     },
     "execution_count": 28,
     "metadata": {},
     "output_type": "execute_result"
    }
   ],
   "source": [
    "# Return data from the ShippersOld table:\n",
    "cur.execute('''SELECT * FROM testDB.CustomersNew;''')\n",
    "df = pd.DataFrame(tuple(t) for t in cur.fetchall())\n",
    "columns = [i[0] for i in cur.description]\n",
    "if len(df) == 0: df = pd.DataFrame([[\"\" for i in range(len(columns))]])\n",
    "df.columns = columns\n",
    "df"
   ]
  },
  {
   "cell_type": "markdown",
   "id": "2ce1af5a-6a63-44ed-8693-29f2e24ca7e9",
   "metadata": {},
   "source": [
    "ALTER TABLE - ALTER/MODIFY DATATYPE\n",
    "- To change the data type of a column in a table, use the following syntax:\n",
    "\n",
    ">SQL Server / MS Access:\n",
    ">\n",
    ">ALTER TABLE table_name\n",
    ">\n",
    ">ALTER COLUMN column_name datatype;\n",
    "\n",
    ">My SQL / Oracle (prior version 10G):\n",
    ">\n",
    ">ALTER TABLE table_name\n",
    ">\n",
    ">MODIFY COLUMN column_name datatype;\n",
    "\n",
    ">Oracle 10G and later:\n",
    ">\n",
    ">ALTER TABLE table_name\n",
    ">\n",
    ">MODIFY column_name datatype;"
   ]
  },
  {
   "cell_type": "markdown",
   "id": "06fd95a9-768f-4ffd-bb34-55ce3e81e6d6",
   "metadata": {},
   "source": [
    "SQL ALTER TABLE Example\n",
    "- Look at the \"Persons\" table:"
   ]
  },
  {
   "cell_type": "code",
   "execution_count": 24,
   "id": "d84be847-7308-4c5d-a8d2-019d0be8678d",
   "metadata": {},
   "outputs": [
    {
     "data": {
      "text/plain": [
       "0"
      ]
     },
     "execution_count": 24,
     "metadata": {},
     "output_type": "execute_result"
    }
   ],
   "source": [
    "# We use the following SQL statement:\n",
    "cur.execute('''ALTER TABLE testDB.Persons\n",
    "DROP COLUMN DateOfBirth;''')"
   ]
  },
  {
   "cell_type": "code",
   "execution_count": 25,
   "id": "6d5a78dc-38c3-45bc-bf72-dfb8e6b07a10",
   "metadata": {},
   "outputs": [
    {
     "data": {
      "text/html": [
       "<div>\n",
       "<style scoped>\n",
       "    .dataframe tbody tr th:only-of-type {\n",
       "        vertical-align: middle;\n",
       "    }\n",
       "\n",
       "    .dataframe tbody tr th {\n",
       "        vertical-align: top;\n",
       "    }\n",
       "\n",
       "    .dataframe thead th {\n",
       "        text-align: right;\n",
       "    }\n",
       "</style>\n",
       "<table border=\"1\" class=\"dataframe\">\n",
       "  <thead>\n",
       "    <tr style=\"text-align: right;\">\n",
       "      <th></th>\n",
       "      <th>PersonID</th>\n",
       "      <th>LastName</th>\n",
       "      <th>FirstName</th>\n",
       "      <th>Address</th>\n",
       "      <th>City</th>\n",
       "    </tr>\n",
       "  </thead>\n",
       "  <tbody>\n",
       "    <tr>\n",
       "      <th>0</th>\n",
       "      <td>1</td>\n",
       "      <td>Hansen</td>\n",
       "      <td>Ola</td>\n",
       "      <td>Timoteivn 10</td>\n",
       "      <td>Sandnes</td>\n",
       "    </tr>\n",
       "    <tr>\n",
       "      <th>1</th>\n",
       "      <td>2</td>\n",
       "      <td>Svendson</td>\n",
       "      <td>Tove</td>\n",
       "      <td>Borgvn 23</td>\n",
       "      <td>Sandnes</td>\n",
       "    </tr>\n",
       "    <tr>\n",
       "      <th>2</th>\n",
       "      <td>3</td>\n",
       "      <td>Pettersen</td>\n",
       "      <td>Kari</td>\n",
       "      <td>Storgt 20</td>\n",
       "      <td>Stavanger</td>\n",
       "    </tr>\n",
       "  </tbody>\n",
       "</table>\n",
       "</div>"
      ],
      "text/plain": [
       "   PersonID   LastName FirstName       Address       City\n",
       "0         1     Hansen       Ola  Timoteivn 10    Sandnes\n",
       "1         2   Svendson      Tove     Borgvn 23    Sandnes\n",
       "2         3  Pettersen      Kari     Storgt 20  Stavanger"
      ]
     },
     "execution_count": 25,
     "metadata": {},
     "output_type": "execute_result"
    }
   ],
   "source": [
    "# Return data from the ShippersOld table:\n",
    "cur.execute('''SELECT * FROM testDB.Persons;''')\n",
    "df = pd.DataFrame(tuple(t) for t in cur.fetchall())\n",
    "columns = [i[0] for i in cur.description]\n",
    "if len(df) == 0: df = pd.DataFrame([[\"\" for i in range(len(columns))]])\n",
    "df.columns = columns\n",
    "df"
   ]
  },
  {
   "cell_type": "markdown",
   "id": "f870a621-d898-47f1-a98a-4fa93d0fe435",
   "metadata": {},
   "source": [
    "Now we want to add a column named \"DateOfBirth\" in the \"Persons\" table."
   ]
  },
  {
   "cell_type": "code",
   "execution_count": 26,
   "id": "038cafc5-c974-4d5e-a7c4-de37bd304aef",
   "metadata": {},
   "outputs": [
    {
     "data": {
      "text/plain": [
       "0"
      ]
     },
     "execution_count": 26,
     "metadata": {},
     "output_type": "execute_result"
    }
   ],
   "source": [
    "# We use the following SQL statement:\n",
    "cur.execute('''ALTER TABLE testDB.Persons\n",
    "ADD DateOfBirth date;''')"
   ]
  },
  {
   "cell_type": "markdown",
   "id": "b781bfc6-954b-44a1-b033-dfd1f3ea661b",
   "metadata": {},
   "source": [
    "Notice that the new column, \"DateOfBirth\", is of type date and is going to hold a date. The data type specifies what type of data the column can hold. For a complete reference of all the data types available in MS Access, MySQL, and SQL Server, go to our complete Data Types reference."
   ]
  },
  {
   "cell_type": "code",
   "execution_count": 28,
   "id": "de90043b-9a52-4d16-86e4-b617df4c80bc",
   "metadata": {},
   "outputs": [
    {
     "ename": "OperationalError",
     "evalue": "(1292, \"Incorrect date value: '1974' for column 'DateOfBirth' at row 1\")",
     "output_type": "error",
     "traceback": [
      "\u001b[0;31m---------------------------------------------------------------------------\u001b[0m",
      "\u001b[0;31mOperationalError\u001b[0m                          Traceback (most recent call last)",
      "Cell \u001b[0;32mIn[28], line 1\u001b[0m\n\u001b[0;32m----> 1\u001b[0m \u001b[43mcur\u001b[49m\u001b[38;5;241;43m.\u001b[39;49m\u001b[43mexecute\u001b[49m\u001b[43m(\u001b[49m\u001b[38;5;124;43m'''\u001b[39;49m\u001b[38;5;124;43mUPDATE testDB.Persons\u001b[39;49m\n\u001b[1;32m      2\u001b[0m \u001b[38;5;124;43mSET DateOfBirth = 1974;\u001b[39;49m\u001b[38;5;124;43m'''\u001b[39;49m\u001b[43m)\u001b[49m\n\u001b[1;32m      3\u001b[0m conn\u001b[38;5;241m.\u001b[39mcommit()\n",
      "File \u001b[0;32m~/_Git/_venv/lib/python3.11/site-packages/MySQLdb/cursors.py:179\u001b[0m, in \u001b[0;36mBaseCursor.execute\u001b[0;34m(self, query, args)\u001b[0m\n\u001b[1;32m    176\u001b[0m mogrified_query \u001b[38;5;241m=\u001b[39m \u001b[38;5;28mself\u001b[39m\u001b[38;5;241m.\u001b[39m_mogrify(query, args)\n\u001b[1;32m    178\u001b[0m \u001b[38;5;28;01massert\u001b[39;00m \u001b[38;5;28misinstance\u001b[39m(mogrified_query, (\u001b[38;5;28mbytes\u001b[39m, \u001b[38;5;28mbytearray\u001b[39m))\n\u001b[0;32m--> 179\u001b[0m res \u001b[38;5;241m=\u001b[39m \u001b[38;5;28;43mself\u001b[39;49m\u001b[38;5;241;43m.\u001b[39;49m\u001b[43m_query\u001b[49m\u001b[43m(\u001b[49m\u001b[43mmogrified_query\u001b[49m\u001b[43m)\u001b[49m\n\u001b[1;32m    180\u001b[0m \u001b[38;5;28;01mreturn\u001b[39;00m res\n",
      "File \u001b[0;32m~/_Git/_venv/lib/python3.11/site-packages/MySQLdb/cursors.py:330\u001b[0m, in \u001b[0;36mBaseCursor._query\u001b[0;34m(self, q)\u001b[0m\n\u001b[1;32m    328\u001b[0m \u001b[38;5;28mself\u001b[39m\u001b[38;5;241m.\u001b[39mrowcount \u001b[38;5;241m=\u001b[39m \u001b[38;5;28;01mNone\u001b[39;00m\n\u001b[1;32m    329\u001b[0m \u001b[38;5;28mself\u001b[39m\u001b[38;5;241m.\u001b[39mlastrowid \u001b[38;5;241m=\u001b[39m \u001b[38;5;28;01mNone\u001b[39;00m\n\u001b[0;32m--> 330\u001b[0m \u001b[43mdb\u001b[49m\u001b[38;5;241;43m.\u001b[39;49m\u001b[43mquery\u001b[49m\u001b[43m(\u001b[49m\u001b[43mq\u001b[49m\u001b[43m)\u001b[49m\n\u001b[1;32m    331\u001b[0m \u001b[38;5;28mself\u001b[39m\u001b[38;5;241m.\u001b[39m_do_get_result(db)\n\u001b[1;32m    332\u001b[0m \u001b[38;5;28mself\u001b[39m\u001b[38;5;241m.\u001b[39m_post_get_result()\n",
      "File \u001b[0;32m~/_Git/_venv/lib/python3.11/site-packages/MySQLdb/connections.py:261\u001b[0m, in \u001b[0;36mConnection.query\u001b[0;34m(self, query)\u001b[0m\n\u001b[1;32m    259\u001b[0m \u001b[38;5;28;01mif\u001b[39;00m \u001b[38;5;28misinstance\u001b[39m(query, \u001b[38;5;28mbytearray\u001b[39m):\n\u001b[1;32m    260\u001b[0m     query \u001b[38;5;241m=\u001b[39m \u001b[38;5;28mbytes\u001b[39m(query)\n\u001b[0;32m--> 261\u001b[0m \u001b[43m_mysql\u001b[49m\u001b[38;5;241;43m.\u001b[39;49m\u001b[43mconnection\u001b[49m\u001b[38;5;241;43m.\u001b[39;49m\u001b[43mquery\u001b[49m\u001b[43m(\u001b[49m\u001b[38;5;28;43mself\u001b[39;49m\u001b[43m,\u001b[49m\u001b[43m \u001b[49m\u001b[43mquery\u001b[49m\u001b[43m)\u001b[49m\n",
      "\u001b[0;31mOperationalError\u001b[0m: (1292, \"Incorrect date value: '1974' for column 'DateOfBirth' at row 1\")"
     ]
    }
   ],
   "source": [
    "cur.execute('''UPDATE testDB.Persons\n",
    "SET DateOfBirth = 1974;''')\n",
    "conn.commit()"
   ]
  },
  {
   "cell_type": "code",
   "execution_count": 29,
   "id": "b8fca7ad-3567-4c76-84cd-5a730165aa6c",
   "metadata": {},
   "outputs": [
    {
     "data": {
      "text/html": [
       "<div>\n",
       "<style scoped>\n",
       "    .dataframe tbody tr th:only-of-type {\n",
       "        vertical-align: middle;\n",
       "    }\n",
       "\n",
       "    .dataframe tbody tr th {\n",
       "        vertical-align: top;\n",
       "    }\n",
       "\n",
       "    .dataframe thead th {\n",
       "        text-align: right;\n",
       "    }\n",
       "</style>\n",
       "<table border=\"1\" class=\"dataframe\">\n",
       "  <thead>\n",
       "    <tr style=\"text-align: right;\">\n",
       "      <th></th>\n",
       "      <th>PersonID</th>\n",
       "      <th>LastName</th>\n",
       "      <th>FirstName</th>\n",
       "      <th>Address</th>\n",
       "      <th>City</th>\n",
       "      <th>DateOfBirth</th>\n",
       "    </tr>\n",
       "  </thead>\n",
       "  <tbody>\n",
       "    <tr>\n",
       "      <th>0</th>\n",
       "      <td>1</td>\n",
       "      <td>Hansen</td>\n",
       "      <td>Ola</td>\n",
       "      <td>Timoteivn 10</td>\n",
       "      <td>Sandnes</td>\n",
       "      <td>None</td>\n",
       "    </tr>\n",
       "    <tr>\n",
       "      <th>1</th>\n",
       "      <td>2</td>\n",
       "      <td>Svendson</td>\n",
       "      <td>Tove</td>\n",
       "      <td>Borgvn 23</td>\n",
       "      <td>Sandnes</td>\n",
       "      <td>None</td>\n",
       "    </tr>\n",
       "    <tr>\n",
       "      <th>2</th>\n",
       "      <td>3</td>\n",
       "      <td>Pettersen</td>\n",
       "      <td>Kari</td>\n",
       "      <td>Storgt 20</td>\n",
       "      <td>Stavanger</td>\n",
       "      <td>None</td>\n",
       "    </tr>\n",
       "  </tbody>\n",
       "</table>\n",
       "</div>"
      ],
      "text/plain": [
       "   PersonID   LastName FirstName       Address       City DateOfBirth\n",
       "0         1     Hansen       Ola  Timoteivn 10    Sandnes        None\n",
       "1         2   Svendson      Tove     Borgvn 23    Sandnes        None\n",
       "2         3  Pettersen      Kari     Storgt 20  Stavanger        None"
      ]
     },
     "execution_count": 29,
     "metadata": {},
     "output_type": "execute_result"
    }
   ],
   "source": [
    "# The \"Persons\" table will now look like this:\n",
    "cur.execute('''SELECT * FROM testDB.Persons;''')\n",
    "df = pd.DataFrame(tuple(t) for t in cur.fetchall())\n",
    "columns = [i[0] for i in cur.description]\n",
    "if len(df) == 0: df = pd.DataFrame([[\"\" for i in range(len(columns))]])\n",
    "df.columns = columns\n",
    "df"
   ]
  },
  {
   "cell_type": "markdown",
   "id": "60f117e8-6b09-4fa3-9d4c-2ca6b30eeca2",
   "metadata": {},
   "source": [
    "Change Data Type Example\n",
    "- Now we want to change the data type of the column named \"DateOfBirth\" in the \"Persons\" table."
   ]
  },
  {
   "cell_type": "code",
   "execution_count": 30,
   "id": "ea2cc4cc-fa43-41a4-8649-dabb7838c97a",
   "metadata": {},
   "outputs": [
    {
     "data": {
      "text/plain": [
       "3"
      ]
     },
     "execution_count": 30,
     "metadata": {},
     "output_type": "execute_result"
    }
   ],
   "source": [
    "# We use the following SQL statement:\n",
    "cur.execute('''ALTER TABLE testDB.Persons\n",
    "CHANGE COLUMN DateOfBirth DateOfBirth year(4);''')"
   ]
  },
  {
   "cell_type": "code",
   "execution_count": 31,
   "id": "48dbec9b-79ba-482f-bcf0-1b35c66821eb",
   "metadata": {},
   "outputs": [],
   "source": [
    "cur.execute('''UPDATE testDB.Persons\n",
    "SET DateOfBirth = 1974;''')\n",
    "conn.commit()"
   ]
  },
  {
   "cell_type": "code",
   "execution_count": 32,
   "id": "ba6e6cb5-6ae6-4baf-a9ee-95729f5a09cf",
   "metadata": {},
   "outputs": [
    {
     "data": {
      "text/html": [
       "<div>\n",
       "<style scoped>\n",
       "    .dataframe tbody tr th:only-of-type {\n",
       "        vertical-align: middle;\n",
       "    }\n",
       "\n",
       "    .dataframe tbody tr th {\n",
       "        vertical-align: top;\n",
       "    }\n",
       "\n",
       "    .dataframe thead th {\n",
       "        text-align: right;\n",
       "    }\n",
       "</style>\n",
       "<table border=\"1\" class=\"dataframe\">\n",
       "  <thead>\n",
       "    <tr style=\"text-align: right;\">\n",
       "      <th></th>\n",
       "      <th>PersonID</th>\n",
       "      <th>LastName</th>\n",
       "      <th>FirstName</th>\n",
       "      <th>Address</th>\n",
       "      <th>City</th>\n",
       "      <th>DateOfBirth</th>\n",
       "    </tr>\n",
       "  </thead>\n",
       "  <tbody>\n",
       "    <tr>\n",
       "      <th>0</th>\n",
       "      <td>1</td>\n",
       "      <td>Hansen</td>\n",
       "      <td>Ola</td>\n",
       "      <td>Timoteivn 10</td>\n",
       "      <td>Sandnes</td>\n",
       "      <td>1974</td>\n",
       "    </tr>\n",
       "    <tr>\n",
       "      <th>1</th>\n",
       "      <td>2</td>\n",
       "      <td>Svendson</td>\n",
       "      <td>Tove</td>\n",
       "      <td>Borgvn 23</td>\n",
       "      <td>Sandnes</td>\n",
       "      <td>1974</td>\n",
       "    </tr>\n",
       "    <tr>\n",
       "      <th>2</th>\n",
       "      <td>3</td>\n",
       "      <td>Pettersen</td>\n",
       "      <td>Kari</td>\n",
       "      <td>Storgt 20</td>\n",
       "      <td>Stavanger</td>\n",
       "      <td>1974</td>\n",
       "    </tr>\n",
       "  </tbody>\n",
       "</table>\n",
       "</div>"
      ],
      "text/plain": [
       "   PersonID   LastName FirstName       Address       City  DateOfBirth\n",
       "0         1     Hansen       Ola  Timoteivn 10    Sandnes         1974\n",
       "1         2   Svendson      Tove     Borgvn 23    Sandnes         1974\n",
       "2         3  Pettersen      Kari     Storgt 20  Stavanger         1974"
      ]
     },
     "execution_count": 32,
     "metadata": {},
     "output_type": "execute_result"
    }
   ],
   "source": [
    "# The \"Persons\" table will now look like this:\n",
    "cur.execute('''SELECT * FROM testDB.Persons;''')\n",
    "df = pd.DataFrame(tuple(t) for t in cur.fetchall())\n",
    "columns = [i[0] for i in cur.description]\n",
    "if len(df) == 0: df = pd.DataFrame([[\"\" for i in range(len(columns))]])\n",
    "df.columns = columns\n",
    "df"
   ]
  },
  {
   "cell_type": "markdown",
   "id": "af25859d-b337-4f49-b5f7-6dab90ea89dd",
   "metadata": {},
   "source": [
    "Notice that the \"DateOfBirth\" column is now of type year and is going to hold a year in a two- or four-digit format."
   ]
  },
  {
   "cell_type": "markdown",
   "id": "5f2963cf-74d2-4f2f-a91e-6189adf0062d",
   "metadata": {},
   "source": [
    "DROP COLUMN Example\n",
    "- Next, we want to delete the column named \"DateOfBirth\" in the \"Persons\" table."
   ]
  },
  {
   "cell_type": "code",
   "execution_count": 35,
   "id": "6e43ea6d-edbf-4937-93b8-f34e78b46c7d",
   "metadata": {},
   "outputs": [
    {
     "data": {
      "text/plain": [
       "0"
      ]
     },
     "execution_count": 35,
     "metadata": {},
     "output_type": "execute_result"
    }
   ],
   "source": [
    "# We use the following SQL statement:\n",
    "cur.execute('''ALTER TABLE testDB.Persons\n",
    "DROP COLUMN DateOfBirth;''')"
   ]
  },
  {
   "cell_type": "code",
   "execution_count": 36,
   "id": "235fe1cf-9c58-4a7d-b0f4-e6ce5e993c9c",
   "metadata": {},
   "outputs": [
    {
     "data": {
      "text/html": [
       "<div>\n",
       "<style scoped>\n",
       "    .dataframe tbody tr th:only-of-type {\n",
       "        vertical-align: middle;\n",
       "    }\n",
       "\n",
       "    .dataframe tbody tr th {\n",
       "        vertical-align: top;\n",
       "    }\n",
       "\n",
       "    .dataframe thead th {\n",
       "        text-align: right;\n",
       "    }\n",
       "</style>\n",
       "<table border=\"1\" class=\"dataframe\">\n",
       "  <thead>\n",
       "    <tr style=\"text-align: right;\">\n",
       "      <th></th>\n",
       "      <th>PersonID</th>\n",
       "      <th>LastName</th>\n",
       "      <th>FirstName</th>\n",
       "      <th>Address</th>\n",
       "      <th>City</th>\n",
       "    </tr>\n",
       "  </thead>\n",
       "  <tbody>\n",
       "    <tr>\n",
       "      <th>0</th>\n",
       "      <td>1</td>\n",
       "      <td>Hansen</td>\n",
       "      <td>Ola</td>\n",
       "      <td>Timoteivn 10</td>\n",
       "      <td>Sandnes</td>\n",
       "    </tr>\n",
       "    <tr>\n",
       "      <th>1</th>\n",
       "      <td>2</td>\n",
       "      <td>Svendson</td>\n",
       "      <td>Tove</td>\n",
       "      <td>Borgvn 23</td>\n",
       "      <td>Sandnes</td>\n",
       "    </tr>\n",
       "    <tr>\n",
       "      <th>2</th>\n",
       "      <td>3</td>\n",
       "      <td>Pettersen</td>\n",
       "      <td>Kari</td>\n",
       "      <td>Storgt 20</td>\n",
       "      <td>Stavanger</td>\n",
       "    </tr>\n",
       "  </tbody>\n",
       "</table>\n",
       "</div>"
      ],
      "text/plain": [
       "   PersonID   LastName FirstName       Address       City\n",
       "0         1     Hansen       Ola  Timoteivn 10    Sandnes\n",
       "1         2   Svendson      Tove     Borgvn 23    Sandnes\n",
       "2         3  Pettersen      Kari     Storgt 20  Stavanger"
      ]
     },
     "execution_count": 36,
     "metadata": {},
     "output_type": "execute_result"
    }
   ],
   "source": [
    "# The \"Persons\" table will now look like this:\n",
    "cur.execute('''SELECT * FROM testDB.Persons;''')\n",
    "df = pd.DataFrame(tuple(t) for t in cur.fetchall())\n",
    "columns = [i[0] for i in cur.description]\n",
    "if len(df) == 0: df = pd.DataFrame([[\"\" for i in range(len(columns))]])\n",
    "df.columns = columns\n",
    "df"
   ]
  },
  {
   "cell_type": "code",
   "execution_count": null,
   "id": "3709418b-b198-4b5e-918a-c1fc28ba38b8",
   "metadata": {},
   "outputs": [],
   "source": []
  }
 ],
 "metadata": {
  "kernelspec": {
   "display_name": "Python 3 (ipykernel)",
   "language": "python",
   "name": "python3"
  },
  "language_info": {
   "codemirror_mode": {
    "name": "ipython",
    "version": 3
   },
   "file_extension": ".py",
   "mimetype": "text/x-python",
   "name": "python",
   "nbconvert_exporter": "python",
   "pygments_lexer": "ipython3",
   "version": "3.11.8"
  }
 },
 "nbformat": 4,
 "nbformat_minor": 5
}
