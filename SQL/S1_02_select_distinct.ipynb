{
 "cells": [
  {
   "cell_type": "code",
   "execution_count": 1,
   "id": "ee178e09-2be8-4fda-b87b-5ec639b37275",
   "metadata": {},
   "outputs": [],
   "source": [
    "from MySQLdb import connect"
   ]
  },
  {
   "cell_type": "code",
   "execution_count": 2,
   "id": "0c12e6d7-6873-4e2d-b6ce-c6b3ba7fbe92",
   "metadata": {},
   "outputs": [],
   "source": [
    "# Connect to your MySQLdb\n",
    "conn = connect(host='localhost', user='root')"
   ]
  },
  {
   "cell_type": "code",
   "execution_count": 3,
   "id": "4d83dfb7-5b8e-4dc8-894b-3d78a50233bb",
   "metadata": {},
   "outputs": [],
   "source": [
    "# Open a cursor to perform database operations\n",
    "cur = conn.cursor()"
   ]
  },
  {
   "cell_type": "code",
   "execution_count": 4,
   "id": "146218ad-867f-42bd-906e-4b3b9eec5d04",
   "metadata": {},
   "outputs": [
    {
     "data": {
      "text/plain": [
       "21"
      ]
     },
     "execution_count": 4,
     "metadata": {},
     "output_type": "execute_result"
    }
   ],
   "source": [
    "# Execute a query\n",
    "cur.execute('''SELECT DISTINCT Country FROM sqlw3s.Customers;''')"
   ]
  },
  {
   "cell_type": "code",
   "execution_count": 5,
   "id": "6f36ce44-3888-4287-9d10-4b45c3b525e0",
   "metadata": {},
   "outputs": [],
   "source": [
    "# Retrieve query results\n",
    "records = cur.fetchall()"
   ]
  },
  {
   "cell_type": "code",
   "execution_count": 6,
   "id": "832155f2-be09-4ffe-a026-317e0508384f",
   "metadata": {},
   "outputs": [
    {
     "data": {
      "text/plain": [
       "(('Germany',),\n",
       " ('Mexico',),\n",
       " ('UK',),\n",
       " ('Sweden',),\n",
       " ('France',),\n",
       " ('Spain',),\n",
       " ('Canada',),\n",
       " ('Argentina',),\n",
       " ('Switzerland',),\n",
       " ('Brazil',),\n",
       " ('Austria',),\n",
       " ('Italy',),\n",
       " ('Portugal',),\n",
       " ('USA',),\n",
       " ('Venezuela',),\n",
       " ('Ireland',),\n",
       " ('Belgium',),\n",
       " ('Norway',),\n",
       " ('Denmark',),\n",
       " ('Finland',),\n",
       " ('Poland',))"
      ]
     },
     "execution_count": 6,
     "metadata": {},
     "output_type": "execute_result"
    }
   ],
   "source": [
    "records"
   ]
  },
  {
   "cell_type": "code",
   "execution_count": null,
   "id": "8fcfc4a9-051b-48f7-95f5-b7e1bf60803d",
   "metadata": {},
   "outputs": [],
   "source": []
  }
 ],
 "metadata": {
  "kernelspec": {
   "display_name": "Python 3 (ipykernel)",
   "language": "python",
   "name": "python3"
  },
  "language_info": {
   "codemirror_mode": {
    "name": "ipython",
    "version": 3
   },
   "file_extension": ".py",
   "mimetype": "text/x-python",
   "name": "python",
   "nbconvert_exporter": "python",
   "pygments_lexer": "ipython3",
   "version": "3.12.1"
  }
 },
 "nbformat": 4,
 "nbformat_minor": 5
}
