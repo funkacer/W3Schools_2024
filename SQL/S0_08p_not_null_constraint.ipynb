{
 "cells": [
  {
   "cell_type": "code",
   "execution_count": 2,
   "id": "ee178e09-2be8-4fda-b87b-5ec639b37275",
   "metadata": {},
   "outputs": [
    {
     "name": "stderr",
     "output_type": "stream",
     "text": [
      "/var/folders/fb/xl0hnskx527bfqkv38l3sn7h0000gn/T/ipykernel_7841/3687392072.py:2: DeprecationWarning: \n",
      "Pyarrow will become a required dependency of pandas in the next major release of pandas (pandas 3.0),\n",
      "(to allow more performant data types, such as the Arrow string type, and better interoperability with other libraries)\n",
      "but was not found to be installed on your system.\n",
      "If this would cause problems for you,\n",
      "please provide us feedback at https://github.com/pandas-dev/pandas/issues/54466\n",
      "        \n",
      "  import pandas as pd\n"
     ]
    }
   ],
   "source": [
    "from MySQLdb import connect\n",
    "import pandas as pd"
   ]
  },
  {
   "cell_type": "code",
   "execution_count": 3,
   "id": "0c12e6d7-6873-4e2d-b6ce-c6b3ba7fbe92",
   "metadata": {},
   "outputs": [],
   "source": [
    "# Connect to your MySQLdb\n",
    "#conn = connect(host='localhost', user='root')\n",
    "conn = connect(host='127.0.0.1', user='root', password = 'root', port = 8890)"
   ]
  },
  {
   "cell_type": "code",
   "execution_count": 4,
   "id": "4d83dfb7-5b8e-4dc8-894b-3d78a50233bb",
   "metadata": {},
   "outputs": [],
   "source": [
    "# Open a cursor to perform database operations\n",
    "cur = conn.cursor()"
   ]
  },
  {
   "cell_type": "code",
   "execution_count": 5,
   "id": "0c955d83-f77d-4fd9-9d3c-02ddcc273e34",
   "metadata": {},
   "outputs": [
    {
     "data": {
      "text/html": [
       "<div>\n",
       "<style scoped>\n",
       "    .dataframe tbody tr th:only-of-type {\n",
       "        vertical-align: middle;\n",
       "    }\n",
       "\n",
       "    .dataframe tbody tr th {\n",
       "        vertical-align: top;\n",
       "    }\n",
       "\n",
       "    .dataframe thead th {\n",
       "        text-align: right;\n",
       "    }\n",
       "</style>\n",
       "<table border=\"1\" class=\"dataframe\">\n",
       "  <thead>\n",
       "    <tr style=\"text-align: right;\">\n",
       "      <th></th>\n",
       "      <th>Database</th>\n",
       "    </tr>\n",
       "  </thead>\n",
       "  <tbody>\n",
       "    <tr>\n",
       "      <th>0</th>\n",
       "      <td>information_schema</td>\n",
       "    </tr>\n",
       "    <tr>\n",
       "      <th>1</th>\n",
       "      <td>mysql</td>\n",
       "    </tr>\n",
       "    <tr>\n",
       "      <th>2</th>\n",
       "      <td>performance_schema</td>\n",
       "    </tr>\n",
       "    <tr>\n",
       "      <th>3</th>\n",
       "      <td>sqlw3s</td>\n",
       "    </tr>\n",
       "    <tr>\n",
       "      <th>4</th>\n",
       "      <td>sys</td>\n",
       "    </tr>\n",
       "    <tr>\n",
       "      <th>5</th>\n",
       "      <td>testDB</td>\n",
       "    </tr>\n",
       "  </tbody>\n",
       "</table>\n",
       "</div>"
      ],
      "text/plain": [
       "             Database\n",
       "0  information_schema\n",
       "1               mysql\n",
       "2  performance_schema\n",
       "3              sqlw3s\n",
       "4                 sys\n",
       "5              testDB"
      ]
     },
     "execution_count": 5,
     "metadata": {},
     "output_type": "execute_result"
    }
   ],
   "source": [
    "# Return data from the Customers table:\n",
    "cur.execute('''SHOW DATABASES;''')\n",
    "df = pd.DataFrame(tuple(t) for t in cur.fetchall())\n",
    "df.columns = [i[0] for i in cur.description]\n",
    "df"
   ]
  },
  {
   "cell_type": "markdown",
   "id": "450ed4b1-23f3-4d8e-84c3-f521890b0c76",
   "metadata": {},
   "source": [
    "### SQL NOT NULL Constraint\n",
    "By default, a column can hold NULL values.\n",
    "\n",
    "The NOT NULL constraint enforces a column to NOT accept NULL values.\n",
    "\n",
    "This enforces a field to always contain a value, which means that you cannot insert a new record, or update a record without adding a value to this field.\n",
    "\n",
    "- SQL NOT NULL on CREATE TABLE"
   ]
  },
  {
   "cell_type": "code",
   "execution_count": 6,
   "id": "12d7c603-0ad4-42a0-ac06-9a8c5146b57b",
   "metadata": {},
   "outputs": [
    {
     "data": {
      "text/plain": [
       "0"
      ]
     },
     "execution_count": 6,
     "metadata": {},
     "output_type": "execute_result"
    }
   ],
   "source": [
    "cur.execute('''DROP TABLE testDB.Persons;''')"
   ]
  },
  {
   "cell_type": "code",
   "execution_count": 7,
   "id": "6edc95c6-0ec5-48d9-ab1a-f95f980e86cc",
   "metadata": {},
   "outputs": [
    {
     "data": {
      "text/plain": [
       "0"
      ]
     },
     "execution_count": 7,
     "metadata": {},
     "output_type": "execute_result"
    }
   ],
   "source": [
    "# The following SQL ensures that the \"ID\", \"LastName\", and \"FirstName\" columns will NOT accept NULL values\n",
    "# when the \"Persons\" table is created:\n",
    "cur.execute('''CREATE TABLE testDB.Persons (\n",
    "    ID int NOT NULL,\n",
    "    LastName varchar(255) NOT NULL,\n",
    "    FirstName varchar(255) NOT NULL,\n",
    "    Age int\n",
    ");''')"
   ]
  },
  {
   "cell_type": "markdown",
   "id": "5516e2b7-ccb9-4f85-82aa-53e14fdc9b39",
   "metadata": {},
   "source": [
    "- SQL NOT NULL on ALTER TABLE\n",
    "To create a NOT NULL constraint on the \"Age\" column when the \"Persons\" table is already created, use the following SQL:\n",
    "\n",
    ">SQL Server / MS Access:\n",
    ">\n",
    ">ALTER TABLE Persons\n",
    ">\n",
    ">ALTER COLUMN Age int NOT NULL;\n",
    "\n",
    ">My SQL / Oracle (prior version 10G):\n",
    ">\n",
    ">ALTER TABLE Persons\n",
    ">\n",
    ">MODIFY COLUMN Age int NOT NULL;\n",
    "\n",
    ">Oracle 10G and later:\n",
    ">\n",
    ">ALTER TABLE Persons\n",
    ">\n",
    ">MODIFY Age int NOT NULL;\n",
    "\n",
    ">postgre:\n",
    ">\n",
    ">ALTER TABLE public.bill4 ALTER COLUMN id SET NOT NULL;\n",
    ">\n",
    ">ALTER TABLE public.bill4 ALTER COLUMN id DROP NOT NULL;"
   ]
  },
  {
   "cell_type": "code",
   "execution_count": 8,
   "id": "e1b93773-6b11-4dee-88d0-1152060ea126",
   "metadata": {},
   "outputs": [
    {
     "data": {
      "text/plain": [
       "0"
      ]
     },
     "execution_count": 8,
     "metadata": {},
     "output_type": "execute_result"
    }
   ],
   "source": [
    "# In MySQL, nullability is a part of the datatype, not a constraint. So:\n",
    "cur.execute('''ALTER TABLE testDB.Persons MODIFY COLUMN ID int null;''')"
   ]
  },
  {
   "cell_type": "code",
   "execution_count": 9,
   "id": "962472a5-0a7a-479d-9c0f-e504d732480e",
   "metadata": {},
   "outputs": [
    {
     "data": {
      "text/html": [
       "<div>\n",
       "<style scoped>\n",
       "    .dataframe tbody tr th:only-of-type {\n",
       "        vertical-align: middle;\n",
       "    }\n",
       "\n",
       "    .dataframe tbody tr th {\n",
       "        vertical-align: top;\n",
       "    }\n",
       "\n",
       "    .dataframe thead th {\n",
       "        text-align: right;\n",
       "    }\n",
       "</style>\n",
       "<table border=\"1\" class=\"dataframe\">\n",
       "  <thead>\n",
       "    <tr style=\"text-align: right;\">\n",
       "      <th></th>\n",
       "      <th>ID</th>\n",
       "      <th>LastName</th>\n",
       "      <th>FirstName</th>\n",
       "      <th>Age</th>\n",
       "    </tr>\n",
       "  </thead>\n",
       "  <tbody>\n",
       "    <tr>\n",
       "      <th>0</th>\n",
       "      <td></td>\n",
       "      <td></td>\n",
       "      <td></td>\n",
       "      <td></td>\n",
       "    </tr>\n",
       "  </tbody>\n",
       "</table>\n",
       "</div>"
      ],
      "text/plain": [
       "  ID LastName FirstName Age\n",
       "0                          "
      ]
     },
     "execution_count": 9,
     "metadata": {},
     "output_type": "execute_result"
    }
   ],
   "source": [
    "# Return data from the CustomersNew table:\n",
    "cur.execute('''SELECT * FROM testDB.Persons;''')\n",
    "df = pd.DataFrame(tuple(t) for t in cur.fetchall())\n",
    "columns = [i[0] for i in cur.description]\n",
    "if len(df) == 0: df = pd.DataFrame([[\"\" for i in range(len(columns))]])\n",
    "df.columns = columns\n",
    "df"
   ]
  },
  {
   "cell_type": "code",
   "execution_count": 10,
   "id": "85496f27-0a61-4bd2-b29c-538c12a58dc6",
   "metadata": {},
   "outputs": [
    {
     "data": {
      "text/html": [
       "<div>\n",
       "<style scoped>\n",
       "    .dataframe tbody tr th:only-of-type {\n",
       "        vertical-align: middle;\n",
       "    }\n",
       "\n",
       "    .dataframe tbody tr th {\n",
       "        vertical-align: top;\n",
       "    }\n",
       "\n",
       "    .dataframe thead th {\n",
       "        text-align: right;\n",
       "    }\n",
       "</style>\n",
       "<table border=\"1\" class=\"dataframe\">\n",
       "  <thead>\n",
       "    <tr style=\"text-align: right;\">\n",
       "      <th></th>\n",
       "      <th>Field</th>\n",
       "      <th>Type</th>\n",
       "      <th>Null</th>\n",
       "      <th>Key</th>\n",
       "      <th>Default</th>\n",
       "      <th>Extra</th>\n",
       "    </tr>\n",
       "  </thead>\n",
       "  <tbody>\n",
       "    <tr>\n",
       "      <th>0</th>\n",
       "      <td>ID</td>\n",
       "      <td>int(11)</td>\n",
       "      <td>YES</td>\n",
       "      <td></td>\n",
       "      <td>None</td>\n",
       "      <td></td>\n",
       "    </tr>\n",
       "    <tr>\n",
       "      <th>1</th>\n",
       "      <td>LastName</td>\n",
       "      <td>varchar(255)</td>\n",
       "      <td>NO</td>\n",
       "      <td></td>\n",
       "      <td>None</td>\n",
       "      <td></td>\n",
       "    </tr>\n",
       "    <tr>\n",
       "      <th>2</th>\n",
       "      <td>FirstName</td>\n",
       "      <td>varchar(255)</td>\n",
       "      <td>NO</td>\n",
       "      <td></td>\n",
       "      <td>None</td>\n",
       "      <td></td>\n",
       "    </tr>\n",
       "    <tr>\n",
       "      <th>3</th>\n",
       "      <td>Age</td>\n",
       "      <td>int(11)</td>\n",
       "      <td>YES</td>\n",
       "      <td></td>\n",
       "      <td>None</td>\n",
       "      <td></td>\n",
       "    </tr>\n",
       "  </tbody>\n",
       "</table>\n",
       "</div>"
      ],
      "text/plain": [
       "       Field          Type Null Key Default Extra\n",
       "0         ID       int(11)  YES        None      \n",
       "1   LastName  varchar(255)   NO        None      \n",
       "2  FirstName  varchar(255)   NO        None      \n",
       "3        Age       int(11)  YES        None      "
      ]
     },
     "execution_count": 10,
     "metadata": {},
     "output_type": "execute_result"
    }
   ],
   "source": [
    "# Return data from the Customers table:\n",
    "cur.execute('''DESCRIBE testDB.Persons;''')\n",
    "df = pd.DataFrame(tuple(t) for t in cur.fetchall())\n",
    "columns = [i[0] for i in cur.description]\n",
    "if len(df) == 0: df = pd.DataFrame([[\"\" for i in range(len(columns))]])\n",
    "df.columns = columns\n",
    "df"
   ]
  },
  {
   "cell_type": "code",
   "execution_count": 11,
   "id": "ff76d67e-3ce6-4cec-9b8e-8764b5009f7e",
   "metadata": {},
   "outputs": [
    {
     "data": {
      "text/plain": [
       "0"
      ]
     },
     "execution_count": 11,
     "metadata": {},
     "output_type": "execute_result"
    }
   ],
   "source": [
    "# make not null again\n",
    "cur.execute('''ALTER TABLE testDB.Persons MODIFY COLUMN ID int NOT null;''')"
   ]
  },
  {
   "cell_type": "code",
   "execution_count": 12,
   "id": "083273d6-18b9-45f3-b7af-e9949d4fea42",
   "metadata": {},
   "outputs": [
    {
     "data": {
      "text/html": [
       "<div>\n",
       "<style scoped>\n",
       "    .dataframe tbody tr th:only-of-type {\n",
       "        vertical-align: middle;\n",
       "    }\n",
       "\n",
       "    .dataframe tbody tr th {\n",
       "        vertical-align: top;\n",
       "    }\n",
       "\n",
       "    .dataframe thead th {\n",
       "        text-align: right;\n",
       "    }\n",
       "</style>\n",
       "<table border=\"1\" class=\"dataframe\">\n",
       "  <thead>\n",
       "    <tr style=\"text-align: right;\">\n",
       "      <th></th>\n",
       "      <th>Field</th>\n",
       "      <th>Type</th>\n",
       "      <th>Null</th>\n",
       "      <th>Key</th>\n",
       "      <th>Default</th>\n",
       "      <th>Extra</th>\n",
       "    </tr>\n",
       "  </thead>\n",
       "  <tbody>\n",
       "    <tr>\n",
       "      <th>0</th>\n",
       "      <td>ID</td>\n",
       "      <td>int(11)</td>\n",
       "      <td>NO</td>\n",
       "      <td></td>\n",
       "      <td>None</td>\n",
       "      <td></td>\n",
       "    </tr>\n",
       "    <tr>\n",
       "      <th>1</th>\n",
       "      <td>LastName</td>\n",
       "      <td>varchar(255)</td>\n",
       "      <td>NO</td>\n",
       "      <td></td>\n",
       "      <td>None</td>\n",
       "      <td></td>\n",
       "    </tr>\n",
       "    <tr>\n",
       "      <th>2</th>\n",
       "      <td>FirstName</td>\n",
       "      <td>varchar(255)</td>\n",
       "      <td>NO</td>\n",
       "      <td></td>\n",
       "      <td>None</td>\n",
       "      <td></td>\n",
       "    </tr>\n",
       "    <tr>\n",
       "      <th>3</th>\n",
       "      <td>Age</td>\n",
       "      <td>int(11)</td>\n",
       "      <td>YES</td>\n",
       "      <td></td>\n",
       "      <td>None</td>\n",
       "      <td></td>\n",
       "    </tr>\n",
       "  </tbody>\n",
       "</table>\n",
       "</div>"
      ],
      "text/plain": [
       "       Field          Type Null Key Default Extra\n",
       "0         ID       int(11)   NO        None      \n",
       "1   LastName  varchar(255)   NO        None      \n",
       "2  FirstName  varchar(255)   NO        None      \n",
       "3        Age       int(11)  YES        None      "
      ]
     },
     "execution_count": 12,
     "metadata": {},
     "output_type": "execute_result"
    }
   ],
   "source": [
    "# Return data from the Customers table:\n",
    "cur.execute('''DESCRIBE testDB.Persons;''')\n",
    "df = pd.DataFrame(tuple(t) for t in cur.fetchall())\n",
    "columns = [i[0] for i in cur.description]\n",
    "if len(df) == 0: df = pd.DataFrame([[\"\" for i in range(len(columns))]])\n",
    "df.columns = columns\n",
    "df"
   ]
  },
  {
   "cell_type": "code",
   "execution_count": 15,
   "id": "e44af734-98dd-47b1-aba0-5bb6c1a68906",
   "metadata": {},
   "outputs": [
    {
     "data": {
      "text/plain": [
       "1"
      ]
     },
     "execution_count": 15,
     "metadata": {},
     "output_type": "execute_result"
    }
   ],
   "source": [
    "cur.execute('''INSERT INTO testDB.Persons (id, LastName, FirstName) VALUES (1, 'Alice', 'Cooper');''')"
   ]
  },
  {
   "cell_type": "code",
   "execution_count": 16,
   "id": "93bc6ee1-8862-4d7b-952d-1d36bc1c8ba2",
   "metadata": {},
   "outputs": [
    {
     "data": {
      "text/html": [
       "<div>\n",
       "<style scoped>\n",
       "    .dataframe tbody tr th:only-of-type {\n",
       "        vertical-align: middle;\n",
       "    }\n",
       "\n",
       "    .dataframe tbody tr th {\n",
       "        vertical-align: top;\n",
       "    }\n",
       "\n",
       "    .dataframe thead th {\n",
       "        text-align: right;\n",
       "    }\n",
       "</style>\n",
       "<table border=\"1\" class=\"dataframe\">\n",
       "  <thead>\n",
       "    <tr style=\"text-align: right;\">\n",
       "      <th></th>\n",
       "      <th>ID</th>\n",
       "      <th>LastName</th>\n",
       "      <th>FirstName</th>\n",
       "      <th>Age</th>\n",
       "    </tr>\n",
       "  </thead>\n",
       "  <tbody>\n",
       "    <tr>\n",
       "      <th>0</th>\n",
       "      <td>1</td>\n",
       "      <td>Alice</td>\n",
       "      <td>Cooper</td>\n",
       "      <td>None</td>\n",
       "    </tr>\n",
       "  </tbody>\n",
       "</table>\n",
       "</div>"
      ],
      "text/plain": [
       "   ID LastName FirstName   Age\n",
       "0   1    Alice    Cooper  None"
      ]
     },
     "execution_count": 16,
     "metadata": {},
     "output_type": "execute_result"
    }
   ],
   "source": [
    "# Return data from the CustomersNew table:\n",
    "cur.execute('''SELECT * FROM testDB.Persons;''')\n",
    "df = pd.DataFrame(tuple(t) for t in cur.fetchall())\n",
    "columns = [i[0] for i in cur.description]\n",
    "if len(df) == 0: df = pd.DataFrame([[\"\" for i in range(len(columns))]])\n",
    "df.columns = columns\n",
    "df"
   ]
  },
  {
   "cell_type": "code",
   "execution_count": null,
   "id": "b1246bd7-b363-4155-bf6f-69a4f3340886",
   "metadata": {},
   "outputs": [],
   "source": []
  }
 ],
 "metadata": {
  "kernelspec": {
   "display_name": "Python 3 (ipykernel)",
   "language": "python",
   "name": "python3"
  },
  "language_info": {
   "codemirror_mode": {
    "name": "ipython",
    "version": 3
   },
   "file_extension": ".py",
   "mimetype": "text/x-python",
   "name": "python",
   "nbconvert_exporter": "python",
   "pygments_lexer": "ipython3",
   "version": "3.11.8"
  }
 },
 "nbformat": 4,
 "nbformat_minor": 5
}
