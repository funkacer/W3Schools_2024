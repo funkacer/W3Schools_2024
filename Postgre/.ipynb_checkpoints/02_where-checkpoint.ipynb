{
 "cells": [
  {
   "cell_type": "code",
   "execution_count": 1,
   "id": "ee178e09-2be8-4fda-b87b-5ec639b37275",
   "metadata": {},
   "outputs": [],
   "source": [
    "import psycopg2"
   ]
  },
  {
   "cell_type": "code",
   "execution_count": 2,
   "id": "0c12e6d7-6873-4e2d-b6ce-c6b3ba7fbe92",
   "metadata": {},
   "outputs": [],
   "source": [
    "# Connect to your postgres DB\n",
    "conn = psycopg2.connect(\"dbname=test user=funka password=funka\")"
   ]
  },
  {
   "cell_type": "code",
   "execution_count": 3,
   "id": "4d83dfb7-5b8e-4dc8-894b-3d78a50233bb",
   "metadata": {},
   "outputs": [],
   "source": [
    "# Open a cursor to perform database operations\n",
    "cur = conn.cursor()"
   ]
  },
  {
   "cell_type": "code",
   "execution_count": 5,
   "id": "83c30f04-2b39-4cfb-9e7a-3904c3bc2c52",
   "metadata": {},
   "outputs": [],
   "source": [
    "# Execute a query\n",
    "cur.execute('''SELECT * FROM customers\n",
    "WHERE city = 'London';''')"
   ]
  },
  {
   "cell_type": "code",
   "execution_count": 6,
   "id": "46e919b8-2547-4b4e-a9db-9dd7c5e3d12b",
   "metadata": {},
   "outputs": [],
   "source": [
    "# Retrieve query results\n",
    "records = cur.fetchall()"
   ]
  },
  {
   "cell_type": "code",
   "execution_count": 7,
   "id": "9e81d785-6f91-4936-aa3a-626b6df7b589",
   "metadata": {},
   "outputs": [
    {
     "data": {
      "text/plain": [
       "[(4,\n",
       "  'Around the Horn',\n",
       "  'Thomas Hardy',\n",
       "  '120 Hanover Sq.',\n",
       "  'London',\n",
       "  'WA1 1DP',\n",
       "  'UK'),\n",
       " (11,\n",
       "  'Bs Beverages',\n",
       "  'Victoria Ashworth',\n",
       "  'Fauntleroy Circus',\n",
       "  'London',\n",
       "  'EC2 5NT',\n",
       "  'UK'),\n",
       " (16,\n",
       "  'Consolidated Holdings',\n",
       "  'Elizabeth Brown',\n",
       "  'Berkeley Gardens 12 Brewery ',\n",
       "  'London',\n",
       "  'WX1 6LT',\n",
       "  'UK'),\n",
       " (19,\n",
       "  'Eastern Connection',\n",
       "  'Ann Devon',\n",
       "  '35 King George',\n",
       "  'London',\n",
       "  'WX3 6FW',\n",
       "  'UK'),\n",
       " (53,\n",
       "  'North/South',\n",
       "  'Simon Crowther',\n",
       "  'South House 300 Queensbridge',\n",
       "  'London',\n",
       "  'SW7 1RZ',\n",
       "  'UK'),\n",
       " (72,\n",
       "  'Seven Seas Imports',\n",
       "  'Hari Kumar',\n",
       "  '90 Wadhurst Rd.',\n",
       "  'London',\n",
       "  'OX15 4NB',\n",
       "  'UK')]"
      ]
     },
     "execution_count": 7,
     "metadata": {},
     "output_type": "execute_result"
    }
   ],
   "source": [
    "records"
   ]
  },
  {
   "cell_type": "code",
   "execution_count": 8,
   "id": "0c955d83-f77d-4fd9-9d3c-02ddcc273e34",
   "metadata": {},
   "outputs": [],
   "source": [
    "# Execute a query\n",
    "cur.execute('''SELECT * FROM customers\n",
    "WHERE customer_id = 19;''')"
   ]
  },
  {
   "cell_type": "code",
   "execution_count": 9,
   "id": "0c7d8861-600a-4b80-8f08-e799d0becd0c",
   "metadata": {},
   "outputs": [],
   "source": [
    "# Retrieve query results\n",
    "records = cur.fetchall()"
   ]
  },
  {
   "cell_type": "code",
   "execution_count": 11,
   "id": "fa4e9611-7ffa-43b3-af42-0acf347274a4",
   "metadata": {},
   "outputs": [
    {
     "data": {
      "text/plain": [
       "[(19,\n",
       "  'Eastern Connection',\n",
       "  'Ann Devon',\n",
       "  '35 King George',\n",
       "  'London',\n",
       "  'WX3 6FW',\n",
       "  'UK')]"
      ]
     },
     "execution_count": 11,
     "metadata": {},
     "output_type": "execute_result"
    }
   ],
   "source": [
    "records"
   ]
  },
  {
   "cell_type": "code",
   "execution_count": 12,
   "id": "c06c2a6b-0a14-4898-93b4-6a53743f2cfe",
   "metadata": {},
   "outputs": [],
   "source": [
    "# Execute a query\n",
    "cur.execute('''SELECT * FROM customers\n",
    "WHERE customer_id > 80;''')"
   ]
  },
  {
   "cell_type": "code",
   "execution_count": 13,
   "id": "ade1fe42-becf-4273-9194-24004a8ef108",
   "metadata": {},
   "outputs": [],
   "source": [
    "# Retrieve query results\n",
    "records = cur.fetchall()"
   ]
  },
  {
   "cell_type": "code",
   "execution_count": 14,
   "id": "2e7543e6-4d82-46e9-b854-7e94b9451c84",
   "metadata": {},
   "outputs": [
    {
     "data": {
      "text/plain": [
       "[(81,\n",
       "  'Tradicao Hipermercados',\n",
       "  'Anabela Domingues',\n",
       "  'Av. Ines de Castro, 414',\n",
       "  'Sao Paulo',\n",
       "  '05634-030',\n",
       "  'Brazil'),\n",
       " (82,\n",
       "  'Trails Head Gourmet Provisioners',\n",
       "  'Helvetius Nagy',\n",
       "  '722 DaVinci Blvd.',\n",
       "  'Kirkland',\n",
       "  '98034',\n",
       "  'USA'),\n",
       " (83,\n",
       "  'Vaffeljernet',\n",
       "  'Palle Ibsen',\n",
       "  'Smagsloget 45',\n",
       "  'Arhus',\n",
       "  '8200',\n",
       "  'Denmark'),\n",
       " (84,\n",
       "  'Victuailles en stock',\n",
       "  'Mary Saveley',\n",
       "  '2, rue du Commerce',\n",
       "  'Lyon',\n",
       "  '69004',\n",
       "  'France'),\n",
       " (85,\n",
       "  'Vins et alcools Chevalier',\n",
       "  'Paul Henriot',\n",
       "  '59 rue de l Abbaye',\n",
       "  'Reims',\n",
       "  '51100',\n",
       "  'France'),\n",
       " (86,\n",
       "  'Die Wandernde Kuh',\n",
       "  'Rita Moller',\n",
       "  'Adenauerallee 900',\n",
       "  'Stuttgart',\n",
       "  '70563',\n",
       "  'Germany'),\n",
       " (87,\n",
       "  'Wartian Herkku',\n",
       "  'Pirkko Koskitalo',\n",
       "  'Torikatu 38',\n",
       "  'Oulu',\n",
       "  '90110',\n",
       "  'Finland'),\n",
       " (88,\n",
       "  'Wellington Importadora',\n",
       "  'Paula Parente',\n",
       "  'Rua do Mercado, 12',\n",
       "  'Resende',\n",
       "  '08737-363',\n",
       "  'Brazil'),\n",
       " (89,\n",
       "  'White Clover Markets',\n",
       "  'Karl Jablonski',\n",
       "  '305 - 14th Ave. S. Suite 3B',\n",
       "  'Seattle',\n",
       "  '98128',\n",
       "  'USA'),\n",
       " (90,\n",
       "  'Wilman Kala',\n",
       "  'Matti Karttunen',\n",
       "  'Keskuskatu 45',\n",
       "  'Helsinki',\n",
       "  '21240',\n",
       "  'Finland'),\n",
       " (91, 'Wolski', 'Zbyszek', 'ul. Filtrowa 68', 'Walla', '01-012', 'Poland')]"
      ]
     },
     "execution_count": 14,
     "metadata": {},
     "output_type": "execute_result"
    }
   ],
   "source": [
    "records"
   ]
  },
  {
   "cell_type": "code",
   "execution_count": null,
   "id": "8fcfc4a9-051b-48f7-95f5-b7e1bf60803d",
   "metadata": {},
   "outputs": [],
   "source": []
  }
 ],
 "metadata": {
  "kernelspec": {
   "display_name": "Python 3 (ipykernel)",
   "language": "python",
   "name": "python3"
  },
  "language_info": {
   "codemirror_mode": {
    "name": "ipython",
    "version": 3
   },
   "file_extension": ".py",
   "mimetype": "text/x-python",
   "name": "python",
   "nbconvert_exporter": "python",
   "pygments_lexer": "ipython3",
   "version": "3.12.1"
  }
 },
 "nbformat": 4,
 "nbformat_minor": 5
}
