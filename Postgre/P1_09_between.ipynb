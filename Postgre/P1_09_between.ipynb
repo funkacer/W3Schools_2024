{
 "cells": [
  {
   "cell_type": "code",
   "execution_count": 1,
   "id": "ee178e09-2be8-4fda-b87b-5ec639b37275",
   "metadata": {},
   "outputs": [],
   "source": [
    "import psycopg2"
   ]
  },
  {
   "cell_type": "code",
   "execution_count": 2,
   "id": "0c12e6d7-6873-4e2d-b6ce-c6b3ba7fbe92",
   "metadata": {},
   "outputs": [],
   "source": [
    "# Connect to your postgres DB\n",
    "conn = psycopg2.connect(\"dbname=test user=funka password=funka\")"
   ]
  },
  {
   "cell_type": "code",
   "execution_count": 3,
   "id": "4d83dfb7-5b8e-4dc8-894b-3d78a50233bb",
   "metadata": {},
   "outputs": [],
   "source": [
    "# Open a cursor to perform database operations\n",
    "cur = conn.cursor()"
   ]
  },
  {
   "cell_type": "markdown",
   "id": "fd18f359-8556-420a-acc7-cac7537e905e",
   "metadata": {},
   "source": [
    "BETWEEN\n",
    " - The BETWEEN operator selects values within a given range. The values can be numbers, text, or dates.\n",
    " - The BETWEEN operator is inclusive: begin and end values are included."
   ]
  },
  {
   "cell_type": "markdown",
   "id": "10bca6a7-9a5f-41bb-a418-fb076339036b",
   "metadata": {},
   "source": [
    "Select all products with a price between 10 and 15:"
   ]
  },
  {
   "cell_type": "code",
   "execution_count": 5,
   "id": "f96a062e-e7b7-4470-b404-bb861814da2a",
   "metadata": {},
   "outputs": [],
   "source": [
    "# Execute a query\n",
    "cur.execute('''SELECT * FROM Products\n",
    "WHERE Price BETWEEN 10 AND 15;''')"
   ]
  },
  {
   "cell_type": "code",
   "execution_count": 6,
   "id": "46e919b8-2547-4b4e-a9db-9dd7c5e3d12b",
   "metadata": {},
   "outputs": [],
   "source": [
    "# Retrieve query results\n",
    "records = cur.fetchall()"
   ]
  },
  {
   "cell_type": "code",
   "execution_count": 7,
   "id": "9e81d785-6f91-4936-aa3a-626b6df7b589",
   "metadata": {},
   "outputs": [
    {
     "data": {
      "text/plain": [
       "[(3, 'Aniseed Syrup', 2, '12 - 550 ml bottles', Decimal('10.00')),\n",
       " (21, 'Sir Rodneys Scones', 3, '24 pkgs. x 4 pieces', Decimal('10.00')),\n",
       " (25, 'NuNuCa Nui-Nougat-Creme', 3, '20 - 450 g glasses', Decimal('14.00')),\n",
       " (31, 'Gorgonzola Telino', 4, '12 - 100 g pkgs', Decimal('12.50')),\n",
       " (34, 'Sasquatch Ale', 1, '24 - 12 oz bottles', Decimal('14.00')),\n",
       " (42, 'Singaporean Hokkien Fried Mee', 5, '32 - 1 kg pkgs.', Decimal('14.00')),\n",
       " (46, 'Spegesild', 8, '4 - 450 g glasses', Decimal('12.00')),\n",
       " (48, 'Chocolade', 3, '10 pkgs.', Decimal('12.75')),\n",
       " (58, 'Escargots de Bourgogne', 8, '24 pieces', Decimal('13.25')),\n",
       " (67, 'Laughing Lumberjack Lager', 1, '24 - 12 oz bottles', Decimal('14.00')),\n",
       " (68, 'Scottish Longbreads', 3, '10 boxes x 8 pieces', Decimal('12.50')),\n",
       " (70, 'Outback Lager', 1, '24 - 355 ml bottles', Decimal('15.00')),\n",
       " (73, 'Red Kaviar', 8, '24 - 150 g jars', Decimal('15.00')),\n",
       " (74, 'Longlife Tofu', 7, '5 kg pkg.', Decimal('10.00')),\n",
       " (77, 'Original Frankfurter grőne Soae', 2, '12 boxes', Decimal('13.00'))]"
      ]
     },
     "execution_count": 7,
     "metadata": {},
     "output_type": "execute_result"
    }
   ],
   "source": [
    "records"
   ]
  },
  {
   "cell_type": "markdown",
   "id": "6c82f362-a270-4dea-910c-fb5e62803e67",
   "metadata": {},
   "source": [
    "- The BETWEEN operator can also be used on text values.\n",
    "- The result returns all records that are alphabetically between the specified values."
   ]
  },
  {
   "cell_type": "markdown",
   "id": "780a4ec4-b24b-4a50-8027-9f076a7758cb",
   "metadata": {},
   "source": [
    "Select all products between 'Pavlova' and 'Tofu':"
   ]
  },
  {
   "cell_type": "code",
   "execution_count": 8,
   "id": "13ea3983-0d04-43b1-a12e-98155f155c60",
   "metadata": {},
   "outputs": [],
   "source": [
    "# Execute a query\n",
    "cur.execute('''SELECT * FROM Products\n",
    "WHERE product_name BETWEEN 'Pavlova' AND 'Tofu';''')"
   ]
  },
  {
   "cell_type": "code",
   "execution_count": 9,
   "id": "0c7d8861-600a-4b80-8f08-e799d0becd0c",
   "metadata": {},
   "outputs": [],
   "source": [
    "# Retrieve query results\n",
    "records = cur.fetchall()"
   ]
  },
  {
   "cell_type": "code",
   "execution_count": 10,
   "id": "fa4e9611-7ffa-43b3-af42-0acf347274a4",
   "metadata": {},
   "outputs": [
    {
     "data": {
      "text/plain": [
       "[(11, 'Queso Cabrales', 4, '1 kg pkg.', Decimal('21.00')),\n",
       " (12, 'Queso Manchego La Pastora', 4, '10 - 500 g pkgs.', Decimal('38.00')),\n",
       " (14, 'Tofu', 7, '40 - 100 g pkgs.', Decimal('23.25')),\n",
       " (16, 'Pavlova', 3, '32 - 500 g boxes', Decimal('17.45')),\n",
       " (19,\n",
       "  'Teatime Chocolate Biscuits',\n",
       "  3,\n",
       "  '10 boxes x 12 pieces',\n",
       "  Decimal('9.20')),\n",
       " (20, 'Sir Rodneys Marmalade', 3, '30 gift boxes', Decimal('81.00')),\n",
       " (21, 'Sir Rodneys Scones', 3, '24 pkgs. x 4 pieces', Decimal('10.00')),\n",
       " (27, 'Schoggi Schokolade', 3, '100 - 100 g pieces', Decimal('43.90')),\n",
       " (28, 'Rassle Sauerkraut', 7, '25 - 825 g cans', Decimal('45.60')),\n",
       " (29, 'Thoringer Rostbratwurst', 6, '50 bags x 30 sausgs.', Decimal('123.79')),\n",
       " (34, 'Sasquatch Ale', 1, '24 - 12 oz bottles', Decimal('14.00')),\n",
       " (35, 'Steeleye Stout', 1, '24 - 12 oz bottles', Decimal('18.00')),\n",
       " (42, 'Singaporean Hokkien Fried Mee', 5, '32 - 1 kg pkgs.', Decimal('14.00')),\n",
       " (45, 'Rogede sild', 8, '1k pkg.', Decimal('9.50')),\n",
       " (46, 'Spegesild', 8, '4 - 450 g glasses', Decimal('12.00')),\n",
       " (53, 'Perth Pasties', 6, '48 pieces', Decimal('32.80')),\n",
       " (57, 'Ravioli Angelo', 5, '24 - 250 g pkgs.', Decimal('19.50')),\n",
       " (59, 'Raclette Courdavault', 4, '5 kg pkg.', Decimal('55.00')),\n",
       " (61, 'Sirop d arable', 2, '24 - 500 ml bottles', Decimal('28.50')),\n",
       " (62, 'Tarte au sucre', 3, '48 pies', Decimal('49.30')),\n",
       " (68, 'Scottish Longbreads', 3, '10 boxes x 8 pieces', Decimal('12.50')),\n",
       " (73, 'Red Kaviar', 8, '24 - 150 g jars', Decimal('15.00')),\n",
       " (75, 'Rhenbreu Klosterbier', 1, '24 - 0.5 l bottles', Decimal('7.75'))]"
      ]
     },
     "execution_count": 10,
     "metadata": {},
     "output_type": "execute_result"
    }
   ],
   "source": [
    "records"
   ]
  },
  {
   "cell_type": "markdown",
   "id": "d327b5dd-0075-4206-a3b6-c89f44ba37c7",
   "metadata": {},
   "source": [
    "Same example as above, but we sort it by product_name:"
   ]
  },
  {
   "cell_type": "code",
   "execution_count": 11,
   "id": "40dc930b-a899-4a99-9c3d-2e1ac76fc87d",
   "metadata": {},
   "outputs": [],
   "source": [
    "# Execute a query\n",
    "cur.execute('''SELECT * FROM Products\n",
    "WHERE product_name BETWEEN 'Pavlova' AND 'Tofu'\n",
    "ORDER BY product_name;''')"
   ]
  },
  {
   "cell_type": "code",
   "execution_count": 12,
   "id": "87d7380f-1e8c-4328-81df-2ce1c16087aa",
   "metadata": {},
   "outputs": [],
   "source": [
    "# Retrieve query results\n",
    "records = cur.fetchall()"
   ]
  },
  {
   "cell_type": "code",
   "execution_count": 13,
   "id": "b6f1edb9-95f8-49e3-b28f-53180c95a744",
   "metadata": {},
   "outputs": [
    {
     "data": {
      "text/plain": [
       "[(16, 'Pavlova', 3, '32 - 500 g boxes', Decimal('17.45')),\n",
       " (53, 'Perth Pasties', 6, '48 pieces', Decimal('32.80')),\n",
       " (11, 'Queso Cabrales', 4, '1 kg pkg.', Decimal('21.00')),\n",
       " (12, 'Queso Manchego La Pastora', 4, '10 - 500 g pkgs.', Decimal('38.00')),\n",
       " (59, 'Raclette Courdavault', 4, '5 kg pkg.', Decimal('55.00')),\n",
       " (28, 'Rassle Sauerkraut', 7, '25 - 825 g cans', Decimal('45.60')),\n",
       " (57, 'Ravioli Angelo', 5, '24 - 250 g pkgs.', Decimal('19.50')),\n",
       " (73, 'Red Kaviar', 8, '24 - 150 g jars', Decimal('15.00')),\n",
       " (75, 'Rhenbreu Klosterbier', 1, '24 - 0.5 l bottles', Decimal('7.75')),\n",
       " (45, 'Rogede sild', 8, '1k pkg.', Decimal('9.50')),\n",
       " (34, 'Sasquatch Ale', 1, '24 - 12 oz bottles', Decimal('14.00')),\n",
       " (27, 'Schoggi Schokolade', 3, '100 - 100 g pieces', Decimal('43.90')),\n",
       " (68, 'Scottish Longbreads', 3, '10 boxes x 8 pieces', Decimal('12.50')),\n",
       " (42, 'Singaporean Hokkien Fried Mee', 5, '32 - 1 kg pkgs.', Decimal('14.00')),\n",
       " (20, 'Sir Rodneys Marmalade', 3, '30 gift boxes', Decimal('81.00')),\n",
       " (21, 'Sir Rodneys Scones', 3, '24 pkgs. x 4 pieces', Decimal('10.00')),\n",
       " (61, 'Sirop d arable', 2, '24 - 500 ml bottles', Decimal('28.50')),\n",
       " (46, 'Spegesild', 8, '4 - 450 g glasses', Decimal('12.00')),\n",
       " (35, 'Steeleye Stout', 1, '24 - 12 oz bottles', Decimal('18.00')),\n",
       " (62, 'Tarte au sucre', 3, '48 pies', Decimal('49.30')),\n",
       " (19,\n",
       "  'Teatime Chocolate Biscuits',\n",
       "  3,\n",
       "  '10 boxes x 12 pieces',\n",
       "  Decimal('9.20')),\n",
       " (29, 'Thoringer Rostbratwurst', 6, '50 bags x 30 sausgs.', Decimal('123.79')),\n",
       " (14, 'Tofu', 7, '40 - 100 g pkgs.', Decimal('23.25'))]"
      ]
     },
     "execution_count": 13,
     "metadata": {},
     "output_type": "execute_result"
    }
   ],
   "source": [
    "records"
   ]
  },
  {
   "cell_type": "markdown",
   "id": "3bcb4c80-9f07-4870-a21f-7b20179b560e",
   "metadata": {},
   "source": [
    "The BETWEEN operator can also be used on date values."
   ]
  },
  {
   "cell_type": "code",
   "execution_count": 14,
   "id": "5c737777-2716-4107-87cc-edeb17d40ae4",
   "metadata": {},
   "outputs": [],
   "source": [
    "# Execute a query\n",
    "cur.execute('''SELECT * FROM orders\n",
    "WHERE order_date BETWEEN '2023-04-12' AND '2023-05-05';''')"
   ]
  },
  {
   "cell_type": "code",
   "execution_count": 15,
   "id": "31c59d31-ef3c-49e1-8011-be4497f4806b",
   "metadata": {},
   "outputs": [],
   "source": [
    "# Retrieve query results\n",
    "records = cur.fetchall()"
   ]
  },
  {
   "cell_type": "code",
   "execution_count": 16,
   "id": "781a3532-fdf1-4ced-9041-9ca9dc1e049d",
   "metadata": {},
   "outputs": [
    {
     "data": {
      "text/plain": [
       "[(11017, 20, datetime.date(2023, 4, 13)),\n",
       " (11018, 48, datetime.date(2023, 4, 13)),\n",
       " (11019, 64, datetime.date(2023, 4, 13)),\n",
       " (11020, 56, datetime.date(2023, 4, 14)),\n",
       " (11021, 63, datetime.date(2023, 4, 14)),\n",
       " (11022, 34, datetime.date(2023, 4, 14)),\n",
       " (11023, 11, datetime.date(2023, 4, 14)),\n",
       " (11024, 19, datetime.date(2023, 4, 15)),\n",
       " (11025, 87, datetime.date(2023, 4, 15)),\n",
       " (11026, 27, datetime.date(2023, 4, 15)),\n",
       " (11027, 10, datetime.date(2023, 4, 16)),\n",
       " (11028, 39, datetime.date(2023, 4, 16)),\n",
       " (11029, 14, datetime.date(2023, 4, 16)),\n",
       " (11030, 71, datetime.date(2023, 4, 17)),\n",
       " (11031, 71, datetime.date(2023, 4, 17)),\n",
       " (11032, 89, datetime.date(2023, 4, 17)),\n",
       " (11033, 68, datetime.date(2023, 4, 17)),\n",
       " (11034, 55, datetime.date(2023, 4, 20)),\n",
       " (11035, 76, datetime.date(2023, 4, 20)),\n",
       " (11036, 17, datetime.date(2023, 4, 20)),\n",
       " (11037, 30, datetime.date(2023, 4, 21)),\n",
       " (11038, 76, datetime.date(2023, 4, 21)),\n",
       " (11039, 47, datetime.date(2023, 4, 21)),\n",
       " (11040, 32, datetime.date(2023, 4, 22)),\n",
       " (11041, 14, datetime.date(2023, 4, 22)),\n",
       " (11042, 15, datetime.date(2023, 4, 22)),\n",
       " (11043, 74, datetime.date(2023, 4, 22)),\n",
       " (11044, 91, datetime.date(2023, 4, 23)),\n",
       " (11045, 10, datetime.date(2023, 4, 23)),\n",
       " (11046, 86, datetime.date(2023, 4, 23)),\n",
       " (11047, 19, datetime.date(2023, 4, 24)),\n",
       " (11048, 10, datetime.date(2023, 4, 24)),\n",
       " (11049, 31, datetime.date(2023, 4, 24)),\n",
       " (11050, 24, datetime.date(2023, 4, 27)),\n",
       " (11051, 41, datetime.date(2023, 4, 27)),\n",
       " (11052, 34, datetime.date(2023, 4, 27)),\n",
       " (11053, 59, datetime.date(2023, 4, 27)),\n",
       " (11054, 12, datetime.date(2023, 4, 28)),\n",
       " (11055, 35, datetime.date(2023, 4, 28)),\n",
       " (11056, 19, datetime.date(2023, 4, 28)),\n",
       " (11057, 53, datetime.date(2023, 4, 29)),\n",
       " (11058, 6, datetime.date(2023, 4, 29)),\n",
       " (11059, 67, datetime.date(2023, 4, 29)),\n",
       " (11060, 27, datetime.date(2023, 4, 30)),\n",
       " (11061, 32, datetime.date(2023, 4, 30)),\n",
       " (11062, 66, datetime.date(2023, 4, 30)),\n",
       " (11063, 37, datetime.date(2023, 4, 30)),\n",
       " (11064, 71, datetime.date(2023, 5, 1)),\n",
       " (11065, 46, datetime.date(2023, 5, 1)),\n",
       " (11066, 89, datetime.date(2023, 5, 1)),\n",
       " (11067, 17, datetime.date(2023, 5, 4)),\n",
       " (11068, 62, datetime.date(2023, 5, 4)),\n",
       " (11069, 80, datetime.date(2023, 5, 4)),\n",
       " (11070, 44, datetime.date(2023, 5, 5)),\n",
       " (11071, 46, datetime.date(2023, 5, 5)),\n",
       " (11072, 20, datetime.date(2023, 5, 5)),\n",
       " (11073, 58, datetime.date(2023, 5, 5))]"
      ]
     },
     "execution_count": 16,
     "metadata": {},
     "output_type": "execute_result"
    }
   ],
   "source": [
    "records"
   ]
  },
  {
   "cell_type": "code",
   "execution_count": null,
   "id": "f16f5720-f482-4602-b759-387e9bd4fb7a",
   "metadata": {},
   "outputs": [],
   "source": []
  }
 ],
 "metadata": {
  "kernelspec": {
   "display_name": "Python 3 (ipykernel)",
   "language": "python",
   "name": "python3"
  },
  "language_info": {
   "codemirror_mode": {
    "name": "ipython",
    "version": 3
   },
   "file_extension": ".py",
   "mimetype": "text/x-python",
   "name": "python",
   "nbconvert_exporter": "python",
   "pygments_lexer": "ipython3",
   "version": "3.12.1"
  }
 },
 "nbformat": 4,
 "nbformat_minor": 5
}
