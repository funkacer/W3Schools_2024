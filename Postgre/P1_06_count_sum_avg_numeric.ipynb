{
 "cells": [
  {
   "cell_type": "code",
   "execution_count": 3,
   "id": "ee178e09-2be8-4fda-b87b-5ec639b37275",
   "metadata": {},
   "outputs": [],
   "source": [
    "import psycopg2"
   ]
  },
  {
   "cell_type": "code",
   "execution_count": 4,
   "id": "0c12e6d7-6873-4e2d-b6ce-c6b3ba7fbe92",
   "metadata": {},
   "outputs": [],
   "source": [
    "# Connect to your postgres DB\n",
    "conn = psycopg2.connect(\"dbname=test user=funka password=funka\")"
   ]
  },
  {
   "cell_type": "code",
   "execution_count": 5,
   "id": "4d83dfb7-5b8e-4dc8-894b-3d78a50233bb",
   "metadata": {},
   "outputs": [],
   "source": [
    "# Open a cursor to perform database operations\n",
    "cur = conn.cursor()"
   ]
  },
  {
   "cell_type": "code",
   "execution_count": 6,
   "id": "83c30f04-2b39-4cfb-9e7a-3904c3bc2c52",
   "metadata": {},
   "outputs": [],
   "source": [
    "# Execute a query\n",
    "cur.execute('''SELECT COUNT(customer_id)\n",
    "FROM customers;''')"
   ]
  },
  {
   "cell_type": "code",
   "execution_count": 7,
   "id": "46e919b8-2547-4b4e-a9db-9dd7c5e3d12b",
   "metadata": {},
   "outputs": [],
   "source": [
    "# Retrieve query results\n",
    "records = cur.fetchall()"
   ]
  },
  {
   "cell_type": "code",
   "execution_count": 8,
   "id": "9e81d785-6f91-4936-aa3a-626b6df7b589",
   "metadata": {},
   "outputs": [
    {
     "data": {
      "text/plain": [
       "[(91,)]"
      ]
     },
     "execution_count": 8,
     "metadata": {},
     "output_type": "execute_result"
    }
   ],
   "source": [
    "records"
   ]
  },
  {
   "cell_type": "markdown",
   "id": "53924d53-78a0-4b75-a722-6fadc0f37611",
   "metadata": {},
   "source": [
    "Note: NULL values are not counted."
   ]
  },
  {
   "cell_type": "markdown",
   "id": "673c4bc6-7d1e-40a9-8121-a76e11f79de9",
   "metadata": {},
   "source": [
    "SELECT COUNT(DISTINCT)\n",
    "- We can also use the DISTINCT keyword in combination with the COUNT statement, which in the example below will return the number of different countries there are in the customers table."
   ]
  },
  {
   "cell_type": "markdown",
   "id": "5b30b2cb-f5f6-40e2-be24-659f942b72e5",
   "metadata": {},
   "source": [
    "Return the number of different countries there are in the customers table:"
   ]
  },
  {
   "cell_type": "code",
   "execution_count": 9,
   "id": "a8b56c10-bc60-412a-a19c-edc675039ffa",
   "metadata": {},
   "outputs": [],
   "source": [
    "# Execute a query\n",
    "cur.execute('''SELECT COUNT(DISTINCT country)\n",
    "FROM customers;''')"
   ]
  },
  {
   "cell_type": "code",
   "execution_count": 10,
   "id": "29060dc5-9373-4a87-9871-8319c6abff1b",
   "metadata": {},
   "outputs": [],
   "source": [
    "# Retrieve query results\n",
    "records = cur.fetchall()"
   ]
  },
  {
   "cell_type": "code",
   "execution_count": 11,
   "id": "7deead92-df61-4cd0-875f-f7f0f9b37fb8",
   "metadata": {},
   "outputs": [
    {
     "data": {
      "text/plain": [
       "[(21,)]"
      ]
     },
     "execution_count": 11,
     "metadata": {},
     "output_type": "execute_result"
    }
   ],
   "source": [
    "records"
   ]
  },
  {
   "cell_type": "markdown",
   "id": "8a8fd82c-4328-455b-bca5-cd0b1270415a",
   "metadata": {},
   "source": [
    "By specifying a WHERE clause, you can e.g. return the number of customers that comes from London:"
   ]
  },
  {
   "cell_type": "code",
   "execution_count": 7,
   "id": "40b02987-bf86-4912-a832-982538621890",
   "metadata": {},
   "outputs": [],
   "source": [
    "# Execute a query\n",
    "cur.execute('''SELECT COUNT(customer_id)\n",
    "FROM customers\n",
    "WHERE city = 'London';''')"
   ]
  },
  {
   "cell_type": "code",
   "execution_count": 8,
   "id": "0c7d8861-600a-4b80-8f08-e799d0becd0c",
   "metadata": {},
   "outputs": [],
   "source": [
    "# Retrieve query results\n",
    "records = cur.fetchall()"
   ]
  },
  {
   "cell_type": "code",
   "execution_count": 9,
   "id": "fa4e9611-7ffa-43b3-af42-0acf347274a4",
   "metadata": {},
   "outputs": [
    {
     "data": {
      "text/plain": [
       "[(6,)]"
      ]
     },
     "execution_count": 9,
     "metadata": {},
     "output_type": "execute_result"
    }
   ],
   "source": [
    "records"
   ]
  },
  {
   "cell_type": "code",
   "execution_count": 10,
   "id": "8fcfc4a9-051b-48f7-95f5-b7e1bf60803d",
   "metadata": {},
   "outputs": [],
   "source": [
    "# Execute a query\n",
    "cur.execute('''SELECT SUM(quantity)\n",
    "FROM order_details;''')"
   ]
  },
  {
   "cell_type": "code",
   "execution_count": 11,
   "id": "45437119-e4ac-4799-b9e9-f08f6c684a38",
   "metadata": {},
   "outputs": [],
   "source": [
    "# Retrieve query results\n",
    "records = cur.fetchall()"
   ]
  },
  {
   "cell_type": "code",
   "execution_count": 12,
   "id": "66bbc625-73d6-47b6-86cc-b7a88df294ad",
   "metadata": {},
   "outputs": [
    {
     "data": {
      "text/plain": [
       "[(51317,)]"
      ]
     },
     "execution_count": 12,
     "metadata": {},
     "output_type": "execute_result"
    }
   ],
   "source": [
    "records"
   ]
  },
  {
   "cell_type": "markdown",
   "id": "cf6f903c-d162-4ce9-971f-e53d6b2fea03",
   "metadata": {},
   "source": [
    "Note: NULL values are ignored."
   ]
  },
  {
   "cell_type": "code",
   "execution_count": 16,
   "id": "a00f7653-1fda-42f3-8ad0-5ff7550e633f",
   "metadata": {},
   "outputs": [],
   "source": [
    "# Execute a query\n",
    "cur.execute('''SELECT AVG(price)\n",
    "FROM products;''')"
   ]
  },
  {
   "cell_type": "code",
   "execution_count": 17,
   "id": "745b80fc-5ff9-4244-a78f-079b27309440",
   "metadata": {},
   "outputs": [],
   "source": [
    "# Retrieve query results\n",
    "records = cur.fetchall()"
   ]
  },
  {
   "cell_type": "code",
   "execution_count": 18,
   "id": "4357e2ca-efa5-4096-8963-207f8fcbac30",
   "metadata": {},
   "outputs": [
    {
     "data": {
      "text/plain": [
       "[(Decimal('28.8663636363636364'),)]"
      ]
     },
     "execution_count": 18,
     "metadata": {},
     "output_type": "execute_result"
    }
   ],
   "source": [
    "records"
   ]
  },
  {
   "cell_type": "markdown",
   "id": "e957bef4-14dd-45c2-b875-bb3871957631",
   "metadata": {},
   "source": [
    "Note: NULL values are ignored."
   ]
  },
  {
   "cell_type": "markdown",
   "id": "a879e287-7b8b-4de0-be3c-548de6037d3e",
   "metadata": {},
   "source": [
    "With 2 Decimals:\n",
    "We can use the ::NUMERIC operator to round the average price to a number with 2 decimals:"
   ]
  },
  {
   "cell_type": "code",
   "execution_count": 19,
   "id": "0c9f8975-036a-44ae-9ee5-bc537aa8522f",
   "metadata": {},
   "outputs": [],
   "source": [
    "# Execute a query\n",
    "cur.execute('''SELECT AVG(price)::NUMERIC(10,2)\n",
    "FROM products;''')"
   ]
  },
  {
   "cell_type": "code",
   "execution_count": 20,
   "id": "975b5ba1-c511-4dc6-9544-eff472d9bc7e",
   "metadata": {},
   "outputs": [],
   "source": [
    "# Retrieve query results\n",
    "records = cur.fetchall()"
   ]
  },
  {
   "cell_type": "code",
   "execution_count": 21,
   "id": "6b618aec-1b33-4ab0-a028-ba3038e37c64",
   "metadata": {},
   "outputs": [
    {
     "data": {
      "text/plain": [
       "[(Decimal('28.87'),)]"
      ]
     },
     "execution_count": 21,
     "metadata": {},
     "output_type": "execute_result"
    }
   ],
   "source": [
    "records"
   ]
  },
  {
   "cell_type": "code",
   "execution_count": null,
   "id": "d3cf6828-4b7d-4530-adef-087e88781159",
   "metadata": {},
   "outputs": [],
   "source": []
  }
 ],
 "metadata": {
  "kernelspec": {
   "display_name": "Python 3 (ipykernel)",
   "language": "python",
   "name": "python3"
  },
  "language_info": {
   "codemirror_mode": {
    "name": "ipython",
    "version": 3
   },
   "file_extension": ".py",
   "mimetype": "text/x-python",
   "name": "python",
   "nbconvert_exporter": "python",
   "pygments_lexer": "ipython3",
   "version": "3.12.1"
  }
 },
 "nbformat": 4,
 "nbformat_minor": 5
}
